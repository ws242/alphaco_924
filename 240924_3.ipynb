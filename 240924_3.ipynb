{
 "cells": [
  {
   "cell_type": "markdown",
   "id": "a0410fdb-a5d1-41de-9358-fd8c20ac0bca",
   "metadata": {},
   "source": [
    "## 논리연산\n",
    "- True, False"
   ]
  },
  {
   "cell_type": "code",
   "execution_count": 1,
   "id": "6b520d0b-3901-4211-9d87-f608ffa2ef0d",
   "metadata": {},
   "outputs": [
    {
     "name": "stdout",
     "output_type": "stream",
     "text": [
      "True\n"
     ]
    }
   ],
   "source": [
    "print(True)"
   ]
  },
  {
   "cell_type": "code",
   "execution_count": 2,
   "id": "5126ea65-845f-4eb5-825a-10b79bb56fe8",
   "metadata": {},
   "outputs": [
    {
     "name": "stdout",
     "output_type": "stream",
     "text": [
      "False\n"
     ]
    }
   ],
   "source": [
    "print(False)"
   ]
  },
  {
   "cell_type": "code",
   "execution_count": 3,
   "id": "5e4c14a2-872e-4376-a22d-027a4b452d08",
   "metadata": {},
   "outputs": [
    {
     "data": {
      "text/plain": [
       "bool"
      ]
     },
     "execution_count": 3,
     "metadata": {},
     "output_type": "execute_result"
    }
   ],
   "source": [
    "type(True)"
   ]
  },
  {
   "cell_type": "code",
   "execution_count": 4,
   "id": "e9e6b2ca-ab45-4cb1-99a1-60f97b196510",
   "metadata": {},
   "outputs": [
    {
     "name": "stdout",
     "output_type": "stream",
     "text": [
      "True\n",
      "False\n",
      "False\n"
     ]
    }
   ],
   "source": [
    "print(True and True)\n",
    "print(False and True)\n",
    "print(False and True)"
   ]
  },
  {
   "cell_type": "code",
   "execution_count": 5,
   "id": "f95bac19-6533-4681-b9ef-bf02f5052f39",
   "metadata": {},
   "outputs": [
    {
     "name": "stdout",
     "output_type": "stream",
     "text": [
      "True\n",
      "True\n",
      "True\n"
     ]
    }
   ],
   "source": [
    "print(True or True)\n",
    "print(False or True)\n",
    "print(False or True)"
   ]
  },
  {
   "cell_type": "code",
   "execution_count": 6,
   "id": "8e51bfc7-c815-4689-aa43-18d117b41719",
   "metadata": {},
   "outputs": [
    {
     "data": {
      "text/plain": [
       "False"
      ]
     },
     "execution_count": 6,
     "metadata": {},
     "output_type": "execute_result"
    }
   ],
   "source": [
    "5 == 3"
   ]
  },
  {
   "cell_type": "markdown",
   "id": "c34e3a61-7e70-4db9-a15e-032186db0c12",
   "metadata": {},
   "source": [
    "# 입력과 출력\n",
    "- 입력 : input()"
   ]
  },
  {
   "cell_type": "code",
   "execution_count": null,
   "id": "a0a6a506",
   "metadata": {},
   "outputs": [],
   "source": []
  },
  {
   "cell_type": "code",
   "execution_count": 7,
   "id": "333fb319-a121-48a9-bc71-a1bb7b42026c",
   "metadata": {},
   "outputs": [
    {
     "name": "stdout",
     "output_type": "stream",
     "text": [
      "임의의 값을 입력하세요 10\n"
     ]
    },
    {
     "name": "stdout",
     "output_type": "stream",
     "text": [
      "10\n"
     ]
    }
   ],
   "source": [
    "X = input(\"임의의 값을 입력하세요\")\n",
    "print(X)"
   ]
  },
  {
   "cell_type": "code",
   "execution_count": 14,
   "id": "854af4f1-ff96-4caf-9180-4db34586f8da",
   "metadata": {},
   "outputs": [
    {
     "name": "stdout",
     "output_type": "stream",
     "text": [
      "2\n"
     ]
    }
   ],
   "source": [
    "x=1\n",
    "y=1\n",
    "\n",
    "print(x+y)"
   ]
  },
  {
   "cell_type": "code",
   "execution_count": 11,
   "id": "944967b4-76f7-4a41-bfb9-08bca46d7cb5",
   "metadata": {},
   "outputs": [
    {
     "name": "stdout",
     "output_type": "stream",
     "text": [
      "임의의 숫자를 입력하세요 1\n",
      "임의의 숫자를 입력하세요 1\n"
     ]
    },
    {
     "name": "stdout",
     "output_type": "stream",
     "text": [
      "<class 'str'> <class 'str'>\n",
      "11\n"
     ]
    }
   ],
   "source": [
    "x = input(\"임의의 숫자를 입력하세요\")\n",
    "y = input(\"임의의 숫자를 입력하세요\") \n",
    "\n",
    "print(type(x), type(y))\n",
    "print(x+y)"
   ]
  },
  {
   "cell_type": "markdown",
   "id": "5aa4b89a-242f-43f7-bcfc-9612d2cdfe90",
   "metadata": {},
   "source": [
    "## 데이터 형 변환\n",
    "- 문자를 숫자로, 숫자를 문자로, A 자료형에서 D 자료형으로\n",
    "- 대부분이 클래스 or 함수 활용 형변환"
   ]
  },
  {
   "cell_type": "code",
   "execution_count": 12,
   "id": "2b1a7621-cf3d-4fb5-9bc0-9f042137669a",
   "metadata": {},
   "outputs": [
    {
     "name": "stdout",
     "output_type": "stream",
     "text": [
      "임의의 숫자를 입력하세요 1\n",
      "임의의 숫자를 입력하세요 1\n"
     ]
    },
    {
     "name": "stdout",
     "output_type": "stream",
     "text": [
      "<class 'int'> <class 'int'>\n",
      "2\n"
     ]
    }
   ],
   "source": [
    "x = int(input(\"임의의 숫자를 입력하세요\"))\n",
    "y = int(input(\"임의의 숫자를 입력하세요\")) \n",
    "\n",
    "print(type(x), type(y))\n",
    "print(x+y)"
   ]
  },
  {
   "cell_type": "code",
   "execution_count": 13,
   "id": "7e031a6f-bbe6-490c-b361-befca83edc05",
   "metadata": {},
   "outputs": [
    {
     "name": "stdout",
     "output_type": "stream",
     "text": [
      "임의의 숫자를 입력하세요 1\n",
      "임의의 숫자를 입력하세요 1\n"
     ]
    },
    {
     "name": "stdout",
     "output_type": "stream",
     "text": [
      "<class 'float'> <class 'float'>\n",
      "2.0\n"
     ]
    }
   ],
   "source": [
    "x = float(input(\"임의의 숫자를 입력하세요\"))\n",
    "y = float(input(\"임의의 숫자를 입력하세요\")) \n",
    "\n",
    "print(type(x), type(y))\n",
    "print(x+y)"
   ]
  },
  {
   "cell_type": "markdown",
   "id": "ec1606b8-8dc7-4b08-a1d1-de6aa2d84dee",
   "metadata": {},
   "source": [
    "# Q&A"
   ]
  },
  {
   "cell_type": "code",
   "execution_count": 15,
   "id": "cf0eafe5-142a-41b2-9ed0-849fc1b8b519",
   "metadata": {},
   "outputs": [
    {
     "data": {
      "text/plain": [
       "3.3"
      ]
     },
     "execution_count": 15,
     "metadata": {},
     "output_type": "execute_result"
    }
   ],
   "source": [
    "# 문자열\n",
    "a='3.3'\n",
    "float(a)"
   ]
  },
  {
   "cell_type": "code",
   "execution_count": 16,
   "id": "2b612541-3e22-4a04-a351-667b3c0deb47",
   "metadata": {},
   "outputs": [
    {
     "ename": "ValueError",
     "evalue": "invalid literal for int() with base 10: '3.3'",
     "output_type": "error",
     "traceback": [
      "\u001b[1;31m---------------------------------------------------------------------------\u001b[0m",
      "\u001b[1;31mValueError\u001b[0m                                Traceback (most recent call last)",
      "Cell \u001b[1;32mIn[16], line 3\u001b[0m\n\u001b[0;32m      1\u001b[0m \u001b[38;5;66;03m# 문자열\u001b[39;00m\n\u001b[0;32m      2\u001b[0m a\u001b[38;5;241m=\u001b[39m\u001b[38;5;124m'\u001b[39m\u001b[38;5;124m3.3\u001b[39m\u001b[38;5;124m'\u001b[39m\n\u001b[1;32m----> 3\u001b[0m \u001b[38;5;28;43mint\u001b[39;49m\u001b[43m(\u001b[49m\u001b[43ma\u001b[49m\u001b[43m)\u001b[49m\n",
      "\u001b[1;31mValueError\u001b[0m: invalid literal for int() with base 10: '3.3'"
     ]
    }
   ],
   "source": [
    "# 문자열\n",
    "a='3.3'\n",
    "int(a)"
   ]
  },
  {
   "cell_type": "code",
   "execution_count": 17,
   "id": "4ebd37e2-990b-401d-95f7-0e91cb36c680",
   "metadata": {},
   "outputs": [
    {
     "data": {
      "text/plain": [
       "3"
      ]
     },
     "execution_count": 17,
     "metadata": {},
     "output_type": "execute_result"
    }
   ],
   "source": [
    "a='3.3'\n",
    "int(float(a))"
   ]
  },
  {
   "cell_type": "markdown",
   "id": "ecf377d9-8f41-4e11-8db0-635c1321dd6a",
   "metadata": {},
   "source": [
    "# String"
   ]
  },
  {
   "cell_type": "code",
   "execution_count": 20,
   "id": "169d47b7-83eb-40e0-a333-a864d9be4c72",
   "metadata": {},
   "outputs": [
    {
     "name": "stdout",
     "output_type": "stream",
     "text": [
      "abcdefkgf\n"
     ]
    }
   ],
   "source": [
    "a = \"abc\"\n",
    "b = 'def'\n",
    "c = \"kgf\"\n",
    "\n",
    "result = a + b + c\n",
    "print(result)"
   ]
  },
  {
   "cell_type": "code",
   "execution_count": 21,
   "id": "9ea9f607-71b9-48ef-ba76-f18975f802b5",
   "metadata": {},
   "outputs": [
    {
     "data": {
      "text/plain": [
       "'abcdefkgfabcdefkgfabcdefkgf'"
      ]
     },
     "execution_count": 21,
     "metadata": {},
     "output_type": "execute_result"
    }
   ],
   "source": [
    "result * 3"
   ]
  },
  {
   "cell_type": "code",
   "execution_count": 22,
   "id": "1bfd2150-ce77-40da-beb9-4b1daae62d98",
   "metadata": {},
   "outputs": [
    {
     "name": "stdout",
     "output_type": "stream",
     "text": [
      "\n",
      "asd\n",
      "fds\n",
      "grw\n",
      "sdf\n",
      "\n"
     ]
    }
   ],
   "source": [
    "a = \"\"\"\n",
    "asd\n",
    "fds\n",
    "grw\n",
    "sdf\n",
    "\"\"\"\n",
    "\n",
    "print(a)"
   ]
  },
  {
   "cell_type": "markdown",
   "id": "0663b47f-c39d-42cb-b585-40b1915f4f74",
   "metadata": {},
   "source": [
    "## 문자열 포맷팅\n",
    "- f-string 포맷팅 문자열 만들기"
   ]
  },
  {
   "cell_type": "code",
   "execution_count": 23,
   "id": "926ce2d2-f437-434c-b410-4ab063d91bb0",
   "metadata": {},
   "outputs": [
    {
     "name": "stdout",
     "output_type": "stream",
     "text": [
      "<class 'str'> 안녕하세요, 저는 숫자 1 입니다.\n"
     ]
    }
   ],
   "source": [
    "x = 1\n",
    "a = f'안녕하세요, 저는 숫자 {x} 입니다.'\n",
    "print(type(a), a)"
   ]
  },
  {
   "cell_type": "markdown",
   "id": "74990f19-51df-4d75-a166-edb75ebd23f9",
   "metadata": {},
   "source": [
    "## 인덱싱\n",
    "- 인덱싱은 0부터 시작"
   ]
  },
  {
   "cell_type": "code",
   "execution_count": 29,
   "id": "e984cd2e-61a9-45c8-9248-7d1293d70fbd",
   "metadata": {},
   "outputs": [
    {
     "name": "stdout",
     "output_type": "stream",
     "text": [
      "23\n"
     ]
    }
   ],
   "source": [
    "a = \"안녕하세요, 저는 파이썬 수강생 알파코입니다\"\n",
    "print(len(a)-1)"
   ]
  },
  {
   "cell_type": "code",
   "execution_count": 30,
   "id": "05b95393-b31d-41f8-8fa6-2f82a17b6a44",
   "metadata": {},
   "outputs": [
    {
     "data": {
      "text/plain": [
       "'다'"
      ]
     },
     "execution_count": 30,
     "metadata": {},
     "output_type": "execute_result"
    }
   ],
   "source": [
    "a[len(a)-1] -> 맨 끝 글자 가져오기"
   ]
  },
  {
   "cell_type": "code",
   "execution_count": 31,
   "id": "fe861d7e-7b55-4314-ab2d-1126c8b998d8",
   "metadata": {},
   "outputs": [
    {
     "data": {
      "text/plain": [
       "'세'"
      ]
     },
     "execution_count": 31,
     "metadata": {},
     "output_type": "execute_result"
    }
   ],
   "source": [
    "a[3]"
   ]
  },
  {
   "cell_type": "markdown",
   "id": "57bb3090-cb42-4ff4-8ede-9f1f15fe6e9e",
   "metadata": {},
   "source": [
    "## 슬라이싱"
   ]
  },
  {
   "cell_type": "code",
   "execution_count": 32,
   "id": "1dc3c08e-21c6-4abe-a137-af57765e1f4f",
   "metadata": {},
   "outputs": [
    {
     "name": "stdout",
     "output_type": "stream",
     "text": [
      "안녕하세요, 저는 \n"
     ]
    }
   ],
   "source": [
    "a = \"안녕하세요, 저는 파이썬 수강생 알파코입니다\"\n",
    "print(a[0:10])"
   ]
  },
  {
   "cell_type": "code",
   "execution_count": 33,
   "id": "276bd548-17df-441d-9fbe-4063d785c2c0",
   "metadata": {},
   "outputs": [
    {
     "name": "stdout",
     "output_type": "stream",
     "text": [
      "01234567\n"
     ]
    }
   ],
   "source": [
    "a = '0123456789'\n",
    "print(a[0:8])"
   ]
  },
  {
   "cell_type": "code",
   "execution_count": 34,
   "id": "539e78da-ec57-4a05-91c8-4b8736315015",
   "metadata": {},
   "outputs": [
    {
     "name": "stdout",
     "output_type": "stream",
     "text": [
      "0246\n"
     ]
    }
   ],
   "source": [
    "a = '0123456789'\n",
    "print(a[0:8:2])"
   ]
  },
  {
   "cell_type": "code",
   "execution_count": 37,
   "id": "11835274-d00d-4e87-a046-9aced1435a5e",
   "metadata": {},
   "outputs": [
    {
     "name": "stdout",
     "output_type": "stream",
     "text": [
      "6789\n",
      "012345\n"
     ]
    }
   ],
   "source": [
    "a = '0123456789'\n",
    "print(a[6:])\n",
    "print(a[:6])"
   ]
  },
  {
   "cell_type": "markdown",
   "id": "f05b2110-9ee5-4fab-805d-37f80e94114d",
   "metadata": {},
   "source": [
    "## 문자열 수정"
   ]
  },
  {
   "cell_type": "code",
   "execution_count": null,
   "id": "675aa2c1-fd60-48b6-ad2d-39ddc8fb05ae",
   "metadata": {},
   "outputs": [],
   "source": [
    "a = \"Aython\"\n",
    "\n",
    "# 미션 A를 P로 변경하고 싶음"
   ]
  },
  {
   "cell_type": "code",
   "execution_count": 43,
   "id": "f1594f6e-d215-4388-b363-00e17f88fbfc",
   "metadata": {},
   "outputs": [
    {
     "data": {
      "text/plain": [
       "'Python'"
      ]
     },
     "execution_count": 43,
     "metadata": {},
     "output_type": "execute_result"
    }
   ],
   "source": [
    "a = \"Aython\"\n",
    "\n",
    "'P' + a[1:]"
   ]
  },
  {
   "cell_type": "code",
   "execution_count": 47,
   "id": "84f22f44-1ce5-4482-820a-e9b5fe70a891",
   "metadata": {},
   "outputs": [
    {
     "name": "stdout",
     "output_type": "stream",
     "text": [
      "Python\n"
     ]
    }
   ],
   "source": [
    "a = \"Aython\"\n",
    "\n",
    "result = a.replace(\"A\", \"P\")\n",
    "print(result)"
   ]
  },
  {
   "cell_type": "markdown",
   "id": "ac8ec46f-d476-4646-9f54-70a68ed70637",
   "metadata": {},
   "source": [
    "## 문자열 매서드\n",
    "- 클래스와 클래스 메서드에 대한 이해"
   ]
  },
  {
   "cell_type": "code",
   "execution_count": 48,
   "id": "eb8dd3a2-e30e-4efc-8f87-c1b8bbe2b81b",
   "metadata": {},
   "outputs": [
    {
     "ename": "AttributeError",
     "evalue": "'str' object has no attribute 'Replace'",
     "output_type": "error",
     "traceback": [
      "\u001b[1;31m---------------------------------------------------------------------------\u001b[0m",
      "\u001b[1;31mAttributeError\u001b[0m                            Traceback (most recent call last)",
      "Cell \u001b[1;32mIn[48], line 3\u001b[0m\n\u001b[0;32m      1\u001b[0m a \u001b[38;5;241m=\u001b[39m \u001b[38;5;124m\"\u001b[39m\u001b[38;5;124mAython\u001b[39m\u001b[38;5;124m\"\u001b[39m\n\u001b[1;32m----> 3\u001b[0m result \u001b[38;5;241m=\u001b[39m \u001b[43ma\u001b[49m\u001b[38;5;241;43m.\u001b[39;49m\u001b[43mReplace\u001b[49m(\u001b[38;5;124m\"\u001b[39m\u001b[38;5;124mA\u001b[39m\u001b[38;5;124m\"\u001b[39m, \u001b[38;5;124m\"\u001b[39m\u001b[38;5;124mP\u001b[39m\u001b[38;5;124m\"\u001b[39m)\n\u001b[0;32m      4\u001b[0m \u001b[38;5;28mprint\u001b[39m(result)\n",
      "\u001b[1;31mAttributeError\u001b[0m: 'str' object has no attribute 'Replace'"
     ]
    }
   ],
   "source": [
    "a = \"Aython\"\n",
    "\n",
    "result = a.Replace(\"A\", \"P\")\n",
    "print(result)"
   ]
  },
  {
   "cell_type": "code",
   "execution_count": 53,
   "id": "070182fd-2782-4f33-a20f-d910f4c457f8",
   "metadata": {},
   "outputs": [],
   "source": [
    "b = \"Aython\"\n",
    "\n",
    "# b를 활용해서 무언가 하고싶음 ==> 메서드가 있을 것 같은데~~"
   ]
  },
  {
   "cell_type": "code",
   "execution_count": null,
   "id": "7a8697bb-1388-4b8b-a0c2-3ea56015bbf2",
   "metadata": {},
   "outputs": [],
   "source": [
    "b = \"python\"\n",
    "\n",
    "string object b = \"python\" \n",
    "==> 대문자로 바꾸고 싶음 \n",
    "==> ChatGPT 답변 후, 실제로 있는지 공식 문서 체크"
   ]
  },
  {
   "cell_type": "code",
   "execution_count": 55,
   "id": "e6576d8d-0b9d-4785-afee-ebfdfe596af0",
   "metadata": {},
   "outputs": [
    {
     "data": {
      "text/plain": [
       "'HELLO, STREAMLIT'"
      ]
     },
     "execution_count": 55,
     "metadata": {},
     "output_type": "execute_result"
    }
   ],
   "source": [
    "sampleText = \"hello, streamlit\"\n",
    "sampleText = sampleText.upper()\n",
    "sampleText"
   ]
  },
  {
   "cell_type": "code",
   "execution_count": 56,
   "id": "a230e81a-41d0-4a0f-9628-6242d0a2ca2a",
   "metadata": {},
   "outputs": [
    {
     "data": {
      "text/plain": [
       "'hello, streamlit'"
      ]
     },
     "execution_count": 56,
     "metadata": {},
     "output_type": "execute_result"
    }
   ],
   "source": [
    "sampleText.lower()"
   ]
  },
  {
   "cell_type": "code",
   "execution_count": 57,
   "id": "5f77bbf1-27fe-44c0-b19a-4412f39c9e57",
   "metadata": {},
   "outputs": [
    {
     "data": {
      "text/plain": [
       "'Hello, streamlit'"
      ]
     },
     "execution_count": 57,
     "metadata": {},
     "output_type": "execute_result"
    }
   ],
   "source": [
    "sampleText = \"hello, streamlit\"\n",
    "sampleText.capitalize()"
   ]
  },
  {
   "cell_type": "code",
   "execution_count": 58,
   "id": "3dcce336-901f-4f3f-a2b1-c291a916f3bb",
   "metadata": {},
   "outputs": [
    {
     "data": {
      "text/plain": [
       "'Hello, Streamlit'"
      ]
     },
     "execution_count": 58,
     "metadata": {},
     "output_type": "execute_result"
    }
   ],
   "source": [
    "sampleText = \"hello, streamlit\"\n",
    "sampleText.title()"
   ]
  },
  {
   "cell_type": "code",
   "execution_count": 61,
   "id": "14073a36-79a0-4662-87ee-f6395a9867ff",
   "metadata": {},
   "outputs": [
    {
     "data": {
      "text/plain": [
       "['hello', ' streamlit']"
      ]
     },
     "execution_count": 61,
     "metadata": {},
     "output_type": "execute_result"
    }
   ],
   "source": [
    "sampleText = \"hello, streamlit\"\n",
    "words = sampleText.split(sep=\",\")\n",
    "words"
   ]
  },
  {
   "cell_type": "code",
   "execution_count": 62,
   "id": "98b403dc-a7f6-4002-8602-71a0b73a18ba",
   "metadata": {},
   "outputs": [
    {
     "data": {
      "text/plain": [
       "['hello,', 'streamlit']"
      ]
     },
     "execution_count": 62,
     "metadata": {},
     "output_type": "execute_result"
    }
   ],
   "source": [
    "sampleText = \"hello, streamlit\"\n",
    "words = sampleText.split() ==> 공백 기준 (기본값)\n",
    "words"
   ]
  },
  {
   "cell_type": "code",
   "execution_count": 63,
   "id": "66685f1c-cd9d-49a1-b5fe-cf55c9d5a4ca",
   "metadata": {},
   "outputs": [
    {
     "data": {
      "text/plain": [
       "list"
      ]
     },
     "execution_count": 63,
     "metadata": {},
     "output_type": "execute_result"
    }
   ],
   "source": [
    "sampleText = \"hello, stream,lit\"\n",
    "words = sampleText.split(sep=\",\")\n",
    "type(words)"
   ]
  },
  {
   "cell_type": "markdown",
   "id": "2aa87ec8-68b5-4de6-b036-adb1851d721f",
   "metadata": {},
   "source": [
    "## 시퀀스 자료형 확인\n",
    "- 인덱싱과 슬라이싱이 가능함\n",
    "- 반복문 사용할 때 기초자료형으로 활용"
   ]
  },
  {
   "cell_type": "code",
   "execution_count": 64,
   "id": "8e27e9cd-5752-4a6a-92de-9e3395e85f37",
   "metadata": {},
   "outputs": [
    {
     "name": "stdout",
     "output_type": "stream",
     "text": [
      "False\n",
      "True\n",
      "True\n"
     ]
    }
   ],
   "source": [
    "from collections.abc import Sequence\n",
    "\n",
    "my_num = 100\n",
    "my_list = [1, 2, 3]\n",
    "my_string = \"hello\"\n",
    "\n",
    "is_num = isinstance(my_num, Sequence)\n",
    "is_list = isinstance(my_list, Sequence)\n",
    "is_string = isinstance(my_string, Sequence)\n",
    "\n",
    "print(is_num)\n",
    "print(is_list)\n",
    "print(is_string)"
   ]
  },
  {
   "cell_type": "markdown",
   "id": "b9298fe9-6f70-4027-b465-854ab741e062",
   "metadata": {},
   "source": [
    "## List 리스트"
   ]
  },
  {
   "cell_type": "code",
   "execution_count": 66,
   "id": "5dfc9e7b-ffe7-448a-93ba-10ab8018c323",
   "metadata": {},
   "outputs": [
    {
     "name": "stdout",
     "output_type": "stream",
     "text": [
      "1\n",
      "[0, 1, 2, 3, 4, 5, 6, 7]\n"
     ]
    }
   ],
   "source": [
    "a = [0,1,2,3,4,5,6,7,8]\n",
    "print(a[1])\n",
    "print(a[0:8])"
   ]
  },
  {
   "cell_type": "code",
   "execution_count": 70,
   "id": "daddf69e-96db-47c9-b3ef-72eef71dcfea",
   "metadata": {},
   "outputs": [
    {
     "data": {
      "text/plain": [
       "'e'"
      ]
     },
     "execution_count": 70,
     "metadata": {},
     "output_type": "execute_result"
    }
   ],
   "source": [
    "a = [0,1,2,[\"Python\", \"Hello\"],3,4,5]\n",
    "a[3][1][1]"
   ]
  },
  {
   "cell_type": "code",
   "execution_count": 71,
   "id": "4ddd84ab-8b55-4450-b1ed-fcf2cb647384",
   "metadata": {},
   "outputs": [
    {
     "data": {
      "text/plain": [
       "['iM', '뱅크', '아카데미']"
      ]
     },
     "execution_count": 71,
     "metadata": {},
     "output_type": "execute_result"
    }
   ],
   "source": [
    "a = [\"iM\", \"뱅크\"]\n",
    "a.append(\"아카데미\")\n",
    "a ==> 이미 저장된 상태"
   ]
  },
  {
   "cell_type": "code",
   "execution_count": 73,
   "id": "ab476086-bbbe-4176-9943-1a81a74f7173",
   "metadata": {},
   "outputs": [
    {
     "name": "stdout",
     "output_type": "stream",
     "text": [
      "None\n"
     ]
    }
   ],
   "source": [
    "a = [\"iM\", \"뱅크\"]\n",
    "result = a.append(\"아카데미\")\n",
    "print(result)"
   ]
  },
  {
   "cell_type": "code",
   "execution_count": 74,
   "id": "d7ba29aa-3637-412f-ad77-7c1e010159d1",
   "metadata": {},
   "outputs": [
    {
     "data": {
      "text/plain": [
       "[100, 200, [300, 400]]"
      ]
     },
     "execution_count": 74,
     "metadata": {},
     "output_type": "execute_result"
    }
   ],
   "source": [
    "a = [100, 200]\n",
    "a.append([300, 400])\n",
    "a"
   ]
  },
  {
   "cell_type": "code",
   "execution_count": 75,
   "id": "23cf43ae-a9f5-46f8-be92-be53d701a51f",
   "metadata": {},
   "outputs": [
    {
     "data": {
      "text/plain": [
       "[100, 200, 300, 400]"
      ]
     },
     "execution_count": 75,
     "metadata": {},
     "output_type": "execute_result"
    }
   ],
   "source": [
    "a = [100, 200]\n",
    "a.extend([300, 400])\n",
    "a"
   ]
  },
  {
   "cell_type": "markdown",
   "id": "d0c62a08-6047-447a-86f2-800d83cf49f2",
   "metadata": {},
   "source": [
    "## 리스트 값 변경 및 삭제"
   ]
  },
  {
   "cell_type": "code",
   "execution_count": 76,
   "id": "65975b06-736d-4446-9126-8b8fe61f8dad",
   "metadata": {},
   "outputs": [
    {
     "data": {
      "text/plain": [
       "[1302, 401, 418, 430, 529]"
      ]
     },
     "execution_count": 76,
     "metadata": {},
     "output_type": "execute_result"
    }
   ],
   "source": [
    "numbers = [302, 401, 418, 430, 529]\n",
    "numbers[0] = 1302\n",
    "numbers"
   ]
  },
  {
   "cell_type": "code",
   "execution_count": 79,
   "id": "780d2844-3ac4-4662-a362-8a2b5e64db2a",
   "metadata": {},
   "outputs": [
    {
     "ename": "TypeError",
     "evalue": "'tuple' object does not support item assignment",
     "output_type": "error",
     "traceback": [
      "\u001b[1;31m---------------------------------------------------------------------------\u001b[0m",
      "\u001b[1;31mTypeError\u001b[0m                                 Traceback (most recent call last)",
      "Cell \u001b[1;32mIn[79], line 3\u001b[0m\n\u001b[0;32m      1\u001b[0m \u001b[38;5;66;03m# 튜플\u001b[39;00m\n\u001b[0;32m      2\u001b[0m numbers \u001b[38;5;241m=\u001b[39m (\u001b[38;5;241m302\u001b[39m, \u001b[38;5;241m401\u001b[39m, \u001b[38;5;241m418\u001b[39m, \u001b[38;5;241m430\u001b[39m, \u001b[38;5;241m529\u001b[39m)\n\u001b[1;32m----> 3\u001b[0m \u001b[43mnumbers\u001b[49m\u001b[43m[\u001b[49m\u001b[38;5;241;43m0\u001b[39;49m\u001b[43m]\u001b[49m \u001b[38;5;241m=\u001b[39m \u001b[38;5;241m1302\u001b[39m\n\u001b[0;32m      4\u001b[0m numbers\n",
      "\u001b[1;31mTypeError\u001b[0m: 'tuple' object does not support item assignment"
     ]
    }
   ],
   "source": [
    "# 튜플 ==> 요소의 변경이 불가능함\n",
    "numbers = (302, 401, 418, 430, 529)\n",
    "numbers[0] = 1302\n",
    "numbers"
   ]
  },
  {
   "cell_type": "code",
   "execution_count": 82,
   "id": "27a3eb29-6f3e-4ab0-b4e3-faa1f32c27ad",
   "metadata": {},
   "outputs": [
    {
     "data": {
      "text/plain": [
       "[302, 418, 430, 529]"
      ]
     },
     "execution_count": 82,
     "metadata": {},
     "output_type": "execute_result"
    }
   ],
   "source": [
    "# 리스트 삭제\n",
    "numbers = [302, 401, 418, 430, 529]\n",
    "\n",
    "# 401을 제거한다.\n",
    "numbers.remove(401)\n",
    "numbers"
   ]
  },
  {
   "cell_type": "code",
   "execution_count": 84,
   "id": "40c03b6a-e531-4edc-8010-c5e20f25922f",
   "metadata": {},
   "outputs": [
    {
     "data": {
      "text/plain": [
       "[302, 418, 430, 529]"
      ]
     },
     "execution_count": 84,
     "metadata": {},
     "output_type": "execute_result"
    }
   ],
   "source": [
    "# 리스트 삭제\n",
    "numbers = [302, 401, 418, 430, 529]\n",
    "\n",
    "# 401을 제거한다.(2)\n",
    "del numbers[1]\n",
    "numbers"
   ]
  },
  {
   "cell_type": "code",
   "execution_count": 85,
   "id": "8072b061-a83f-4ad3-9c69-db6a3477fce4",
   "metadata": {},
   "outputs": [
    {
     "ename": "TypeError",
     "evalue": "'tuple' object doesn't support item deletion",
     "output_type": "error",
     "traceback": [
      "\u001b[1;31m---------------------------------------------------------------------------\u001b[0m",
      "\u001b[1;31mTypeError\u001b[0m                                 Traceback (most recent call last)",
      "Cell \u001b[1;32mIn[85], line 2\u001b[0m\n\u001b[0;32m      1\u001b[0m numbers \u001b[38;5;241m=\u001b[39m (\u001b[38;5;241m302\u001b[39m, \u001b[38;5;241m401\u001b[39m, \u001b[38;5;241m418\u001b[39m, \u001b[38;5;241m430\u001b[39m, \u001b[38;5;241m529\u001b[39m)\n\u001b[1;32m----> 2\u001b[0m \u001b[38;5;28;01mdel\u001b[39;00m \u001b[43mnumbers\u001b[49m\u001b[43m[\u001b[49m\u001b[38;5;241;43m1\u001b[39;49m\u001b[43m]\u001b[49m\n",
      "\u001b[1;31mTypeError\u001b[0m: 'tuple' object doesn't support item deletion"
     ]
    }
   ],
   "source": [
    "numbers = (302, 401, 418, 430, 529)\n",
    "del numbers[1]"
   ]
  },
  {
   "cell_type": "markdown",
   "id": "4a257329-409d-4f2f-bb77-6d298f5f8dfa",
   "metadata": {},
   "source": [
    "## 딕셔리리"
   ]
  },
  {
   "cell_type": "code",
   "execution_count": null,
   "id": "11c10138-2786-4754-b3a7-be01954fe232",
   "metadata": {},
   "outputs": [],
   "source": [
    "my_dic = {\n",
    "    'key1' : 'value',\n",
    "    'key2' : '모든 기초 자료형'\n",
    "}"
   ]
  },
  {
   "cell_type": "code",
   "execution_count": null,
   "id": "1d83a175-b7de-4c10-8372-f8068bedc22a",
   "metadata": {},
   "outputs": [],
   "source": []
  },
  {
   "cell_type": "code",
   "execution_count": 86,
   "id": "18db5143-23b5-4ef1-be5a-d608ee1bf9f9",
   "metadata": {},
   "outputs": [
    {
     "data": {
      "text/plain": [
       "{'name': 'evan',\n",
       " 'age': 20,\n",
       " 'job': '학생',\n",
       " '쇼핑목록': [1, 2, 3, 4],\n",
       " '그외': (1, 2, 3),\n",
       " '그외2': {'key': 'value'}}"
      ]
     },
     "execution_count": 86,
     "metadata": {},
     "output_type": "execute_result"
    }
   ],
   "source": [
    "my_dic = {\n",
    "    \"name\" : \"evan\",\n",
    "    \"age\" : 20,\n",
    "    \"job\" : \"학생\",\n",
    "    \"쇼핑목록\" : [1,2,3,4],\n",
    "    \"그외\" : (1,2,3),\n",
    "    \"그외2\" : {\"key\" : \"value\"}\n",
    "}\n",
    "\n",
    "my_dic"
   ]
  },
  {
   "cell_type": "code",
   "execution_count": 87,
   "id": "e1296e5b-639c-47e6-9a46-6044ce0c3d3e",
   "metadata": {},
   "outputs": [
    {
     "data": {
      "text/plain": [
       "'evan'"
      ]
     },
     "execution_count": 87,
     "metadata": {},
     "output_type": "execute_result"
    }
   ],
   "source": [
    "my_dic[\"name\"]"
   ]
  },
  {
   "cell_type": "code",
   "execution_count": 88,
   "id": "2fc39695-ef23-4134-9150-789ee89bb9c6",
   "metadata": {},
   "outputs": [
    {
     "data": {
      "text/plain": [
       "{'name': 'evan',\n",
       " 'age': 20,\n",
       " 'job': '강사',\n",
       " '쇼핑목록': [0, 1, 2, ['Python', 'Hello'], 3, 4, 5],\n",
       " '그외': (1, 2, 3),\n",
       " '그외2': {'key': 'value'}}"
      ]
     },
     "execution_count": 88,
     "metadata": {},
     "output_type": "execute_result"
    }
   ],
   "source": [
    "my_dic = {\n",
    "    \"name\" : \"evan\", \n",
    "    \"age\" : 20, \n",
    "    \"job\" : \"강사\", \n",
    "    \"쇼핑목록\" : [0, 1, 2, [\"Python\", \"Hello\"], 3, 4, 5], \n",
    "    \"그외\" : (1, 2, 3), \n",
    "    \"그외2\" : {\"key\" : \"value\"}\n",
    "}\n",
    "\n",
    "my_dic"
   ]
  },
  {
   "cell_type": "code",
   "execution_count": 91,
   "id": "1e24952d-783a-4eee-8cab-acf75049a468",
   "metadata": {},
   "outputs": [
    {
     "data": {
      "text/plain": [
       "'o'"
      ]
     },
     "execution_count": 91,
     "metadata": {},
     "output_type": "execute_result"
    }
   ],
   "source": [
    "my_dic[\"쇼핑목록\"][3][1][4]"
   ]
  },
  {
   "cell_type": "code",
   "execution_count": 94,
   "id": "322641c8-c548-43d0-a19f-6c9340c7bbd6",
   "metadata": {},
   "outputs": [
    {
     "data": {
      "text/plain": [
       "'o'"
      ]
     },
     "execution_count": 94,
     "metadata": {},
     "output_type": "execute_result"
    }
   ],
   "source": [
    "my_dic[\"쇼핑목록\"][3][1][-1]"
   ]
  },
  {
   "cell_type": "code",
   "execution_count": 96,
   "id": "97dd2251-878e-444f-b918-8b3004f24ef2",
   "metadata": {},
   "outputs": [
    {
     "data": {
      "text/plain": [
       "{'name': 'evan',\n",
       " 'age': 20,\n",
       " 'job': '강사',\n",
       " '쇼핑목록': [0, 1, 2, ['Python', 'Hello'], 3, 4, 5],\n",
       " '그외': (1, 2, 3),\n",
       " '그외2': {'key': 'value'},\n",
       " '기타': '아무거나'}"
      ]
     },
     "execution_count": 96,
     "metadata": {},
     "output_type": "execute_result"
    }
   ],
   "source": [
    "my_dic['기타'] = \"아무거나\"\n",
    "my_dic"
   ]
  },
  {
   "cell_type": "code",
   "execution_count": 97,
   "id": "ebedef60-add1-49b4-84fa-82d7c41ebb0d",
   "metadata": {},
   "outputs": [
    {
     "data": {
      "text/plain": [
       "{'name': 'evan',\n",
       " 'age': 20,\n",
       " 'job': '강사',\n",
       " '쇼핑목록': ['맥북', '아이패드'],\n",
       " '그외': (1, 2, 3),\n",
       " '그외2': {'key': 'value'},\n",
       " '기타': '아무거나'}"
      ]
     },
     "execution_count": 97,
     "metadata": {},
     "output_type": "execute_result"
    }
   ],
   "source": [
    "my_dic[\"쇼핑목록\"] = [\"맥북\", \"아이패드\"]\n",
    "my_dic"
   ]
  },
  {
   "cell_type": "code",
   "execution_count": 102,
   "id": "50d15de7-159f-447d-9d7f-6b2bf5a0f992",
   "metadata": {},
   "outputs": [
    {
     "data": {
      "text/plain": [
       "dict_keys(['name', 'age', 'job', '쇼핑목록', '그외', '그외2', '기타'])"
      ]
     },
     "execution_count": 102,
     "metadata": {},
     "output_type": "execute_result"
    }
   ],
   "source": [
    "my_dic.keys() ==> 리스트가 아님"
   ]
  },
  {
   "cell_type": "code",
   "execution_count": 101,
   "id": "aa736416-7ed0-473c-8c17-b63085e0ffd1",
   "metadata": {},
   "outputs": [
    {
     "data": {
      "text/plain": [
       "['name', 'age', 'job', '쇼핑목록', '그외', '그외2', '기타']"
      ]
     },
     "execution_count": 101,
     "metadata": {},
     "output_type": "execute_result"
    }
   ],
   "source": [
    "list(my_dic.keys())"
   ]
  },
  {
   "cell_type": "code",
   "execution_count": 99,
   "id": "39812434-62fa-473e-918f-dc9068fb852b",
   "metadata": {},
   "outputs": [
    {
     "data": {
      "text/plain": [
       "dict_values(['evan', 20, '강사', ['맥북', '아이패드'], (1, 2, 3), {'key': 'value'}, '아무거나'])"
      ]
     },
     "execution_count": 99,
     "metadata": {},
     "output_type": "execute_result"
    }
   ],
   "source": [
    "my_dic.values()"
   ]
  },
  {
   "cell_type": "code",
   "execution_count": 100,
   "id": "38009748-07e8-4ed5-9932-bed6c004b70b",
   "metadata": {},
   "outputs": [
    {
     "data": {
      "text/plain": [
       "dict_items([('name', 'evan'), ('age', 20), ('job', '강사'), ('쇼핑목록', ['맥북', '아이패드']), ('그외', (1, 2, 3)), ('그외2', {'key': 'value'}), ('기타', '아무거나')])"
      ]
     },
     "execution_count": 100,
     "metadata": {},
     "output_type": "execute_result"
    }
   ],
   "source": [
    "my_dic.items()"
   ]
  },
  {
   "cell_type": "code",
   "execution_count": null,
   "id": "da67f884-b4b5-4ee5-b99a-5d25a3c8b20c",
   "metadata": {},
   "outputs": [],
   "source": []
  }
 ],
 "metadata": {
  "kernelspec": {
   "display_name": "Python 3 (ipykernel)",
   "language": "python",
   "name": "python3"
  },
  "language_info": {
   "codemirror_mode": {
    "name": "ipython",
    "version": 3
   },
   "file_extension": ".py",
   "mimetype": "text/x-python",
   "name": "python",
   "nbconvert_exporter": "python",
   "pygments_lexer": "ipython3",
   "version": "3.12.6"
  }
 },
 "nbformat": 4,
 "nbformat_minor": 5
}
