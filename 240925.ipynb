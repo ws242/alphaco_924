{
 "cells": [
  {
   "cell_type": "markdown",
   "id": "d434b592-40d0-4a56-82f8-e11fc6842417",
   "metadata": {},
   "source": [
    "## 제어문& 반복문"
   ]
  },
  {
   "cell_type": "code",
   "execution_count": 6,
   "id": "4dbcfa7b-8ea9-4ebc-9e61-02f7f4291ce2",
   "metadata": {},
   "outputs": [
    {
     "name": "stdin",
     "output_type": "stream",
     "text": [
      "숫자를 입력하세요.. 95\n"
     ]
    },
    {
     "name": "stdout",
     "output_type": "stream",
     "text": [
      "Pass\n"
     ]
    }
   ],
   "source": [
    "x = int(input(\"숫자를 입력하세요..\"))\n",
    "if x >= 90:\n",
    "    print(\"Pass\")"
   ]
  },
  {
   "cell_type": "markdown",
   "id": "da54d80c-fca6-4c2f-bffd-3eb0253987e5",
   "metadata": {},
   "source": [
    "## 단일 조건 및 그 외 조건에 따른 분기"
   ]
  },
  {
   "cell_type": "code",
   "execution_count": 7,
   "id": "62dc4cd1-77c9-4c84-abc8-21533087a449",
   "metadata": {},
   "outputs": [
    {
     "name": "stdin",
     "output_type": "stream",
     "text": [
      "숫자를 입력하세요.. 80\n"
     ]
    },
    {
     "name": "stdout",
     "output_type": "stream",
     "text": [
      "Fail\n"
     ]
    }
   ],
   "source": [
    "x = int(input(\"숫자를 입력하세요..\"))\n",
    "if x >= 90:\n",
    "    print(\"Pass\")\n",
    "else:\n",
    "    print(\"Fail\")"
   ]
  },
  {
   "cell_type": "markdown",
   "id": "e82f5b7c-32a9-499c-a111-a79329bcaf9c",
   "metadata": {},
   "source": [
    "## 여러 조건에 따른 분기"
   ]
  },
  {
   "cell_type": "code",
   "execution_count": null,
   "id": "37df12db-b793-4e60-b874-867d0b1a5b82",
   "metadata": {},
   "outputs": [],
   "source": [
    "x = int(input(\"숫자를 입력하세요..\"))\n",
    "if x >= 90:\n",
    "    print(\"Pass\")\n",
    "elif (x >= 80) and (x<90):\n",
    "    print(\"조건부 합격\")\n",
    "else:\n",
    "    print(\"Fail\")"
   ]
  },
  {
   "cell_type": "markdown",
   "id": "7286bb72-df9e-4225-95f0-8405eb3e5366",
   "metadata": {},
   "source": [
    "## 중첩 조건에 따른 분기\n",
    "-시나리오\n",
    "    90 이상 합격, 100점은 장학금\n",
    "    80점 이상은 조건부 합격\n",
    "    그외는 탈락"
   ]
  },
  {
   "cell_type": "code",
   "execution_count": 13,
   "id": "3eccb8cd-e0dc-4f6b-a794-7c05418c46ab",
   "metadata": {},
   "outputs": [
    {
     "name": "stdin",
     "output_type": "stream",
     "text": [
      "숫자를 입력하세요.. 100\n"
     ]
    },
    {
     "name": "stdout",
     "output_type": "stream",
     "text": [
      "장학금 지급\n"
     ]
    }
   ],
   "source": [
    "x = int(input(\"숫자를 입력하세요..\"))\n",
    "if x >= 90:\n",
    "    if x == 100:\n",
    "        print(\"장학금 지급\")\n",
    "    else:\n",
    "        print(\"Pass\")\n",
    "elif (x >= 80) and (x<90):\n",
    "    print(\"조건부 합격\")\n",
    "else:\n",
    "    print(\"Fail\")"
   ]
  },
  {
   "cell_type": "markdown",
   "id": "a3ddcfc2-c50a-4718-a221-01c9b3fea2c0",
   "metadata": {},
   "source": [
    "## 반복문"
   ]
  },
  {
   "cell_type": "code",
   "execution_count": 16,
   "id": "d6691e94-6386-4dc6-b601-34a4894d3db6",
   "metadata": {},
   "outputs": [
    {
     "name": "stdout",
     "output_type": "stream",
     "text": [
      "안녕하세요\n",
      "안녕하세요\n",
      "안녕하세요\n",
      "안녕하세요\n",
      "안녕하세요\n",
      "안녕하세요\n",
      "안녕하세요\n"
     ]
    }
   ],
   "source": [
    "for i in range(7):\n",
    "    print(\"안녕하세요\")"
   ]
  },
  {
   "cell_type": "markdown",
   "id": "17d53ce0-d7a5-4968-9aaf-abb958508706",
   "metadata": {},
   "source": [
    "- 시퀀스 자료형이 range 대신 들어감"
   ]
  },
  {
   "cell_type": "code",
   "execution_count": 17,
   "id": "43707fb2-8598-4876-ad69-0591d8a8e1c7",
   "metadata": {},
   "outputs": [
    {
     "name": "stdout",
     "output_type": "stream",
     "text": [
      "False\n",
      "True\n",
      "True\n"
     ]
    }
   ],
   "source": [
    "from collections.abc import Sequence\n",
    "\n",
    "my_num = 100\n",
    "my_list = [1, 2, 3]\n",
    "my_string = \"hello\"\n",
    "\n",
    "is_num = isinstance(my_num, Sequence)\n",
    "is_list = isinstance(my_list, Sequence)\n",
    "is_string = isinstance(my_string, Sequence)\n",
    "\n",
    "print(is_num)\n",
    "print(is_list)\n",
    "print(is_string)"
   ]
  },
  {
   "cell_type": "code",
   "execution_count": 20,
   "id": "d26cabe4-8831-4cf6-a57c-19f81b5876c7",
   "metadata": {},
   "outputs": [
    {
     "name": "stdout",
     "output_type": "stream",
     "text": [
      "1\n",
      "2\n",
      "3\n"
     ]
    }
   ],
   "source": [
    "for i in my_list:\n",
    "    print(i)"
   ]
  },
  {
   "cell_type": "code",
   "execution_count": 23,
   "id": "e17e5849-31ac-4eb9-91ea-247d1ae84077",
   "metadata": {},
   "outputs": [
    {
     "name": "stdout",
     "output_type": "stream",
     "text": [
      "h\n",
      "e\n",
      "l\n",
      "l\n",
      "o\n"
     ]
    }
   ],
   "source": [
    "for i in my_string:\n",
    "    print(i)"
   ]
  },
  {
   "cell_type": "code",
   "execution_count": 24,
   "id": "32e15ec3-a5c0-4f0a-8dd7-afda32463c87",
   "metadata": {},
   "outputs": [
    {
     "data": {
      "text/plain": [
       "[0, 1, 2]"
      ]
     },
     "execution_count": 24,
     "metadata": {},
     "output_type": "execute_result"
    }
   ],
   "source": [
    "list(range(3))"
   ]
  },
  {
   "cell_type": "markdown",
   "id": "7aa86b29-4318-4433-940c-66c2676298c4",
   "metadata": {},
   "source": [
    "## 중첩 for문\n",
    "- 구구단 중첩 for문 만들어주세요 ->ChatGPT"
   ]
  },
  {
   "cell_type": "code",
   "execution_count": 26,
   "id": "b16e0bd1-0b8d-431d-948e-6eca1e56cce4",
   "metadata": {},
   "outputs": [
    {
     "name": "stdout",
     "output_type": "stream",
     "text": [
      "x y\n",
      "x1\n",
      "x1 y1\n",
      "x1 y2\n",
      "x2\n",
      "x2 y1\n",
      "x2 y2\n"
     ]
    }
   ],
   "source": [
    "x_list = [\"x1\", \"x2\"]\n",
    "y_list = [\"y1\", \"y2\"]\n",
    "\n",
    "print(\"x y\")\n",
    "for x in x_list:\n",
    "    print(x)\n",
    "    for y in y_list:\n",
    "        print(x, y)"
   ]
  },
  {
   "cell_type": "markdown",
   "id": "74fd81f6-496a-4df3-b239-8962f98254e4",
   "metadata": {},
   "source": [
    "## 여러 개의 리스트 다루기"
   ]
  },
  {
   "cell_type": "code",
   "execution_count": 30,
   "id": "b2fa6a5e-f511-45d4-b53c-44c30d48249d",
   "metadata": {},
   "outputs": [
    {
     "name": "stdout",
     "output_type": "stream",
     "text": [
      "James 95\n",
      "Robert 96\n",
      "Lisa 97\n",
      "Mary 94\n"
     ]
    }
   ],
   "source": [
    "names = ['James', 'Robert', 'Lisa', 'Mary']\n",
    "scores = [95, 96, 97, 94]\n",
    "\n",
    "# idx : index 번호\n",
    "for idx in range(len(names)):\n",
    "    #print(idx)\n",
    "    print(names[idx], scores[idx])"
   ]
  },
  {
   "cell_type": "code",
   "execution_count": 31,
   "id": "98a48923-5833-404c-9dc4-d8049d0df30f",
   "metadata": {},
   "outputs": [
    {
     "name": "stdout",
     "output_type": "stream",
     "text": [
      "James 95\n",
      "Robert 96\n",
      "Lisa 97\n",
      "Mary 94\n"
     ]
    }
   ],
   "source": [
    "for name, score in zip(names, scores):\n",
    "    print(name, score) "
   ]
  },
  {
   "cell_type": "code",
   "execution_count": 32,
   "id": "38b4baf2-865a-4f2e-b0f2-5c9965e1cabe",
   "metadata": {},
   "outputs": [
    {
     "name": "stdout",
     "output_type": "stream",
     "text": [
      "James 95\n",
      "Robert 96\n",
      "Lisa 97\n",
      "Mary 94\n"
     ]
    }
   ],
   "source": [
    "for idx, name in enumerate(names):\n",
    "    print(name, scores[idx])"
   ]
  },
  {
   "cell_type": "code",
   "execution_count": 33,
   "id": "37f64eb2-a9f3-42ed-9032-1717ed30168e",
   "metadata": {},
   "outputs": [
    {
     "name": "stdout",
     "output_type": "stream",
     "text": [
      "James 95\n",
      "Robert 96\n",
      "Lisa 97\n",
      "Mary 94\n"
     ]
    }
   ],
   "source": [
    "for name, score in map(lambda x, y: (x, y), names, scores):\n",
    "    print(name, score)"
   ]
  },
  {
   "cell_type": "markdown",
   "id": "5dc2c0e6-4abb-4c34-9026-0bcebdad79cc",
   "metadata": {},
   "source": [
    "## 리스트 컴프리헨션"
   ]
  },
  {
   "cell_type": "code",
   "execution_count": 35,
   "id": "5b0fed8c-a25a-4645-ba0e-d1bf72ba36c8",
   "metadata": {},
   "outputs": [
    {
     "name": "stdout",
     "output_type": "stream",
     "text": [
      "[2, 4, 6, 8, 10]\n"
     ]
    }
   ],
   "source": [
    "numbers = [1, 2, 3, 4, 5]\n",
    "result = []\n",
    "for x in numbers:\n",
    "    # 각 요소마다 곱하기 2\n",
    "    # print(x * 2)\n",
    "    result.append(x *2)\n",
    "\n",
    "print(result)"
   ]
  },
  {
   "cell_type": "code",
   "execution_count": 36,
   "id": "8ca6a427-a897-47e9-8ad2-a3ca9a8e9774",
   "metadata": {},
   "outputs": [
    {
     "name": "stdout",
     "output_type": "stream",
     "text": [
      "[2, 4, 6, 8, 10]\n"
     ]
    }
   ],
   "source": [
    "numbers = [1, 2, 3, 4, 5]\n",
    "result2 = [x * 2 for x in numbers]\n",
    "print(result2)"
   ]
  },
  {
   "cell_type": "code",
   "execution_count": 45,
   "id": "aeb5bf7c-13ab-4be0-9bb3-60d341b39bde",
   "metadata": {},
   "outputs": [
    {
     "data": {
      "text/plain": [
       "[2, 4, 6]"
      ]
     },
     "execution_count": 45,
     "metadata": {},
     "output_type": "execute_result"
    }
   ],
   "source": [
    "numbers = [1, 2, 3, 4, 5, 6]\n",
    "result = []\n",
    "for x in numbers:\n",
    "    if x % 2 == 0:\n",
    "        result.append(x)\n",
    "result"
   ]
  },
  {
   "cell_type": "code",
   "execution_count": 48,
   "id": "09297fc5-393e-40d4-8291-66754fefcf64",
   "metadata": {},
   "outputs": [
    {
     "name": "stdout",
     "output_type": "stream",
     "text": [
      "[2, 4, 6]\n"
     ]
    }
   ],
   "source": [
    "numbers = [1, 2, 3, 4, 5, 6]\n",
    "result2 = [x for x in numbers if x % 2==0]\n",
    "print(result2)"
   ]
  },
  {
   "cell_type": "markdown",
   "id": "85666a4e-7883-4557-b1e8-bcb634f43600",
   "metadata": {},
   "source": [
    "## while 반복문\n",
    "- 조건문이 참일 때만 반복해서 실행\n",
    "- 데이터 분석 : 데이터 셋이 정해져있음\n",
    "  + 행과 열이 고정되어 있음\n",
    "  + 범위가 주어진 상태\n",
    "-> 조건문이 false가 되면 자동 종료함"
   ]
  },
  {
   "cell_type": "code",
   "execution_count": 50,
   "id": "871139fb-f039-4e7c-8d34-35733bd79294",
   "metadata": {},
   "outputs": [
    {
     "name": "stdout",
     "output_type": "stream",
     "text": [
      "1 1\n",
      "2 3\n",
      "3 6\n",
      "4 10\n",
      "5 15\n",
      "6 21\n"
     ]
    }
   ],
   "source": [
    "i = 0\n",
    "total = 0\n",
    "\n",
    "while (total < 20):\n",
    "    i = i + 1\n",
    "    total = total + i\n",
    "    print(i, total)"
   ]
  },
  {
   "cell_type": "code",
   "execution_count": 51,
   "id": "03427d62-0274-4ed0-aa52-bbeda4bf98f7",
   "metadata": {},
   "outputs": [
    {
     "name": "stdout",
     "output_type": "stream",
     "text": [
      "안녕하세요\n",
      "안녕하세요\n",
      "안녕하세요\n",
      "안녕하세요\n",
      "4\n"
     ]
    }
   ],
   "source": [
    "k = 0\n",
    "while True:\n",
    "    k = k + 1 # K는 1씩 증가\n",
    "    print(\"안녕하세요\")\n",
    "    if(k>3):\n",
    "        print(k)\n",
    "        break # while / for-Loop 문에서 강제적으로 종료시킬 때"
   ]
  },
  {
   "cell_type": "markdown",
   "id": "c52e0e87-9551-475f-999d-5158a0264ec7",
   "metadata": {},
   "source": [
    "## 사용자 정의 함수\n",
    "- 반복작업 방지를 위함"
   ]
  },
  {
   "cell_type": "code",
   "execution_count": 52,
   "id": "3c3223c6-58ed-4213-a8d1-7dbd82197f60",
   "metadata": {},
   "outputs": [],
   "source": [
    "def my_1st_func():\n",
    "    print(\"안녕하세요\")\n",
    "    print(\"반갑습니다\")"
   ]
  },
  {
   "cell_type": "code",
   "execution_count": 53,
   "id": "ac163092-972f-4b25-9ed6-ac75ef304fc3",
   "metadata": {},
   "outputs": [
    {
     "name": "stdout",
     "output_type": "stream",
     "text": [
      "안녕하세요\n",
      "반갑습니다\n"
     ]
    }
   ],
   "source": [
    "my_1st_func()"
   ]
  },
  {
   "cell_type": "code",
   "execution_count": 54,
   "id": "88c6220f-b76b-4fff-b242-a767edcd45b3",
   "metadata": {},
   "outputs": [
    {
     "name": "stdout",
     "output_type": "stream",
     "text": [
      "안녕하세요\n",
      "반갑습니다\n",
      "안녕하세요\n",
      "반갑습니다\n",
      "안녕하세요\n",
      "반갑습니다\n",
      "안녕하세요\n",
      "반갑습니다\n",
      "안녕하세요\n",
      "반갑습니다\n",
      "안녕하세요\n",
      "반갑습니다\n"
     ]
    },
    {
     "data": {
      "text/plain": [
       "[2, 4, 6]"
      ]
     },
     "execution_count": 54,
     "metadata": {},
     "output_type": "execute_result"
    }
   ],
   "source": [
    "numbers = [1, 2, 3, 4, 5, 6]\n",
    "result = []\n",
    "for x in numbers:\n",
    "    my_1st_func()\n",
    "    if x % 2 == 0:\n",
    "        result.append(x)\n",
    "result"
   ]
  },
  {
   "cell_type": "markdown",
   "id": "70d9b3bf-df43-482d-bc94-1d094a9287d1",
   "metadata": {},
   "source": [
    "## 인자(인수)는 있으나 변환 값이 없는 함수"
   ]
  },
  {
   "cell_type": "code",
   "execution_count": 56,
   "id": "4e45d9af-60f4-4fb2-99f7-59c5784ca91b",
   "metadata": {},
   "outputs": [
    {
     "name": "stdout",
     "output_type": "stream",
     "text": [
      "철수는 나의 친구입니다\n",
      "철수는 나의 친구입니다\n",
      "길동는 나의 친구입니다\n",
      "길동는 나의 친구입니다\n"
     ]
    }
   ],
   "source": [
    "def my_friend(name):\n",
    "    print(f\"{name}는 나의 친구입니다\")\n",
    "    print(\"{}는 나의 친구입니다\".format(name))\n",
    "\n",
    "my_friend(\"철수\")\n",
    "my_friend(\"길동\")"
   ]
  },
  {
   "cell_type": "code",
   "execution_count": 58,
   "id": "41a096a2-3415-45ba-94e2-00065575f677",
   "metadata": {},
   "outputs": [
    {
     "name": "stdout",
     "output_type": "stream",
     "text": [
      "길동는 나의 친구입니다\n",
      "길동는 나의 친구입니다\n"
     ]
    }
   ],
   "source": [
    "my_friend(\"길동\")"
   ]
  },
  {
   "cell_type": "markdown",
   "id": "9f5f4b44-ee9f-4207-b3f2-d130d8d02325",
   "metadata": {},
   "source": [
    "## 인자(인수)는 있고 변환 값이 있는 함수"
   ]
  },
  {
   "cell_type": "code",
   "execution_count": 59,
   "id": "b8dc127b-c49e-411f-b0ea-8574e8063fc7",
   "metadata": {},
   "outputs": [],
   "source": [
    "def my_calc(x, y):\n",
    "    z = x * y\n",
    "    return z"
   ]
  },
  {
   "cell_type": "code",
   "execution_count": 60,
   "id": "1939acf6-49bb-4895-b48c-beb31f247992",
   "metadata": {},
   "outputs": [
    {
     "data": {
      "text/plain": [
       "12"
      ]
     },
     "execution_count": 60,
     "metadata": {},
     "output_type": "execute_result"
    }
   ],
   "source": [
    "my_calc(3, 4)"
   ]
  },
  {
   "cell_type": "markdown",
   "id": "b014f691-af4b-4bd9-b631-74fb10d81cfe",
   "metadata": {},
   "source": [
    "## 변수의 유효 범위\n",
    "- 키워드 : 전역 변수, 지역 변수"
   ]
  },
  {
   "cell_type": "code",
   "execution_count": 11,
   "id": "0db4adcf-ba6d-410a-9512-61f9f2a5aad1",
   "metadata": {},
   "outputs": [],
   "source": [
    "a = 5               # 전역 변수\n",
    "\n",
    "def func1():\n",
    "    a = 1           # 지역 변수 -> 해당 구문에만 해당됨\n",
    "    print(\"[func1] 지역 변수 a =\", a)\n",
    "\n",
    "def func2():\n",
    "    a = 2          \n",
    "    print(\"[func1] 지역 변수 a =\", a)\n",
    "\n",
    "def func3():       \n",
    "    print(\"[func1] 지역 변수 a =\", a)\n",
    "\n",
    "def func4():\n",
    "    global a # 함수 내에서 전역 변수 변경 위해 선언\n",
    "    a = 4\n",
    "    print(\"[func4] 전역 변수 a =\", a)"
   ]
  },
  {
   "cell_type": "code",
   "execution_count": 6,
   "id": "620772e4-a91d-4689-a476-1b9f8ccd3572",
   "metadata": {},
   "outputs": [
    {
     "name": "stdout",
     "output_type": "stream",
     "text": [
      "[func1] 지역 변수 a = 1\n",
      "[func1] 지역 변수 a = 2\n",
      "[func1] 지역 변수 a = 5\n"
     ]
    }
   ],
   "source": [
    "func1()\n",
    "func2()\n",
    "func3()"
   ]
  },
  {
   "cell_type": "code",
   "execution_count": 7,
   "id": "d1b7bdd4-e143-41ab-81af-815f5942dee2",
   "metadata": {},
   "outputs": [
    {
     "name": "stdout",
     "output_type": "stream",
     "text": [
      "[func1] 지역 변수 a = 1\n",
      "[func1] 지역 변수 a = 2\n",
      "전역 변수 a= 5\n"
     ]
    }
   ],
   "source": [
    "func1()\n",
    "func2()\n",
    "print(\"전역 변수 a=\", a)"
   ]
  },
  {
   "cell_type": "code",
   "execution_count": 12,
   "id": "21c139b3-5bdc-4c1e-aa0f-9e51721abc46",
   "metadata": {},
   "outputs": [
    {
     "name": "stdout",
     "output_type": "stream",
     "text": [
      "[func1] 지역 변수 a = 5\n",
      "[func4] 전역 변수 a = 4\n",
      "[func1] 지역 변수 a = 4\n"
     ]
    }
   ],
   "source": [
    "func3()\n",
    "func4()\n",
    "func3()"
   ]
  },
  {
   "cell_type": "code",
   "execution_count": 13,
   "id": "8bc996aa-ff06-481e-a2b4-a28d60006e3c",
   "metadata": {},
   "outputs": [
    {
     "name": "stdout",
     "output_type": "stream",
     "text": [
      "3\n"
     ]
    }
   ],
   "source": [
    "c = 1\n",
    "\n",
    "def add():\n",
    "    global c\n",
    "    c = c + 2\n",
    "    print(c)\n",
    "add()                  # UnboundlocalError -> 지역 변수 전역 변수 문제!"
   ]
  },
  {
   "cell_type": "markdown",
   "id": "d577dc31-210a-4e05-bfcb-de186b0e94f9",
   "metadata": {},
   "source": [
    "## 가변인수 예제\n",
    "- 학생의 점수를 입력받아 평균 점수를 계산하는 함수\n",
    "  + 문제점 : 각 학생들마다 시험 본 과목수가 다 다름\n",
    "    - A : 3과목, B : 2과목, C : 5과목"
   ]
  },
  {
   "cell_type": "code",
   "execution_count": 14,
   "id": "d69935cb-b1d5-4c39-bc88-755eb4850498",
   "metadata": {},
   "outputs": [],
   "source": [
    "def calculate_average(name, *scores):\n",
    "    if scores:  # 가변 인수가 비어있지 않은지 확인\n",
    "        average_score = sum(scores) / len(scores)\n",
    "        print(f\"{name}의 평균 점수는 {average_score:.2f}점입니다.\")\n",
    "    else:\n",
    "        print(f\"{name}의 점수를 입력하지 않았습니다.\")"
   ]
  },
  {
   "cell_type": "code",
   "execution_count": 15,
   "id": "22dbb32c-a764-4304-8d15-c3d7442e2b31",
   "metadata": {},
   "outputs": [
    {
     "name": "stdout",
     "output_type": "stream",
     "text": [
      "Evan의 평균 점수는 76.67점입니다.\n"
     ]
    }
   ],
   "source": [
    "calculate_average(\"Evan\", 85, 70, 75)"
   ]
  },
  {
   "cell_type": "code",
   "execution_count": 16,
   "id": "55ad2ef3-b299-48b8-96db-a2e24a8bb216",
   "metadata": {},
   "outputs": [
    {
     "name": "stdout",
     "output_type": "stream",
     "text": [
      "Wonny의 평균 점수는 85.00점입니다.\n"
     ]
    }
   ],
   "source": [
    "calculate_average(\"Wonny\", 90, 80)"
   ]
  },
  {
   "cell_type": "code",
   "execution_count": 17,
   "id": "87cdfcd4-2e05-4125-9552-7a4264e2589a",
   "metadata": {},
   "outputs": [
    {
     "name": "stdout",
     "output_type": "stream",
     "text": [
      "Elie의 점수를 입력하지 않았습니다.\n"
     ]
    }
   ],
   "source": [
    "calculate_average(\"Elie\")"
   ]
  },
  {
   "cell_type": "code",
   "execution_count": null,
   "id": "e387a4bf-6ed8-4c23-b91d-2d9c211dcae7",
   "metadata": {},
   "outputs": [],
   "source": [
    "def calculate_average(name, scores):\n",
    "    if len(scores) > 0:  #리스트 형식\n",
    "        average_score = sum(scores) / len(scores)\n",
    "        print(f\"{name}의 평균 점수는 {average_score:.2f}점입니다.\")\n",
    "    else:\n",
    "        print(f\"{name}의 점수를 입력하지 않았습니다.\")"
   ]
  },
  {
   "cell_type": "markdown",
   "id": "c6bfde4e-48cb-4aa6-9f36-293f027e5cf8",
   "metadata": {},
   "source": [
    "## 키워드 인수 확인 예제\n",
    "- 학생의 이름, 과목별, 점수, 그리고 학년을 받아 학생의 성적을 출력하는 함수 \n",
    "    + 고정 인수 : 학생의 이름\n",
    "    + 가변 인수 : 여러 개의 과목 점수\n",
    "    + 키워드 인수 : 학년 정보"
   ]
  },
  {
   "cell_type": "code",
   "execution_count": 18,
   "id": "aabe06d6-6d01-44b8-ba99-ef99a8c3ebbe",
   "metadata": {},
   "outputs": [
    {
     "name": "stdout",
     "output_type": "stream",
     "text": [
      "학생 이름: Alice\n",
      "평균 점수: 88.33\n",
      "grade: 2학년\n",
      "school: Seoul High School\n",
      "\n",
      "\n",
      "학생 이름: Bob\n",
      "평균 점수: 80.75\n",
      "grade: 3학년\n",
      "school: Busan High School\n",
      "hobby: 축구\n",
      "\n",
      "\n",
      "학생 이름: Charlie\n",
      "점수를 입력하지 않았습니다.\n",
      "grade: 1학년\n"
     ]
    }
   ],
   "source": [
    "def student_report(name, *scores, **details):  # 가변인수는 튜플, 키워드인수는 딕셔너리 \n",
    "    print(f\"학생 이름: {name}\")\n",
    "\n",
    "    # 점수가 입력된 경우에만 평균을 계산\n",
    "    if scores:\n",
    "        average_score = sum(scores) / len(scores)\n",
    "        print(f\"평균 점수: {average_score:.2f}\")\n",
    "    else:\n",
    "        print(\"점수를 입력하지 않았습니다.\")\n",
    "\n",
    "    # 키워드 인수로 전달된 추가 정보를 출력\n",
    "    for key, value in details.items():\n",
    "        print(f\"{key}: {value}\")\n",
    "\n",
    "# 함수 호출 예제\n",
    "student_report(\"Alice\", 88, 92, 85, grade=\"2학년\", school=\"Seoul High School\")\n",
    "print(\"\\n\")\n",
    "student_report(\"Bob\", 75, 80, 78, 90, grade=\"3학년\", school=\"Busan High School\", hobby=\"축구\")\n",
    "print(\"\\n\")\n",
    "student_report(\"Charlie\", grade=\"1학년\")"
   ]
  },
  {
   "cell_type": "markdown",
   "id": "5d8e572b-ae82-4539-a607-b0c51dee3b5b",
   "metadata": {},
   "source": [
    "# 람다(lanbda) 함수"
   ]
  },
  {
   "cell_type": "code",
   "execution_count": 20,
   "id": "6885c3ef-ae15-4134-8e0f-6a099725940a",
   "metadata": {},
   "outputs": [
    {
     "data": {
      "text/plain": [
       "9"
      ]
     },
     "execution_count": 20,
     "metadata": {},
     "output_type": "execute_result"
    }
   ],
   "source": [
    "(lambda x : x ** 2)(3)"
   ]
  },
  {
   "cell_type": "code",
   "execution_count": 21,
   "id": "62de74fa-9ce7-430d-90eb-043134121749",
   "metadata": {},
   "outputs": [
    {
     "data": {
      "text/plain": [
       "25"
      ]
     },
     "execution_count": 21,
     "metadata": {},
     "output_type": "execute_result"
    }
   ],
   "source": [
    "mySquare = lambda x : x ** 2\n",
    "mySquare(5)"
   ]
  },
  {
   "cell_type": "code",
   "execution_count": 22,
   "id": "a23ae8a8-6469-40a5-a89c-3be7e2c60644",
   "metadata": {},
   "outputs": [
    {
     "data": {
      "text/plain": [
       "10"
      ]
     },
     "execution_count": 22,
     "metadata": {},
     "output_type": "execute_result"
    }
   ],
   "source": [
    "sampleFunc = lambda x, y, z : x ** 2 + 3 * y + z\n",
    "sampleFunc(1,2,3)"
   ]
  },
  {
   "cell_type": "markdown",
   "id": "0bd9793f-28f1-4390-b4bf-362905319909",
   "metadata": {},
   "source": [
    "# Context Manager, Decorator\n",
    "- 클로저 Closure\n",
    "    + 함수 안에 또 다른 함수 생성"
   ]
  },
  {
   "cell_type": "code",
   "execution_count": null,
   "id": "1036b975-e60b-415f-8afa-69afa5056a1c",
   "metadata": {},
   "outputs": [],
   "source": [
    "import time\n",
    "\n",
    "# 코드가 돌아가는 시간을 체크하는 함수\n",
    "def time_decorator(func):\n",
    "    def wrapper(*args, **kwargs):\n",
    "        start_time = time.time()\n",
    "        result = func(*args, **kwargs)\n",
    "        end_time = time.time()\n",
    "        print(f\"Function '{func.__name__}' executed in {end_time - start_time:.4f} seconds\")\n",
    "        return result\n",
    "    return wrapper\n",
    "\n",
    "@time_decorator  # 호출, 함수의 성능 측정할 때 사용 \n",
    "def slow_function():\n",
    "    time.sleep(2)\n",
    "    return \"Finished\"\n",
    "\n",
    "# 사용 예시\n",
    "slow_function()\n",
    "\n",
    "#전체코드는 데코레이터"
   ]
  },
  {
   "cell_type": "markdown",
   "id": "806fa1b2-c3ea-4c2e-b345-97d32f51028a",
   "metadata": {},
   "source": [
    "# 클래스 왕기초"
   ]
  },
  {
   "cell_type": "code",
   "execution_count": 31,
   "id": "bbe25354-ec3c-44d9-8b95-0bc0a5bd1e85",
   "metadata": {},
   "outputs": [
    {
     "name": "stdout",
     "output_type": "stream",
     "text": [
      "Streamlit\n"
     ]
    }
   ],
   "source": [
    "class 책:\n",
    "    title = None     #속성(state)\n",
    "    author = None\n",
    "    pages = 0\n",
    "    price = 0\n",
    "    discount = 0\n",
    "\n",
    "# 인스턴스 생성\n",
    "책01호 = 책()\n",
    "책01호.title = \"Streamlit\"\n",
    "책01호.author = \"Evan\"\n",
    "책01호.pages = 500\n",
    "책01호.price = 40000\n",
    "책01호.discount = 10\n",
    "\n",
    "print(책01호.title)"
   ]
  },
  {
   "cell_type": "code",
   "execution_count": 33,
   "id": "0a8321c6-4b9c-4a9e-9bc9-0b76fb74b0bb",
   "metadata": {},
   "outputs": [],
   "source": [
    "class 책:\n",
    "    title = None     #속성(state)\n",
    "    author = None\n",
    "    pages = 0\n",
    "    price = 0\n",
    "    discount = 0\n",
    "\n",
    "    def 읽는시간(self, reading_speed = 30):\n",
    "        return round(self.pages / reading_speed, 1)     #클래스 내부에서 함수를 쓸 때는 self를 꼭 써야함. "
   ]
  },
  {
   "cell_type": "code",
   "execution_count": 37,
   "id": "3cefbcbe-084d-4fbd-a325-7c85e81579f4",
   "metadata": {},
   "outputs": [
    {
     "name": "stdout",
     "output_type": "stream",
     "text": [
      "Streamlit Evan\n",
      "100.0\n"
     ]
    }
   ],
   "source": [
    "# 인스턴스 생성\n",
    "책01호 = 책()\n",
    "책01호.title = \"Streamlit\"\n",
    "책01호.author = \"Evan\"\n",
    "책01호.pages = 500\n",
    "책01호.price = 40000\n",
    "책01호.discount = 10\n",
    "\n",
    "print(책01호.title, 책01호.author)\n",
    "출력값 = 책01호.읽는시간(reading_speed = 5)\n",
    "print(출력값)"
   ]
  },
  {
   "cell_type": "code",
   "execution_count": 35,
   "id": "73487825-a61b-45da-9687-b52466a40bcf",
   "metadata": {},
   "outputs": [
    {
     "name": "stdout",
     "output_type": "stream",
     "text": [
      "Streamlit Evan\n",
      "18.7\n"
     ]
    }
   ],
   "source": [
    "# 인스턴스 생성\n",
    "책01호 = 책()\n",
    "책01호.title = \"Streamlit\"\n",
    "책01호.author = \"Evan\"\n",
    "책01호.pages = 560\n",
    "책01호.price = 40000\n",
    "책01호.discount = 10\n",
    "\n",
    "print(책01호.title, 책01호.author)\n",
    "출력값 = 책01호.읽는시간()\n",
    "print(출력값)"
   ]
  },
  {
   "cell_type": "markdown",
   "id": "9e95f3a1-ae69-4222-a4dd-414e917a7950",
   "metadata": {},
   "source": [
    "## 코드 업데이트"
   ]
  },
  {
   "cell_type": "code",
   "execution_count": 38,
   "id": "f4e8a83f-7645-4653-a5ed-198ae4725907",
   "metadata": {},
   "outputs": [],
   "source": [
    "class 책():\n",
    "    # initialize : 초기화\n",
    "    def __init__(self, title, author, pages, price, discount_rate=0):\n",
    "        self.title = title #책의 제목\n",
    "        self.author = author\n",
    "        self.pages = pages\n",
    "        self.price = price\n",
    "        self.discount_rate = 0"
   ]
  },
  {
   "cell_type": "code",
   "execution_count": 41,
   "id": "f7d479bd-3005-4f8e-b888-ec3b4d7e003c",
   "metadata": {},
   "outputs": [
    {
     "data": {
      "text/plain": [
       "'샘플'"
      ]
     },
     "execution_count": 41,
     "metadata": {},
     "output_type": "execute_result"
    }
   ],
   "source": [
    "책01호 = 책(\"샘플\", \"Evan\", 300, 20000, 0.1)\n",
    "책01호.title"
   ]
  },
  {
   "cell_type": "code",
   "execution_count": 42,
   "id": "5928ebb2-42d8-470b-b734-b3db2ff6370c",
   "metadata": {},
   "outputs": [
    {
     "data": {
      "text/plain": [
       "('샘플', '샘플2')"
      ]
     },
     "execution_count": 42,
     "metadata": {},
     "output_type": "execute_result"
    }
   ],
   "source": [
    "책01호 = 책(\"샘플\", \"Evan\", 300, 20000, 0.1)\n",
    "책02호 = 책(\"샘플2\", \"Evan\", 400, 20000, 0.1)\n",
    "책03호 = 책(\"샘플3\", \"Evan\", 500, 20000, 0.1)\n",
    "책01호.title, 책02호.title"
   ]
  },
  {
   "cell_type": "code",
   "execution_count": 45,
   "id": "3580c9fe-7361-4c32-b752-b94578df8c53",
   "metadata": {},
   "outputs": [],
   "source": [
    "class 책():\n",
    "    # initialize : 초기화\n",
    "    def __init__(self, title, author, pages, price, discount_rate=0):\n",
    "        self.title = title #책의 제목\n",
    "        self.author = author\n",
    "        self.pages = pages\n",
    "        self.price = price\n",
    "        self.discount_rate = discount_rate\n",
    "\n",
    "    def reading_time(self, reading_speed = 30):\n",
    "        return round(self.pages / reading_speed, 1)\n",
    "\n",
    "    def apply_discount(self):\n",
    "        return self.price * (1 - self.discount_rate)"
   ]
  },
  {
   "cell_type": "code",
   "execution_count": 46,
   "id": "7d266943-dfb8-44f7-9480-b16fc982140f",
   "metadata": {},
   "outputs": [
    {
     "data": {
      "text/plain": [
       "10.0"
      ]
     },
     "execution_count": 46,
     "metadata": {},
     "output_type": "execute_result"
    }
   ],
   "source": [
    "책01호 = 책(\"샘플\", \"Evan\", 300, 20000, 0.1)\n",
    "책01호.reading_time()"
   ]
  },
  {
   "cell_type": "code",
   "execution_count": 47,
   "id": "4ae4e321-2d5b-45c9-b548-d4c134dbda06",
   "metadata": {},
   "outputs": [
    {
     "data": {
      "text/plain": [
       "18000.0"
      ]
     },
     "execution_count": 47,
     "metadata": {},
     "output_type": "execute_result"
    }
   ],
   "source": [
    "책01호 = 책(\"샘플\", \"Evan\", 300, 20000, 0.1)\n",
    "책01호.apply_discount()"
   ]
  },
  {
   "cell_type": "code",
   "execution_count": 48,
   "id": "cb65c11f-d89d-4ec3-bb76-02fda16b34fb",
   "metadata": {},
   "outputs": [],
   "source": [
    "class 책2():\n",
    "\n",
    "    def __init__(self, title, author=None, pages=None, price=None, discount_rate=0):\n",
    "        self.title = title #책의 제목\n",
    "        self.author = author\n",
    "        self.pages = pages\n",
    "        self.price = price\n",
    "        self.discount_rate = discount_rate\n",
    "\n",
    "    def reading_time(self, reading_speed = 30):\n",
    "        return round(self.pages / reading_speed, 1)\n",
    "\n",
    "    def apply_discount(self):\n",
    "        return self.price * (1 - self.discount_rate)"
   ]
  }
 ],
 "metadata": {
  "kernelspec": {
   "display_name": "Python 3 (ipykernel)",
   "language": "python",
   "name": "python3"
  },
  "language_info": {
   "codemirror_mode": {
    "name": "ipython",
    "version": 3
   },
   "file_extension": ".py",
   "mimetype": "text/x-python",
   "name": "python",
   "nbconvert_exporter": "python",
   "pygments_lexer": "ipython3",
   "version": "3.12.6"
  }
 },
 "nbformat": 4,
 "nbformat_minor": 5
}
