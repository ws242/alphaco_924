{
 "cells": [
  {
   "cell_type": "markdown",
   "id": "f1085bf3-6731-482c-9121-1b16d2c0d79e",
   "metadata": {},
   "source": [
    "## 데이터프레임 생성"
   ]
  },
  {
   "cell_type": "code",
   "execution_count": null,
   "id": "da6559e5-d4bf-4d8f-afc5-adf83e94531b",
   "metadata": {},
   "outputs": [],
   "source": [
    "import numpy as np\n",
    "import pandas as pd\n",
    "\n",
    "print(np.__version__)\n",
    "print(pd.__version__)"
   ]
  },
  {
   "cell_type": "code",
   "execution_count": null,
   "id": "24477991-70c9-48ba-b5ad-494c1da8803c",
   "metadata": {},
   "outputs": [],
   "source": [
    "- 첫번째 방법 : 리스트 활용\n",
    "- 두번째 방법 : 딕셔너리 활용 - 개인적 선호"
   ]
  },
  {
   "cell_type": "code",
   "execution_count": null,
   "id": "36f40135-044a-4c68-88e6-eceba32c363b",
   "metadata": {},
   "outputs": [],
   "source": [
    "data = [\n",
    "    [\"039900\", \"알파코\", 10000000, 10.05],\n",
    "    [\"039910\", \"A\", 5000000, 1.05],\n",
    "    [\"039920\", \"B\", 1000, 1.28]\n",
    "]\n",
    "\n",
    "columns = [\"종목코드\", \"종목명\", \"현재가\", \"등락률\"]\n",
    "df = pd.DataFrame( data = data, columns = columns)\n",
    "df"
   ]
  },
  {
   "cell_type": "code",
   "execution_count": null,
   "id": "242520eb-2c0f-4797-be3f-b6e27cdd6a85",
   "metadata": {},
   "outputs": [],
   "source": [
    "data2 = {\n",
    "    \"종목코드\" : ['03990', '03991', '03992'],\n",
    "    \"종목명\" : [\"알파코\", \"A\", \"B\"]\n",
    "}\n",
    "\n",
    "df2 = pd.DataFrame(data = data2)\n",
    "df2"
   ]
  },
  {
   "cell_type": "code",
   "execution_count": null,
   "id": "39c441b6-d357-4b4e-bf16-b6af965d4ef7",
   "metadata": {},
   "outputs": [],
   "source": [
    "import pandas as pd\n",
    "import random\n",
    "import string\n",
    "\n",
    "\n",
    "# Regenerating the dictionary where each key (종목코드, 종목명, 현재가, 등락률) has a list of values\n",
    "\n",
    "data_dict = {\n",
    "    \"종목코드\": [],\n",
    "    \"종목명\": [],\n",
    "    \"현재가\": [],\n",
    "    \"등락률\": []\n",
    "}\n",
    "\n",
    "# Function to generate simpler 종목코드 and 종목명 ensuring the 종목코드 starts with '0'\n",
    "def generate_code_name_for_dict(existing_codes):\n",
    "    while True:\n",
    "        code = '0' + ''.join(random.choices(string.digits, k=5))  # Ensure it starts with '0'\n",
    "        name = ''.join(random.choices(string.ascii_uppercase, k=2))  # Simpler 종목명 with 2 letters\n",
    "        if code not in existing_codes:\n",
    "            return code, name\n",
    "\n",
    "# Generating 10,000 rows of data\n",
    "existing_codes_for_dict = set()\n",
    "\n",
    "for _ in range(10000):\n",
    "    code, name = generate_code_name_for_dict(existing_codes_for_dict)\n",
    "    existing_codes_for_dict.add(code)\n",
    "    current_price = random.randint(1000, 1000000)  # Simpler current price\n",
    "    change_rate = round(random.uniform(-5, 5), 2)  # Simpler change rate\n",
    "    \n",
    "    data_dict[\"종목코드\"].append(code)\n",
    "    data_dict[\"종목명\"].append(name)\n",
    "    data_dict[\"현재가\"].append(current_price)\n",
    "    data_dict[\"등락률\"].append(change_rate)\n",
    "\n",
    "# Previewing a portion of the dictionary\n",
    "data_dict_preview = {k: data_dict[k][:5] for k in data_dict}\n",
    "\n",
    "pd.DataFrame(data_dict_preview)"
   ]
  },
  {
   "cell_type": "code",
   "execution_count": null,
   "id": "5b7371f0-5bf9-4f1f-ae93-3c4131defb9f",
   "metadata": {},
   "outputs": [],
   "source": [
    "df2 = pd.DataFrame(data_dict_preview)\n",
    "df2"
   ]
  },
  {
   "cell_type": "code",
   "execution_count": null,
   "id": "739930ad-cea8-4637-92ab-35eadcb2b1cf",
   "metadata": {},
   "outputs": [],
   "source": [
    "df2.head(1)  #(행 개수) #상단부터"
   ]
  },
  {
   "cell_type": "code",
   "execution_count": null,
   "id": "a38bf90a-94f5-4367-8a1c-2bc7a8f816f7",
   "metadata": {},
   "outputs": [],
   "source": [
    "df2.tail(1) #최하단"
   ]
  },
  {
   "cell_type": "code",
   "execution_count": null,
   "id": "4b0c6709-e302-4fc7-b136-a591161dd6f5",
   "metadata": {},
   "outputs": [],
   "source": [
    "df2.info()"
   ]
  },
  {
   "cell_type": "code",
   "execution_count": null,
   "id": "c2e250ac-d3e5-4796-b89a-aeeb8db18242",
   "metadata": {},
   "outputs": [],
   "source": [
    "df2.describe()"
   ]
  },
  {
   "cell_type": "code",
   "execution_count": null,
   "id": "2927aed8-463e-42d0-874c-743ae4e261ed",
   "metadata": {},
   "outputs": [],
   "source": [
    "data2 = {\n",
    "    \"종목코드\" : ['039900', '039910', '039920'], \n",
    "    \"종목명\" : [\"알파코\", \"A\", \"B\"], \n",
    "    \"현재가\" : [10000000, 500000, 1000], \n",
    "    \"등락률\" : [10.05, 1.05, 1.28]\n",
    "}\n",
    "\n",
    "df2 = pd.DataFrame(data = data2)\n",
    "df2"
   ]
  },
  {
   "cell_type": "code",
   "execution_count": null,
   "id": "806b46f4-dc7c-4c01-b157-a48303914e8d",
   "metadata": {},
   "outputs": [],
   "source": [
    "df2 =df2.set_index(\"종목코드\")\n",
    "df2"
   ]
  },
  {
   "cell_type": "code",
   "execution_count": null,
   "id": "e41229fa-ea90-4771-8b06-b9919158dc3c",
   "metadata": {},
   "outputs": [],
   "source": [
    "df2.reset_index()"
   ]
  },
  {
   "cell_type": "code",
   "execution_count": null,
   "id": "0b6875d7-fe91-49ab-9511-9a53baba502c",
   "metadata": {},
   "outputs": [],
   "source": [
    "df2.reset_index(drop=True)"
   ]
  },
  {
   "cell_type": "code",
   "execution_count": null,
   "id": "04301653-9d14-497a-9556-b0cbae80361e",
   "metadata": {},
   "outputs": [],
   "source": [
    "from pandas import DataFrame\n",
    "\n",
    "data = [\n",
    "    [\"알파코\", 10000000, 10.05], \n",
    "    [\"A\", 500000, 1.05], \n",
    "    [\"B\", 1000, 1.28]\n",
    "]\n",
    "\n",
    "index = [\"039900\", \"039910\", \"039900\"]\n",
    "columns = [\"종목명\", \"현재가\", \"등락률\"]\n",
    "df = DataFrame(data=data, index=index, columns=columns)\n",
    "df"
   ]
  },
  {
   "cell_type": "code",
   "execution_count": null,
   "id": "7444114a-19fc-4f74-90ae-72c46f3f3f91",
   "metadata": {},
   "outputs": [],
   "source": [
    "df.index"
   ]
  },
  {
   "cell_type": "code",
   "execution_count": null,
   "id": "f0c7f2ea-6689-47e0-a68a-a5fa0e45c0a2",
   "metadata": {},
   "outputs": [],
   "source": [
    "df.values"
   ]
  },
  {
   "cell_type": "code",
   "execution_count": null,
   "id": "55a4fbd9-44e7-4991-8b8c-2ccf5fc08c3f",
   "metadata": {},
   "outputs": [],
   "source": [
    "# 컬럼에 접근\n",
    "\n",
    "df.현재가"
   ]
  },
  {
   "cell_type": "code",
   "execution_count": null,
   "id": "0317911d-9c06-478f-8fb7-2366fa173c56",
   "metadata": {},
   "outputs": [],
   "source": [
    "df['현재가']"
   ]
  },
  {
   "cell_type": "code",
   "execution_count": null,
   "id": "b3a85f79-4c32-4cea-8d8d-770fbe4829bd",
   "metadata": {},
   "outputs": [],
   "source": [
    "df[['현재가']]  #클래스가 다름 => 속성과 메서드도 다름 attribute erro => 클래스 안에 메서드가 없다 "
   ]
  },
  {
   "cell_type": "markdown",
   "id": "fe7d28ef-a4ca-4aca-8532-a17205f7a3ad",
   "metadata": {},
   "source": [
    "## 로우 인덱싱\n",
    "- loc, iloc\n",
    "  + loc : label을 기준으로 인덱싱\n",
    "  + iloc : index를 기준으로 인덱싱"
   ]
  },
  {
   "cell_type": "code",
   "execution_count": null,
   "id": "0c84a6a4-db2a-4c7d-b789-56568fad1f50",
   "metadata": {},
   "outputs": [],
   "source": [
    "import seaborn as sns\n",
    "\n",
    "sns.__version__"
   ]
  },
  {
   "cell_type": "code",
   "execution_count": null,
   "id": "74f50075-6e3f-44ca-b698-0456c4da09da",
   "metadata": {},
   "outputs": [],
   "source": [
    "iris = sns.load_dataset(\"iris\")\n",
    "iris.head(1)"
   ]
  },
  {
   "cell_type": "code",
   "execution_count": null,
   "id": "e581ed7a-39eb-4d3c-8639-c48f9a571414",
   "metadata": {},
   "outputs": [],
   "source": [
    "iris.loc[[0,5], [\"sepal_width\", \"species\"]]"
   ]
  },
  {
   "cell_type": "code",
   "execution_count": null,
   "id": "cacdee11-6648-4e14-bd2e-3c5293b6ce63",
   "metadata": {},
   "outputs": [],
   "source": [
    "iris.iloc[[0,9],[1,4]]   #다른사람이 보기에 직관적이지 않음."
   ]
  },
  {
   "cell_type": "code",
   "execution_count": 93,
   "id": "0a271610-706a-4756-a53e-d311fb367b64",
   "metadata": {},
   "outputs": [],
   "source": [
    "#일종의 조건식 \n",
    "#값을 가져오고 싶다면, True 값만 가져옴\n",
    "\n",
    "#iris['sepal_width'] > 3.5\n",
    "\n",
    "result = iris.loc[iris['sepal_width'] >= 4.0, :].reset_index(drop=True)\n",
    "\n",
    "#reset_index(drop=True) 처리까지 해야 데이터 프레임과 인덱스 처리를 깔끔하게 해결 "
   ]
  },
  {
   "cell_type": "code",
   "execution_count": null,
   "id": "da701bfc-09bc-4081-975f-6efa2cf8a588",
   "metadata": {},
   "outputs": [],
   "source": [
    "result"
   ]
  },
  {
   "cell_type": "code",
   "execution_count": null,
   "id": "4f38fe71-edb6-4b7c-a979-79ad4b1388fe",
   "metadata": {},
   "outputs": [],
   "source": [
    "iris.loc[iris['petal_width']> 2.3,['species']].reset_index(drop=True)"
   ]
  },
  {
   "cell_type": "code",
   "execution_count": null,
   "id": "9a12d6b6-c202-46be-8518-52fcbc2b69e0",
   "metadata": {},
   "outputs": [],
   "source": [
    "iris.loc[iris['sepal_width'] <= 4.0, :].reset_index(drop=True)"
   ]
  },
  {
   "cell_type": "code",
   "execution_count": null,
   "id": "9ee45e57-f4ce-4c87-9b7a-450d8471af94",
   "metadata": {},
   "outputs": [],
   "source": [
    "#문자열 기반으로 조회\n",
    "\n",
    "iris.loc[iris['species'] == 'setosa', :].reset_index(drop=True)"
   ]
  },
  {
   "cell_type": "code",
   "execution_count": null,
   "id": "439c61ac-8b48-49a6-9221-cd22d3eac842",
   "metadata": {},
   "outputs": [],
   "source": [
    "# 다중 조건\n",
    "# iris.loc[(조건식1)&(조건식2),:]\n",
    "# & : and 연산자\n",
    "# | : or 연산자 \n",
    "\n",
    "iris.loc[(iris['species'] == 'setosa') & (iris['sepal_width'] >= 4), :]"
   ]
  },
  {
   "cell_type": "code",
   "execution_count": null,
   "id": "3bb0d2a9-1473-49be-8c6b-6747b97b5d98",
   "metadata": {},
   "outputs": [],
   "source": [
    "iris.loc[(iris['species'] == 'virginica') & (iris['sepal_width'] >= 3.5), :]"
   ]
  },
  {
   "cell_type": "code",
   "execution_count": null,
   "id": "83471980-2370-42cd-be0f-ded98ef013d0",
   "metadata": {},
   "outputs": [],
   "source": [
    "iris.loc[(iris['species'] == 'virginica') &\n",
    "         (iris['sepal_width'] >= 3.5) & \n",
    "         (iris[], :]"
   ]
  },
  {
   "cell_type": "markdown",
   "id": "6991dcfa-f3a9-426e-94db-039eb225abfb",
   "metadata": {},
   "source": [
    "## 컬럼 추가하기"
   ]
  },
  {
   "cell_type": "code",
   "execution_count": null,
   "id": "77ca90e1-389d-4d24-a98a-a8e158d63b1a",
   "metadata": {},
   "outputs": [],
   "source": [
    "iris2 = iris.copy()\n",
    "iris2['newCol'] = 0\n",
    "iris2['sepals'] = iris2['sepal_length'] + iris2['sepal_width']\n",
    "iris2"
   ]
  },
  {
   "cell_type": "code",
   "execution_count": null,
   "id": "cf4c8e16-3f79-497b-b49e-6b666c4e51dd",
   "metadata": {},
   "outputs": [],
   "source": [
    "from pandas import DataFrame\n",
    "\n",
    "data = [\n",
    "    [\"알파코\", 10000000, 10.05], \n",
    "    [\"A\", 500000, 1.05], \n",
    "    [\"B\", 1000, 1.28]\n",
    "]\n",
    "\n",
    "index = [\"039900\", \"039910\", \"039900\"]\n",
    "columns = [\"종목명\", \"현재가\", \"등락률\"]\n",
    "df = DataFrame(data=data, index=index, columns=columns)\n",
    "df"
   ]
  },
  {
   "cell_type": "code",
   "execution_count": null,
   "id": "07a94b86-3200-41f0-b46d-6ae741b41f6d",
   "metadata": {},
   "outputs": [],
   "source": [
    "df.drop(\"039900\", axis = 0)\n",
    "\n",
    "# axis = 0 : 행을 처리\n",
    "# axis = 1 : 열을 처리 "
   ]
  },
  {
   "cell_type": "code",
   "execution_count": null,
   "id": "ee87ef5f-30fa-44b5-90d5-83f032849935",
   "metadata": {},
   "outputs": [],
   "source": [
    "df.drop(\"종목명\", axis = 1, inplace = True) #inplace를 사용하면 원본이 수정되서 되돌릴 수 없다. "
   ]
  },
  {
   "cell_type": "code",
   "execution_count": null,
   "id": "233a4aea-e1d7-46dc-bbc4-da0cbbf8fbb3",
   "metadata": {},
   "outputs": [],
   "source": [
    "# 컬럼명 변경 \n",
    "\n",
    "from pandas import DataFrame\n",
    "\n",
    "data = [\n",
    "    [\"알파코\", 10000000, 10.05], \n",
    "    [\"A\", 500000, 1.05], \n",
    "    [\"B\", 1000, 1.28]\n",
    "]\n",
    "\n",
    "index = [\"039900\", \"039910\", \"039900\"]\n",
    "columns = [\"종목명\", \"현재가\", \"등락률\"]\n",
    "df = DataFrame(data=data, index=index, columns=columns)\n",
    "df2 = df.rename(columns = {'종목명' : 'code'})\n",
    "df2                                #attribute error : 메서드가 없음"
   ]
  },
  {
   "cell_type": "code",
   "execution_count": null,
   "id": "6495cd8b-28b5-4cfb-a63d-91b8ccffeea9",
   "metadata": {},
   "outputs": [],
   "source": [
    "# 연습문제\n",
    "# 03/02, 03/03 컬럼만 int형으로 변경하세요. \n",
    "# 쉼표를 제거하고 int로 변환하는 함수 정의 "
   ]
  },
  {
   "cell_type": "code",
   "execution_count": null,
   "id": "39473cc9-52ef-4f3a-9acd-22915c11aa46",
   "metadata": {},
   "outputs": [],
   "source": [
    "import pandas as pd\n",
    "\n",
    "# 데이터프레임 생성\n",
    "data = [\n",
    "    [\"1,000\", \"1,100\", '1,510'],\n",
    "    [\"1,410\", \"1,420\", '1,790'],\n",
    "    [\"850\", \"900\", '1,185'],\n",
    "]\n",
    "columns = [\"03/02\", \"03/03\", \"03/04\"]\n",
    "df = pd.DataFrame(data=data, columns=columns)\n",
    "df.info()"
   ]
  },
  {
   "cell_type": "code",
   "execution_count": null,
   "id": "8dfefe2e-c592-4b85-99f9-d3364c5f1f21",
   "metadata": {},
   "outputs": [],
   "source": [
    "x = \"1,000\"\n",
    "int(x.replace(\",\",\"\"))"
   ]
  },
  {
   "cell_type": "code",
   "execution_count": null,
   "id": "aa1d5472-612d-4930-926c-6f583cf61080",
   "metadata": {},
   "outputs": [],
   "source": [
    "def rm_comma(x):\n",
    "    return int(x.replace(\",\",\"\"))\n",
    "\n",
    "y = \"1,000\"\n",
    "print(rm_comma(y))"
   ]
  },
  {
   "cell_type": "code",
   "execution_count": null,
   "id": "f7bd4c88-2672-4566-ad25-b30c3ebbea70",
   "metadata": {},
   "outputs": [],
   "source": [
    "df[\"03/02\"] = df[\"03/02\"].apply(rm_comma)\n",
    "df[\"03/03\"] = df[\"03/03\"].apply(rm_comma)\n",
    "df.info()"
   ]
  },
  {
   "cell_type": "code",
   "execution_count": null,
   "id": "a5782333-dc5f-476c-bcd6-52bf6e96e7a0",
   "metadata": {},
   "outputs": [],
   "source": [
    "## CG\n",
    "data = [\n",
    "    [\"1,000\", \"1,100\", '1,510'],\n",
    "    [\"1,410\", \"1,420\", '1,790'],\n",
    "    [\"850\", \"900\", '1,185'],\n",
    "]\n",
    "columns = [\"03/02\", \"03/03\", \"03/04\"]\n",
    "df = pd.DataFrame(data=data, columns=columns)\n",
    "\n",
    "# 쉼표 제거 후 정수형 변환\n",
    "df = df.replace({',': ''}, regex=True).astype(int)\n",
    "\n",
    "# 변환된 데이터프레임 확인\n",
    "df.info()\n",
    "print(df)"
   ]
  },
  {
   "cell_type": "markdown",
   "id": "650d8054-994b-41b1-bed5-182725828bf9",
   "metadata": {},
   "source": [
    "## 데이터 내보내기"
   ]
  },
  {
   "cell_type": "code",
   "execution_count": 1,
   "id": "6c3a4fcd-1204-4602-bfc7-0622ccba0149",
   "metadata": {},
   "outputs": [],
   "source": [
    "import seaborn as sns\n",
    "iris = sns.load_dataset(\"iris\")\n",
    "\n",
    "iris.to_csv(\"iris_240930.csv\", index=False)"
   ]
  },
  {
   "cell_type": "code",
   "execution_count": 2,
   "id": "72f2a712-0345-45e9-842a-e12e878a4996",
   "metadata": {},
   "outputs": [],
   "source": [
    "iris.to_excel(\"iris_excel_240930.xlsx\")"
   ]
  },
  {
   "cell_type": "markdown",
   "id": "02c3f8cf-6830-4d09-ba61-3d7ff55762ec",
   "metadata": {},
   "source": [
    "## 데이터 불러오기 "
   ]
  },
  {
   "cell_type": "code",
   "execution_count": null,
   "id": "3f5fbe94-e4f9-4d30-9402-36186192adb8",
   "metadata": {},
   "outputs": [],
   "source": [
    "df = pd.read_csv(\"test/iris_240930.csv\")\n",
    "df.head()"
   ]
  },
  {
   "cell_type": "code",
   "execution_count": null,
   "id": "4a0d798e-0e5d-4152-8b90-060181872c72",
   "metadata": {},
   "outputs": [],
   "source": [
    "import pandas as pd\n",
    "\n",
    "excel_df = pd.read_excel(\"iris_excel_240930.xlsx\")\n",
    "excel_df.head(1)"
   ]
  },
  {
   "cell_type": "code",
   "execution_count": null,
   "id": "6d756441-1344-45a4-8a69-ce466276146d",
   "metadata": {},
   "outputs": [],
   "source": [
    "import pandas as pd\n",
    "\n",
    "df = pd.read_csv(\"seoul_real_estate.csv\")\n",
    "df.head(1)"
   ]
  }
 ],
 "metadata": {
  "kernelspec": {
   "display_name": "Python 3 (ipykernel)",
   "language": "python",
   "name": "python3"
  },
  "language_info": {
   "codemirror_mode": {
    "name": "ipython",
    "version": 3
   },
   "file_extension": ".py",
   "mimetype": "text/x-python",
   "name": "python",
   "nbconvert_exporter": "python",
   "pygments_lexer": "ipython3",
   "version": "3.12.6"
  }
 },
 "nbformat": 4,
 "nbformat_minor": 5
}
