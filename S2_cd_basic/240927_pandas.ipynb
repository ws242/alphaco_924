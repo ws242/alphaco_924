{
 "cells": [
  {
   "cell_type": "markdown",
   "id": "1fa486fe-82b7-4f90-b38d-21561e87ba73",
   "metadata": {},
   "source": [
    "## Pandas Series"
   ]
  },
  {
   "cell_type": "code",
   "execution_count": 1,
   "id": "4e8ac060-62cc-45fc-a9ce-6e195504a795",
   "metadata": {},
   "outputs": [
    {
     "data": {
      "text/plain": [
       "'2.2.3'"
      ]
     },
     "execution_count": 1,
     "metadata": {},
     "output_type": "execute_result"
    }
   ],
   "source": [
    "import pandas as pd\n",
    "pd.__version__"
   ]
  },
  {
   "cell_type": "code",
   "execution_count": 3,
   "id": "52a81597-f4ae-4fea-b499-a76a84652e11",
   "metadata": {},
   "outputs": [
    {
     "data": {
      "text/plain": [
       "0    10\n",
       "1    20\n",
       "2    30\n",
       "dtype: int64"
      ]
     },
     "execution_count": 3,
     "metadata": {},
     "output_type": "execute_result"
    }
   ],
   "source": [
    "data = [10,20,30]\n",
    "s = pd.Series(data)\n",
    "s"
   ]
  },
  {
   "cell_type": "code",
   "execution_count": 4,
   "id": "93d3f90d-e145-43fa-abff-4505a5aa3ff8",
   "metadata": {},
   "outputs": [
    {
     "name": "stdout",
     "output_type": "stream",
     "text": [
      "<class 'pandas.core.series.Series'>\n"
     ]
    }
   ],
   "source": [
    "print(type(s))"
   ]
  },
  {
   "cell_type": "code",
   "execution_count": 5,
   "id": "f07d6cb8-db7e-4f3d-b834-71e079287c26",
   "metadata": {},
   "outputs": [
    {
     "data": {
      "text/plain": [
       "0    0\n",
       "1    1\n",
       "2    2\n",
       "3    3\n",
       "4    4\n",
       "dtype: int64"
      ]
     },
     "execution_count": 5,
     "metadata": {},
     "output_type": "execute_result"
    }
   ],
   "source": [
    "import numpy as np\n",
    "\n",
    "data = np.arange(5)\n",
    "s = pd.Series(data)\n",
    "s"
   ]
  },
  {
   "cell_type": "code",
   "execution_count": 6,
   "id": "bbaeb3f2-3b19-4f2b-a036-b569ba7756e6",
   "metadata": {},
   "outputs": [
    {
     "data": {
      "text/html": [
       "<div>\n",
       "<style scoped>\n",
       "    .dataframe tbody tr th:only-of-type {\n",
       "        vertical-align: middle;\n",
       "    }\n",
       "\n",
       "    .dataframe tbody tr th {\n",
       "        vertical-align: top;\n",
       "    }\n",
       "\n",
       "    .dataframe thead th {\n",
       "        text-align: right;\n",
       "    }\n",
       "</style>\n",
       "<table border=\"1\" class=\"dataframe\">\n",
       "  <thead>\n",
       "    <tr style=\"text-align: right;\">\n",
       "      <th></th>\n",
       "      <th>0</th>\n",
       "    </tr>\n",
       "  </thead>\n",
       "  <tbody>\n",
       "    <tr>\n",
       "      <th>0</th>\n",
       "      <td>0</td>\n",
       "    </tr>\n",
       "    <tr>\n",
       "      <th>1</th>\n",
       "      <td>1</td>\n",
       "    </tr>\n",
       "    <tr>\n",
       "      <th>2</th>\n",
       "      <td>2</td>\n",
       "    </tr>\n",
       "    <tr>\n",
       "      <th>3</th>\n",
       "      <td>3</td>\n",
       "    </tr>\n",
       "    <tr>\n",
       "      <th>4</th>\n",
       "      <td>4</td>\n",
       "    </tr>\n",
       "  </tbody>\n",
       "</table>\n",
       "</div>"
      ],
      "text/plain": [
       "   0\n",
       "0  0\n",
       "1  1\n",
       "2  2\n",
       "3  3\n",
       "4  4"
      ]
     },
     "execution_count": 6,
     "metadata": {},
     "output_type": "execute_result"
    }
   ],
   "source": [
    "import numpy as np\n",
    "\n",
    "data = np.arange(5)\n",
    "s = pd.DataFrame(data)\n",
    "s"
   ]
  },
  {
   "cell_type": "code",
   "execution_count": 8,
   "id": "b5e0c33d-011c-4ab5-9e62-c9cbd9bae073",
   "metadata": {},
   "outputs": [
    {
     "data": {
      "text/plain": [
       "0    시가\n",
       "1    고가\n",
       "dtype: object"
      ]
     },
     "execution_count": 8,
     "metadata": {},
     "output_type": "execute_result"
    }
   ],
   "source": [
    "data = [\"시가\", \"고가\"]\n",
    "s = pd.Series(data)\n",
    "s"
   ]
  },
  {
   "cell_type": "code",
   "execution_count": 9,
   "id": "4ca2831d-b311-450b-95a9-5eccb1c0c762",
   "metadata": {},
   "outputs": [
    {
     "data": {
      "text/plain": [
       "0    80000\n",
       "1    90000\n",
       "dtype: object"
      ]
     },
     "execution_count": 9,
     "metadata": {},
     "output_type": "execute_result"
    }
   ],
   "source": [
    "data = [80000, \"90000\"]\n",
    "s = pd.Series(data)\n",
    "s"
   ]
  },
  {
   "cell_type": "markdown",
   "id": "9585a7a2-c7b3-40b1-9174-f89ddd20539d",
   "metadata": {},
   "source": [
    "## 시리즈 인덱스"
   ]
  },
  {
   "cell_type": "code",
   "execution_count": 10,
   "id": "bfc287dc-6a3b-4f1e-8a62-1f41999f7c8b",
   "metadata": {},
   "outputs": [
    {
     "data": {
      "text/plain": [
       "RangeIndex(start=0, stop=3, step=1)"
      ]
     },
     "execution_count": 10,
     "metadata": {},
     "output_type": "execute_result"
    }
   ],
   "source": [
    "data = [1000, 2000, 3000]\n",
    "s = pd.Series(data)\n",
    "s.index"
   ]
  },
  {
   "cell_type": "code",
   "execution_count": 13,
   "id": "ee2cad57-88b8-450f-ba60-82b08a7541e1",
   "metadata": {},
   "outputs": [
    {
     "name": "stdout",
     "output_type": "stream",
     "text": [
      "<class 'pandas.core.indexes.range.RangeIndex'>\n",
      "RangeIndex(start=0, stop=3, step=1) <class 'pandas.core.indexes.range.RangeIndex'>\n"
     ]
    }
   ],
   "source": [
    "print(type(s.index)) \n",
    "print(s.index, type(s.index)) "
   ]
  },
  {
   "cell_type": "code",
   "execution_count": 14,
   "id": "acaa1dce-d010-4e9c-a727-9a429d42e120",
   "metadata": {},
   "outputs": [
    {
     "data": {
      "text/plain": [
       "[0, 1, 2]"
      ]
     },
     "execution_count": 14,
     "metadata": {},
     "output_type": "execute_result"
    }
   ],
   "source": [
    "s.index.to_list()"
   ]
  },
  {
   "cell_type": "code",
   "execution_count": 15,
   "id": "cb33ee0c-5c5f-4b85-9627-7d36b462e3a4",
   "metadata": {},
   "outputs": [
    {
     "data": {
      "text/plain": [
       "[0, 1, 2]"
      ]
     },
     "execution_count": 15,
     "metadata": {},
     "output_type": "execute_result"
    }
   ],
   "source": [
    "list(s.index)"
   ]
  },
  {
   "cell_type": "code",
   "execution_count": null,
   "id": "f93b0e65-f2a6-4159-be17-6cd353c71812",
   "metadata": {},
   "outputs": [],
   "source": [
    "# 클래스에는 항상 속성과 메서드가 존재한다."
   ]
  },
  {
   "cell_type": "code",
   "execution_count": 52,
   "id": "e288db3d-1c7c-4384-9757-6ef44f500ba2",
   "metadata": {},
   "outputs": [
    {
     "data": {
      "text/plain": [
       "Index(['메로나', '월드콘', '와'], dtype='object')"
      ]
     },
     "execution_count": 52,
     "metadata": {},
     "output_type": "execute_result"
    }
   ],
   "source": [
    "#시리즈 생성하면서 인덱스도 같이 생성\n",
    "data = [1000, 2000, 3000]\n",
    "index = [\"메로나\", \"월드콘\", \"와\"]\n",
    "\n",
    "s = pd.Series(data, index)\n",
    "s.index"
   ]
  },
  {
   "cell_type": "code",
   "execution_count": 31,
   "id": "86783b3b-e104-427c-aec4-9289e129df99",
   "metadata": {},
   "outputs": [
    {
     "data": {
      "text/plain": [
       "array([1000, 2000, 3000])"
      ]
     },
     "execution_count": 31,
     "metadata": {},
     "output_type": "execute_result"
    }
   ],
   "source": [
    "s.values"
   ]
  },
  {
   "cell_type": "code",
   "execution_count": 32,
   "id": "7ee3a047-cf7f-47e0-a830-0f2df3e2447f",
   "metadata": {},
   "outputs": [
    {
     "data": {
      "text/plain": [
       "numpy.ndarray"
      ]
     },
     "execution_count": 32,
     "metadata": {},
     "output_type": "execute_result"
    }
   ],
   "source": [
    "type(s.values)"
   ]
  },
  {
   "cell_type": "markdown",
   "id": "c4825014-5833-4e75-be75-f4c7a9329a01",
   "metadata": {},
   "source": [
    "# 시리즈 인덱싱"
   ]
  },
  {
   "cell_type": "code",
   "execution_count": 33,
   "id": "14abc8b5-5239-4a78-b933-63406006a4d0",
   "metadata": {},
   "outputs": [
    {
     "name": "stdout",
     "output_type": "stream",
     "text": [
      "1000\n"
     ]
    }
   ],
   "source": [
    "print(s.iloc[0])"
   ]
  },
  {
   "cell_type": "code",
   "execution_count": 34,
   "id": "37764bf9-037e-4af0-895b-5be5a66c00bc",
   "metadata": {},
   "outputs": [
    {
     "name": "stdout",
     "output_type": "stream",
     "text": [
      "1000\n"
     ]
    }
   ],
   "source": [
    "print(s.loc[\"메로나\"])"
   ]
  },
  {
   "cell_type": "code",
   "execution_count": 35,
   "id": "25aa2637-1352-458e-b897-b74ccebb1f37",
   "metadata": {
    "scrolled": true
   },
   "outputs": [
    {
     "name": "stdout",
     "output_type": "stream",
     "text": [
      "1000\n"
     ]
    },
    {
     "ename": "KeyError",
     "evalue": "'메로나'",
     "output_type": "error",
     "traceback": [
      "\u001b[1;31m---------------------------------------------------------------------------\u001b[0m",
      "\u001b[1;31mKeyError\u001b[0m                                  Traceback (most recent call last)",
      "Cell \u001b[1;32mIn[35], line 5\u001b[0m\n\u001b[0;32m      3\u001b[0m s2 \u001b[38;5;241m=\u001b[39m pd\u001b[38;5;241m.\u001b[39mSeries(data\u001b[38;5;241m=\u001b[39mdata)\n\u001b[0;32m      4\u001b[0m \u001b[38;5;28mprint\u001b[39m(s2\u001b[38;5;241m.\u001b[39miloc[\u001b[38;5;241m0\u001b[39m])\n\u001b[1;32m----> 5\u001b[0m \u001b[38;5;28mprint\u001b[39m(\u001b[43ms2\u001b[49m\u001b[38;5;241;43m.\u001b[39;49m\u001b[43mloc\u001b[49m\u001b[43m[\u001b[49m\u001b[38;5;124;43m\"\u001b[39;49m\u001b[38;5;124;43m메로나\u001b[39;49m\u001b[38;5;124;43m\"\u001b[39;49m\u001b[43m]\u001b[49m)\n",
      "File \u001b[1;32m~\\Desktop\\alphaco_924\\venv\\Lib\\site-packages\\pandas\\core\\indexing.py:1191\u001b[0m, in \u001b[0;36m_LocationIndexer.__getitem__\u001b[1;34m(self, key)\u001b[0m\n\u001b[0;32m   1189\u001b[0m maybe_callable \u001b[38;5;241m=\u001b[39m com\u001b[38;5;241m.\u001b[39mapply_if_callable(key, \u001b[38;5;28mself\u001b[39m\u001b[38;5;241m.\u001b[39mobj)\n\u001b[0;32m   1190\u001b[0m maybe_callable \u001b[38;5;241m=\u001b[39m \u001b[38;5;28mself\u001b[39m\u001b[38;5;241m.\u001b[39m_check_deprecated_callable_usage(key, maybe_callable)\n\u001b[1;32m-> 1191\u001b[0m \u001b[38;5;28;01mreturn\u001b[39;00m \u001b[38;5;28;43mself\u001b[39;49m\u001b[38;5;241;43m.\u001b[39;49m\u001b[43m_getitem_axis\u001b[49m\u001b[43m(\u001b[49m\u001b[43mmaybe_callable\u001b[49m\u001b[43m,\u001b[49m\u001b[43m \u001b[49m\u001b[43maxis\u001b[49m\u001b[38;5;241;43m=\u001b[39;49m\u001b[43maxis\u001b[49m\u001b[43m)\u001b[49m\n",
      "File \u001b[1;32m~\\Desktop\\alphaco_924\\venv\\Lib\\site-packages\\pandas\\core\\indexing.py:1431\u001b[0m, in \u001b[0;36m_LocIndexer._getitem_axis\u001b[1;34m(self, key, axis)\u001b[0m\n\u001b[0;32m   1429\u001b[0m \u001b[38;5;66;03m# fall thru to straight lookup\u001b[39;00m\n\u001b[0;32m   1430\u001b[0m \u001b[38;5;28mself\u001b[39m\u001b[38;5;241m.\u001b[39m_validate_key(key, axis)\n\u001b[1;32m-> 1431\u001b[0m \u001b[38;5;28;01mreturn\u001b[39;00m \u001b[38;5;28;43mself\u001b[39;49m\u001b[38;5;241;43m.\u001b[39;49m\u001b[43m_get_label\u001b[49m\u001b[43m(\u001b[49m\u001b[43mkey\u001b[49m\u001b[43m,\u001b[49m\u001b[43m \u001b[49m\u001b[43maxis\u001b[49m\u001b[38;5;241;43m=\u001b[39;49m\u001b[43maxis\u001b[49m\u001b[43m)\u001b[49m\n",
      "File \u001b[1;32m~\\Desktop\\alphaco_924\\venv\\Lib\\site-packages\\pandas\\core\\indexing.py:1381\u001b[0m, in \u001b[0;36m_LocIndexer._get_label\u001b[1;34m(self, label, axis)\u001b[0m\n\u001b[0;32m   1379\u001b[0m \u001b[38;5;28;01mdef\u001b[39;00m \u001b[38;5;21m_get_label\u001b[39m(\u001b[38;5;28mself\u001b[39m, label, axis: AxisInt):\n\u001b[0;32m   1380\u001b[0m     \u001b[38;5;66;03m# GH#5567 this will fail if the label is not present in the axis.\u001b[39;00m\n\u001b[1;32m-> 1381\u001b[0m     \u001b[38;5;28;01mreturn\u001b[39;00m \u001b[38;5;28;43mself\u001b[39;49m\u001b[38;5;241;43m.\u001b[39;49m\u001b[43mobj\u001b[49m\u001b[38;5;241;43m.\u001b[39;49m\u001b[43mxs\u001b[49m\u001b[43m(\u001b[49m\u001b[43mlabel\u001b[49m\u001b[43m,\u001b[49m\u001b[43m \u001b[49m\u001b[43maxis\u001b[49m\u001b[38;5;241;43m=\u001b[39;49m\u001b[43maxis\u001b[49m\u001b[43m)\u001b[49m\n",
      "File \u001b[1;32m~\\Desktop\\alphaco_924\\venv\\Lib\\site-packages\\pandas\\core\\generic.py:4301\u001b[0m, in \u001b[0;36mNDFrame.xs\u001b[1;34m(self, key, axis, level, drop_level)\u001b[0m\n\u001b[0;32m   4299\u001b[0m             new_index \u001b[38;5;241m=\u001b[39m index[loc]\n\u001b[0;32m   4300\u001b[0m \u001b[38;5;28;01melse\u001b[39;00m:\n\u001b[1;32m-> 4301\u001b[0m     loc \u001b[38;5;241m=\u001b[39m \u001b[43mindex\u001b[49m\u001b[38;5;241;43m.\u001b[39;49m\u001b[43mget_loc\u001b[49m\u001b[43m(\u001b[49m\u001b[43mkey\u001b[49m\u001b[43m)\u001b[49m\n\u001b[0;32m   4303\u001b[0m     \u001b[38;5;28;01mif\u001b[39;00m \u001b[38;5;28misinstance\u001b[39m(loc, np\u001b[38;5;241m.\u001b[39mndarray):\n\u001b[0;32m   4304\u001b[0m         \u001b[38;5;28;01mif\u001b[39;00m loc\u001b[38;5;241m.\u001b[39mdtype \u001b[38;5;241m==\u001b[39m np\u001b[38;5;241m.\u001b[39mbool_:\n",
      "File \u001b[1;32m~\\Desktop\\alphaco_924\\venv\\Lib\\site-packages\\pandas\\core\\indexes\\range.py:417\u001b[0m, in \u001b[0;36mRangeIndex.get_loc\u001b[1;34m(self, key)\u001b[0m\n\u001b[0;32m    415\u001b[0m         \u001b[38;5;28;01mraise\u001b[39;00m \u001b[38;5;167;01mKeyError\u001b[39;00m(key) \u001b[38;5;28;01mfrom\u001b[39;00m \u001b[38;5;21;01merr\u001b[39;00m\n\u001b[0;32m    416\u001b[0m \u001b[38;5;28;01mif\u001b[39;00m \u001b[38;5;28misinstance\u001b[39m(key, Hashable):\n\u001b[1;32m--> 417\u001b[0m     \u001b[38;5;28;01mraise\u001b[39;00m \u001b[38;5;167;01mKeyError\u001b[39;00m(key)\n\u001b[0;32m    418\u001b[0m \u001b[38;5;28mself\u001b[39m\u001b[38;5;241m.\u001b[39m_check_indexing_error(key)\n\u001b[0;32m    419\u001b[0m \u001b[38;5;28;01mraise\u001b[39;00m \u001b[38;5;167;01mKeyError\u001b[39;00m(key)\n",
      "\u001b[1;31mKeyError\u001b[0m: '메로나'"
     ]
    }
   ],
   "source": [
    "data = [1000, 2000, 3000]\n",
    "\n",
    "s2 = pd.Series(data=data)\n",
    "print(s2.iloc[0])\n",
    "print(s2.loc[\"메로나\"])   \n",
    "\n",
    "# =>에러이유: s2는 인덱스가 없음\n",
    "# loc는 값을 통해 인덱스에 접근 \n",
    "# iloc는 인덱스 번호로 처리, 위치기반, 슬라이싱하는 것처럼 생각"
   ]
  },
  {
   "cell_type": "code",
   "execution_count": 36,
   "id": "cb879c90-58f7-41d1-9544-4fb648e7b3ad",
   "metadata": {},
   "outputs": [
    {
     "data": {
      "text/plain": [
       "[0, 1, 2]"
      ]
     },
     "execution_count": 36,
     "metadata": {},
     "output_type": "execute_result"
    }
   ],
   "source": [
    "s2.index.to_list()"
   ]
  },
  {
   "cell_type": "code",
   "execution_count": 40,
   "id": "0cf098bd-9cda-4abb-9e60-2fab0c112e24",
   "metadata": {},
   "outputs": [
    {
     "name": "stdout",
     "output_type": "stream",
     "text": [
      "1000\n",
      "1000\n"
     ]
    }
   ],
   "source": [
    "print(s2.iloc[0])  #iloc에서의 0은 위치 0을 의미\n",
    "print(s2.loc[0])    #loc에서의 0은 라벨 0을 의미"
   ]
  },
  {
   "cell_type": "markdown",
   "id": "bda4e75d-ee30-4116-9d41-9c0055fb6cf8",
   "metadata": {},
   "source": [
    "# 슬라이싱"
   ]
  },
  {
   "cell_type": "code",
   "execution_count": 42,
   "id": "ea518f12-42bc-471e-97aa-bfd66f63abbe",
   "metadata": {},
   "outputs": [
    {
     "data": {
      "text/plain": [
       "메로나    1000\n",
       "월드콘    2000\n",
       "dtype: int64"
      ]
     },
     "execution_count": 42,
     "metadata": {},
     "output_type": "execute_result"
    }
   ],
   "source": [
    "s.iloc[0:2]"
   ]
  },
  {
   "cell_type": "code",
   "execution_count": 44,
   "id": "1cb1162a-c8a4-4c28-8148-92c717a0444a",
   "metadata": {},
   "outputs": [
    {
     "data": {
      "text/plain": [
       "메로나    1000\n",
       "월드콘    2000\n",
       "와      3000\n",
       "dtype: int64"
      ]
     },
     "execution_count": 44,
     "metadata": {},
     "output_type": "execute_result"
    }
   ],
   "source": [
    "s.loc[\"메로나\":\"와\"]"
   ]
  },
  {
   "cell_type": "code",
   "execution_count": 46,
   "id": "9e281ea8-aa56-4f31-8c28-6c3f949f7f6b",
   "metadata": {},
   "outputs": [
    {
     "data": {
      "text/plain": [
       "0    1000\n",
       "1    2000\n",
       "dtype: int64"
      ]
     },
     "execution_count": 46,
     "metadata": {},
     "output_type": "execute_result"
    }
   ],
   "source": [
    "s2.iloc[0:2]"
   ]
  },
  {
   "cell_type": "code",
   "execution_count": 47,
   "id": "b65bab5a-d532-4925-bc7a-bbf370a7094d",
   "metadata": {},
   "outputs": [
    {
     "data": {
      "text/plain": [
       "0    1000\n",
       "1    2000\n",
       "2    3000\n",
       "dtype: int64"
      ]
     },
     "execution_count": 47,
     "metadata": {},
     "output_type": "execute_result"
    }
   ],
   "source": [
    "s2.loc[0:2]"
   ]
  },
  {
   "cell_type": "markdown",
   "id": "7658fbd7-acaf-4c90-ac8f-1197881d9648",
   "metadata": {},
   "source": [
    "## 시리즈 수정/추가/삭제"
   ]
  },
  {
   "cell_type": "code",
   "execution_count": 48,
   "id": "76cde2dc-7707-48c3-a08a-01497c5780c9",
   "metadata": {},
   "outputs": [
    {
     "data": {
      "text/plain": [
       "메로나    1000\n",
       "월드콘    2000\n",
       "와      3000\n",
       "dtype: int64"
      ]
     },
     "execution_count": 48,
     "metadata": {},
     "output_type": "execute_result"
    }
   ],
   "source": [
    "s"
   ]
  },
  {
   "cell_type": "code",
   "execution_count": 50,
   "id": "e1ab7a95-185b-4207-badf-a8035af2f6d5",
   "metadata": {},
   "outputs": [
    {
     "data": {
      "text/plain": [
       "메로나     500\n",
       "월드콘    2000\n",
       "와      3000\n",
       "dtype: int64"
      ]
     },
     "execution_count": 50,
     "metadata": {},
     "output_type": "execute_result"
    }
   ],
   "source": [
    "s.loc[\"메로나\"] = 500\n",
    "s"
   ]
  },
  {
   "cell_type": "code",
   "execution_count": 51,
   "id": "d0850652-20db-4b30-a098-002b06ac4e96",
   "metadata": {},
   "outputs": [
    {
     "data": {
      "text/plain": [
       "메로나     500\n",
       "월드콘    2000\n",
       "와      3000\n",
       "dtype: int64"
      ]
     },
     "execution_count": 51,
     "metadata": {},
     "output_type": "execute_result"
    }
   ],
   "source": [
    "s.iloc[0] = 500\n",
    "s"
   ]
  },
  {
   "cell_type": "code",
   "execution_count": 53,
   "id": "34e86f8c-cc1a-4f21-b390-d2f3847e8a0e",
   "metadata": {},
   "outputs": [
    {
     "data": {
      "text/plain": [
       "메로나     500\n",
       "월드콘    2000\n",
       "와      3000\n",
       "dtype: int64"
      ]
     },
     "execution_count": 53,
     "metadata": {},
     "output_type": "execute_result"
    }
   ],
   "source": [
    "s['메로나'] = 500\n",
    "s"
   ]
  },
  {
   "cell_type": "markdown",
   "id": "468b4753-69c4-4eec-b9e0-73ec5d9cac44",
   "metadata": {},
   "source": [
    "# 시리즈 연산"
   ]
  },
  {
   "cell_type": "code",
   "execution_count": 58,
   "id": "9a7ea3c5-1668-44d1-b101-640ae549b1cf",
   "metadata": {},
   "outputs": [],
   "source": [
    "import pandas as pd\n",
    "\n",
    "evan = pd.Series([10,20,30], index=['naver', 'apple', 'nvidia'])\n",
    "a = pd.Series([10,20,30], index=['nvidia', 'apple', 'naver'])"
   ]
  },
  {
   "cell_type": "code",
   "execution_count": 55,
   "id": "9f4f1fd5-9c54-456a-9627-6aa4213050ee",
   "metadata": {},
   "outputs": [
    {
     "data": {
      "text/plain": [
       "naver     10\n",
       "apple     20\n",
       "nvidia    30\n",
       "dtype: int64"
      ]
     },
     "execution_count": 55,
     "metadata": {},
     "output_type": "execute_result"
    }
   ],
   "source": [
    "evan"
   ]
  },
  {
   "cell_type": "code",
   "execution_count": 59,
   "id": "3a89315c-88f6-4acd-82c1-2b4914be10c5",
   "metadata": {},
   "outputs": [
    {
     "data": {
      "text/plain": [
       "nvidia    10\n",
       "apple     20\n",
       "naver     30\n",
       "dtype: int64"
      ]
     },
     "execution_count": 59,
     "metadata": {},
     "output_type": "execute_result"
    }
   ],
   "source": [
    "a"
   ]
  },
  {
   "cell_type": "code",
   "execution_count": 60,
   "id": "bbca033b-7bfc-4d99-b645-d83ce60f102d",
   "metadata": {},
   "outputs": [
    {
     "data": {
      "text/plain": [
       "apple     40\n",
       "naver     40\n",
       "nvidia    40\n",
       "dtype: int64"
      ]
     },
     "execution_count": 60,
     "metadata": {},
     "output_type": "execute_result"
    }
   ],
   "source": [
    "#우리 가족이 보유하고 있는 주식의 숫자를 계산\n",
    "evan + a"
   ]
  },
  {
   "cell_type": "code",
   "execution_count": 61,
   "id": "87a6c26d-a19d-440a-8be0-205a112443fb",
   "metadata": {},
   "outputs": [
    {
     "data": {
      "text/plain": [
       "apple     40.0\n",
       "naver     40.0\n",
       "nvidia     NaN\n",
       "테슬라        NaN\n",
       "dtype: float64"
      ]
     },
     "execution_count": 61,
     "metadata": {},
     "output_type": "execute_result"
    }
   ],
   "source": [
    "evan = pd.Series([10,20,30], index=['naver', 'apple', '테슬라'])\n",
    "a = pd.Series([10,20,30], index=['nvidia', 'apple', 'naver'])\n",
    "\n",
    "evan + a"
   ]
  },
  {
   "cell_type": "code",
   "execution_count": 63,
   "id": "78108456-3816-4be2-9cc3-8a7f8b5ce9e8",
   "metadata": {},
   "outputs": [
    {
     "name": "stdout",
     "output_type": "stream",
     "text": [
      "6/1    650\n",
      "6/2    550\n",
      "6/3    750\n",
      "6/4    800\n",
      "6/5    650\n",
      "dtype: int64\n"
     ]
    }
   ],
   "source": [
    "date = [\"6/1\", \"6/2\", \"6/3\", \"6/4\", \"6/5\"]\n",
    "high = pd.Series([42800, 42700, 42050, 42950, 43000], index=date)\n",
    "low = pd.Series([42150, 42150, 41300, 42150, 42350] , index=date)\n",
    "\n",
    "diff = high - low\n",
    "print(diff)"
   ]
  },
  {
   "cell_type": "code",
   "execution_count": 66,
   "id": "7740da92-63cf-49c6-b03c-0a57042b1c17",
   "metadata": {},
   "outputs": [
    {
     "data": {
      "text/plain": [
       "('6/4', np.int64(800))"
      ]
     },
     "execution_count": 66,
     "metadata": {},
     "output_type": "execute_result"
    }
   ],
   "source": [
    "diff.idxmax(), diff[diff.idxmax()]"
   ]
  },
  {
   "cell_type": "code",
   "execution_count": 67,
   "id": "228e6493-47e3-45f1-96f1-96249b037d21",
   "metadata": {},
   "outputs": [
    {
     "data": {
      "text/plain": [
       "('6/2', np.int64(550))"
      ]
     },
     "execution_count": 67,
     "metadata": {},
     "output_type": "execute_result"
    }
   ],
   "source": [
    "diff.idxmin(), diff[diff.idxmin()]"
   ]
  },
  {
   "cell_type": "code",
   "execution_count": 71,
   "id": "7e56aa88-ff61-4521-9081-0cab7db96a43",
   "metadata": {},
   "outputs": [
    {
     "name": "stdout",
     "output_type": "stream",
     "text": [
      "6/1    650\n",
      "6/2    550\n",
      "6/3    750\n",
      "6/4    800\n",
      "6/5    650\n",
      "dtype: int64\n"
     ]
    },
    {
     "data": {
      "text/plain": [
       "('6/2', np.int64(550))"
      ]
     },
     "execution_count": 71,
     "metadata": {},
     "output_type": "execute_result"
    }
   ],
   "source": [
    "date = [\"6/1\", \"6/2\", \"6/3\", \"6/4\", \"6/5\"]\n",
    "high = pd.Series([42800, 42700, 42050, 42950, 43000], index=date)  #매도\n",
    "low = pd.Series([42150, 42150, 41300, 42150, 42350] , index=date)  #매수\n",
    "\n",
    "diff = high - low\n",
    "print(diff) \n",
    "\n",
    "diff.idxmax(), diff[diff.idxmax()] \n",
    "diff.idxmin(), diff[diff.idxmin()]"
   ]
  },
  {
   "cell_type": "code",
   "execution_count": 69,
   "id": "2039c788-e7d9-42db-adce-2eff07a0bd78",
   "metadata": {},
   "outputs": [
    {
     "data": {
      "text/plain": [
       "6/1    1.015421\n",
       "6/2    1.013049\n",
       "6/3    1.018160\n",
       "6/4    1.018980\n",
       "6/5    1.015348\n",
       "dtype: float64"
      ]
     },
     "execution_count": 69,
     "metadata": {},
     "output_type": "execute_result"
    }
   ],
   "source": [
    "profit = high / low   #단순 수익률 계산\n",
    "profit"
   ]
  },
  {
   "cell_type": "code",
   "execution_count": 72,
   "id": "013e2b52-832e-4729-8610-a3dc74c44b5a",
   "metadata": {},
   "outputs": [
    {
     "data": {
      "text/plain": [
       "6/1    1.015421\n",
       "6/2    1.028671\n",
       "6/3    1.047351\n",
       "6/4    1.067230\n",
       "6/5    1.083610\n",
       "dtype: float64"
      ]
     },
     "execution_count": 72,
     "metadata": {},
     "output_type": "execute_result"
    }
   ],
   "source": [
    "profit.cumprod() #누적값"
   ]
  },
  {
   "cell_type": "markdown",
   "id": "5409096d-6819-4323-94af-46acbe39e68b",
   "metadata": {},
   "source": [
    "# 시리즈와 Map"
   ]
  },
  {
   "cell_type": "code",
   "execution_count": 74,
   "id": "95a073ce-9b5b-47a6-a4a2-daf09efc13c4",
   "metadata": {},
   "outputs": [
    {
     "data": {
      "text/plain": [
       "1234"
      ]
     },
     "execution_count": 74,
     "metadata": {},
     "output_type": "execute_result"
    }
   ],
   "source": [
    "text = '1,234'\n",
    "int(text.replace(',',''))"
   ]
  },
  {
   "cell_type": "code",
   "execution_count": 76,
   "id": "9c5b3950-181b-46a9-b768-ea11e2c3f256",
   "metadata": {},
   "outputs": [
    {
     "data": {
      "text/plain": [
       "[1234, 5678, 12345]"
      ]
     },
     "execution_count": 76,
     "metadata": {},
     "output_type": "execute_result"
    }
   ],
   "source": [
    "num_str = ['1,234', '5,678', '12,345']\n",
    "results = []\n",
    "for num in num_str:\n",
    "    temp = int(num.replace(',',''))\n",
    "    results.append(temp)\n",
    "\n",
    "results"
   ]
  },
  {
   "cell_type": "code",
   "execution_count": 78,
   "id": "13facf31-d1b4-4925-a7dd-b39bcffb018b",
   "metadata": {},
   "outputs": [],
   "source": [
    "def rm_comma(s):\n",
    "    return int(num.replace(',',''))    # => 사용자 정의 함수를 만들면 map을 사용해서 반복문을 안 써도 됨 "
   ]
  },
  {
   "cell_type": "code",
   "execution_count": 80,
   "id": "0d3c89c7-9fda-4f9a-a9a2-fc692799c468",
   "metadata": {},
   "outputs": [
    {
     "data": {
      "text/plain": [
       "0    12345\n",
       "1    12345\n",
       "2    12345\n",
       "dtype: int64"
      ]
     },
     "execution_count": 80,
     "metadata": {},
     "output_type": "execute_result"
    }
   ],
   "source": [
    "s= pd.Series(['1,234', '5,678', '12,345'])\n",
    "result = s.map(rm_comma)\n",
    "result"
   ]
  },
  {
   "cell_type": "code",
   "execution_count": 81,
   "id": "6a8e4d6f-dfad-49a3-9a90-079d3059dd69",
   "metadata": {},
   "outputs": [],
   "source": [
    "def remove_dollar_sign(x):\n",
    "    return float(x.replace('$', '').replace(',', ''))\n",
    "s = pd.Series(['$1,234.56', '$5,678.90', '$12,345.67'])\n",
    "result = s.map(remove_dollar_sign)"
   ]
  },
  {
   "cell_type": "markdown",
   "id": "05d58b5a-0629-42fb-94fe-a48effd46e51",
   "metadata": {},
   "source": [
    "## 연습문제\n",
    "- 기준점이 13이상\n",
    "  + 크다 or 작다 "
   ]
  },
  {
   "cell_type": "code",
   "execution_count": 82,
   "id": "e0b3f858-96a7-4628-8ef6-c0ce734c24f8",
   "metadata": {},
   "outputs": [
    {
     "data": {
      "text/plain": [
       "0     5\n",
       "1    10\n",
       "2    15\n",
       "3    20\n",
       "dtype: int64"
      ]
     },
     "execution_count": 82,
     "metadata": {},
     "output_type": "execute_result"
    }
   ],
   "source": [
    "s = pd.Series([5,10,15,20])\n",
    "s"
   ]
  },
  {
   "cell_type": "code",
   "execution_count": 83,
   "id": "d46553f3-dc11-4a8c-8d0e-5891d5a0b5f0",
   "metadata": {},
   "outputs": [
    {
     "data": {
      "text/plain": [
       "0    작다\n",
       "1    크다\n",
       "2    작다\n",
       "3    크다\n",
       "4    크다\n",
       "dtype: object"
      ]
     },
     "execution_count": 83,
     "metadata": {},
     "output_type": "execute_result"
    }
   ],
   "source": [
    "def is_greater_13(x): \n",
    "\n",
    "    return_text = None\n",
    "    if x >= 13:\n",
    "        return \"크다\"\n",
    "    else:\n",
    "        return \"작다\" \n",
    "\n",
    "s = pd.Series([10, 15, 7, 20, 13])\n",
    "s.map(is_greater_13)"
   ]
  },
  {
   "cell_type": "code",
   "execution_count": 85,
   "id": "530f9455-1e45-40cf-865d-256535280278",
   "metadata": {},
   "outputs": [
    {
     "name": "stdout",
     "output_type": "stream",
     "text": [
      "0    작다\n",
      "1    크다\n",
      "2    작다\n",
      "3    크다\n",
      "4    크다\n",
      "dtype: object\n"
     ]
    }
   ],
   "source": [
    "result = s.map(lambda x: '크다' if x >= 13 else '작다')\n",
    "print(result)"
   ]
  },
  {
   "cell_type": "code",
   "execution_count": 86,
   "id": "f1cc83c9-c51a-4e3e-be70-612a9f3f3feb",
   "metadata": {},
   "outputs": [
    {
     "name": "stdout",
     "output_type": "stream",
     "text": [
      "0    작다\n",
      "1    크다\n",
      "2    작다\n",
      "3    크다\n",
      "4    크다\n",
      "dtype: object\n"
     ]
    }
   ],
   "source": [
    "result = s.apply(lambda x: '크다' if x >= 13 else '작다')\n",
    "print(result)"
   ]
  },
  {
   "cell_type": "markdown",
   "id": "deb49d26-7cf2-4c9c-9a34-df6a0b613483",
   "metadata": {},
   "source": [
    "# 필터링"
   ]
  },
  {
   "cell_type": "code",
   "execution_count": 87,
   "id": "0e49f057-3692-4485-bfd5-8807366bdd3d",
   "metadata": {},
   "outputs": [
    {
     "data": {
      "text/plain": [
       "2019-05-31    42500\n",
       "2019-05-30    42550\n",
       "2019-05-29    41800\n",
       "2019-05-28    42550\n",
       "2019-05-27    42650\n",
       "dtype: int64"
      ]
     },
     "execution_count": 87,
     "metadata": {},
     "output_type": "execute_result"
    }
   ],
   "source": [
    "data = [42500, 42550, 41800, 42550, 42650]\n",
    "index = ['2019-05-31', '2019-05-30', '2019-05-29', '2019-05-28', '2019-05-27']\n",
    "s = pd.Series(data=data, index=index)\n",
    "s"
   ]
  },
  {
   "cell_type": "code",
   "execution_count": 88,
   "id": "a2384151-de0f-451b-941f-189deb1c9612",
   "metadata": {},
   "outputs": [
    {
     "name": "stdout",
     "output_type": "stream",
     "text": [
      "2019-05-31     True\n",
      "2019-05-30     True\n",
      "2019-05-29    False\n",
      "2019-05-28     True\n",
      "2019-05-27     True\n",
      "dtype: bool\n"
     ]
    }
   ],
   "source": [
    "cond = s > 42000\n",
    "print(cond)"
   ]
  },
  {
   "cell_type": "code",
   "execution_count": 89,
   "id": "60a35b29-2345-46bc-a69c-c5a95533aa02",
   "metadata": {},
   "outputs": [
    {
     "data": {
      "text/plain": [
       "2019-05-31    42500\n",
       "2019-05-30    42550\n",
       "2019-05-28    42550\n",
       "2019-05-27    42650\n",
       "dtype: int64"
      ]
     },
     "execution_count": 89,
     "metadata": {},
     "output_type": "execute_result"
    }
   ],
   "source": [
    "s[cond]"
   ]
  },
  {
   "cell_type": "code",
   "execution_count": 90,
   "id": "74d89e6e-aaf9-4006-beb0-e73cc1fa279f",
   "metadata": {},
   "outputs": [
    {
     "data": {
      "text/plain": [
       "2019-05-31    42500\n",
       "2019-05-30    42550\n",
       "2019-05-28    42550\n",
       "2019-05-27    42650\n",
       "dtype: int64"
      ]
     },
     "execution_count": 90,
     "metadata": {},
     "output_type": "execute_result"
    }
   ],
   "source": [
    "s[s > 42000]"
   ]
  },
  {
   "cell_type": "code",
   "execution_count": null,
   "id": "c992a3ff-f6ad-4963-85f1-13c8a65109b2",
   "metadata": {},
   "outputs": [],
   "source": [
    "## 문제 : 종가가 시가보다 높은 날을 구하세요 "
   ]
  },
  {
   "cell_type": "code",
   "execution_count": 92,
   "id": "1fca1013-112b-438f-af96-26a22ce6f4d2",
   "metadata": {},
   "outputs": [],
   "source": [
    "close = [42500, 42550, 41800, 42550, 42650]\n",
    "open = [42600, 42200, 41850, 42550, 42500]\n",
    "index = ['2019-05-31', '2019-05-30', '2019-05-29', '2019-05-28', '2019-05-27']\n",
    "\n",
    "open = pd.Series(data=open, index=index)\n",
    "close = pd.Series(data=close, index=index)"
   ]
  },
  {
   "cell_type": "code",
   "execution_count": 96,
   "id": "6f1ff55b-a0bd-4f8f-af1c-b1233741c1b1",
   "metadata": {},
   "outputs": [
    {
     "name": "stdout",
     "output_type": "stream",
     "text": [
      "2019-05-31    False\n",
      "2019-05-30     True\n",
      "2019-05-29    False\n",
      "2019-05-28    False\n",
      "2019-05-27     True\n",
      "dtype: bool\n"
     ]
    }
   ],
   "source": [
    "s = close - open\n",
    "cond = s > 0 \n",
    "print(cond)"
   ]
  },
  {
   "cell_type": "code",
   "execution_count": 97,
   "id": "982b7dbd-7128-4b2c-a461-2cfb923b9d78",
   "metadata": {},
   "outputs": [
    {
     "data": {
      "text/plain": [
       "2019-05-30    350\n",
       "2019-05-27    150\n",
       "dtype: int64"
      ]
     },
     "execution_count": 97,
     "metadata": {},
     "output_type": "execute_result"
    }
   ],
   "source": [
    "s[cond]"
   ]
  },
  {
   "cell_type": "code",
   "execution_count": 99,
   "id": "10139564-834f-4ddc-b780-176e8173b080",
   "metadata": {},
   "outputs": [
    {
     "data": {
      "text/plain": [
       "2019-05-30    42550\n",
       "2019-05-27    42650\n",
       "dtype: int64"
      ]
     },
     "execution_count": 99,
     "metadata": {},
     "output_type": "execute_result"
    }
   ],
   "source": [
    "close[close > open]   #이게 정답"
   ]
  },
  {
   "cell_type": "code",
   "execution_count": 100,
   "id": "5548fd76-a3db-469a-a209-081063a87c1b",
   "metadata": {},
   "outputs": [
    {
     "data": {
      "text/plain": [
       "360000"
      ]
     },
     "execution_count": 100,
     "metadata": {},
     "output_type": "execute_result"
    }
   ],
   "source": [
    "18000*20"
   ]
  }
 ],
 "metadata": {
  "kernelspec": {
   "display_name": "Python 3 (ipykernel)",
   "language": "python",
   "name": "python3"
  },
  "language_info": {
   "codemirror_mode": {
    "name": "ipython",
    "version": 3
   },
   "file_extension": ".py",
   "mimetype": "text/x-python",
   "name": "python",
   "nbconvert_exporter": "python",
   "pygments_lexer": "ipython3",
   "version": "3.12.6"
  }
 },
 "nbformat": 4,
 "nbformat_minor": 5
}
