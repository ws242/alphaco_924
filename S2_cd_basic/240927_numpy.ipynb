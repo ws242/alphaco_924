{
 "cells": [
  {
   "cell_type": "markdown",
   "id": "06e16ab4-df67-4dd5-b884-30f4e471644e",
   "metadata": {},
   "source": [
    "## 라이브러리 설치"
   ]
  },
  {
   "cell_type": "code",
   "execution_count": null,
   "id": "34495e76-f6a3-4360-829b-3d4c0daa628b",
   "metadata": {},
   "outputs": [],
   "source": [
    "!pip install numpy  -> 추가로 라이브러리 설치 / 경로 확인 잘 할 것 "
   ]
  },
  {
   "cell_type": "code",
   "execution_count": 2,
   "id": "212be33a-9805-43bf-807e-cfc89dc88395",
   "metadata": {},
   "outputs": [
    {
     "name": "stdout",
     "output_type": "stream",
     "text": [
      "2.1.1\n"
     ]
    }
   ],
   "source": [
    "import numpy as np  #설치했다고 바로 쓸 수 있는 것이 아니라 import 해야함. \n",
    "\n",
    "print(np.__version__)"
   ]
  },
  {
   "cell_type": "code",
   "execution_count": 3,
   "id": "92af1755-4c00-4775-9c0c-4873ba833149",
   "metadata": {
    "scrolled": true
   },
   "outputs": [],
   "source": [
    " # help(np)"
   ]
  },
  {
   "cell_type": "code",
   "execution_count": 4,
   "id": "fcf9faf8-7558-4d17-979c-31635f249006",
   "metadata": {},
   "outputs": [],
   "source": [
    "num1 = [1, 2, 3]\n",
    "num2 = [4, 5, 6]"
   ]
  },
  {
   "cell_type": "code",
   "execution_count": 5,
   "id": "15a8d537-432d-4d54-9cb0-94706f09971e",
   "metadata": {},
   "outputs": [
    {
     "data": {
      "text/plain": [
       "array([5, 7, 9])"
      ]
     },
     "execution_count": 5,
     "metadata": {},
     "output_type": "execute_result"
    }
   ],
   "source": [
    "num1_arr = np.array(num1)\n",
    "num2_arr = np.array(num2)\n",
    "\n",
    "num1_arr + num2_arr"
   ]
  },
  {
   "cell_type": "code",
   "execution_count": 7,
   "id": "0dfe6558-6e6b-41ef-9dc7-e3c5f818475a",
   "metadata": {},
   "outputs": [
    {
     "name": "stdout",
     "output_type": "stream",
     "text": [
      "<class 'numpy.ndarray'>\n"
     ]
    }
   ],
   "source": [
    "print(type(num1_arr))"
   ]
  },
  {
   "cell_type": "code",
   "execution_count": 8,
   "id": "01565403-4c2e-456c-9a9b-ccb67ff993ca",
   "metadata": {},
   "outputs": [
    {
     "data": {
      "text/plain": [
       "<memory at 0x000001D69FEF3340>"
      ]
     },
     "execution_count": 8,
     "metadata": {},
     "output_type": "execute_result"
    }
   ],
   "source": [
    "num1_arr.data"
   ]
  },
  {
   "cell_type": "code",
   "execution_count": 9,
   "id": "42e60409-2726-46d7-80ff-1c0db1331352",
   "metadata": {},
   "outputs": [
    {
     "data": {
      "text/plain": [
       "dtype('int64')"
      ]
     },
     "execution_count": 9,
     "metadata": {},
     "output_type": "execute_result"
    }
   ],
   "source": [
    "num1_arr.dtype -> 행렬의 "
   ]
  },
  {
   "cell_type": "code",
   "execution_count": 10,
   "id": "7d13b4a4-8112-48b5-9fc6-ad25e43f7e6b",
   "metadata": {},
   "outputs": [
    {
     "data": {
      "text/plain": [
       "(3,)"
      ]
     },
     "execution_count": 10,
     "metadata": {},
     "output_type": "execute_result"
    }
   ],
   "source": [
    "num1_arr.shape"
   ]
  },
  {
   "cell_type": "code",
   "execution_count": 11,
   "id": "3b5df537-a1c6-43f8-84b4-50fcdaa6187c",
   "metadata": {},
   "outputs": [
    {
     "data": {
      "text/plain": [
       "1"
      ]
     },
     "execution_count": 11,
     "metadata": {},
     "output_type": "execute_result"
    }
   ],
   "source": [
    "num1_arr.ndim"
   ]
  },
  {
   "cell_type": "code",
   "execution_count": 13,
   "id": "dde9f2c5-0b2d-4746-a974-c57aab06fe1f",
   "metadata": {},
   "outputs": [
    {
     "data": {
      "text/plain": [
       "np.int64(3)"
      ]
     },
     "execution_count": 13,
     "metadata": {},
     "output_type": "execute_result"
    }
   ],
   "source": [
    "num1_arr.max()"
   ]
  },
  {
   "cell_type": "markdown",
   "id": "57030668-ab09-43ed-8617-db7268dccb6e",
   "metadata": {},
   "source": [
    "# 우리 회사에서 주로 다루는 데이터는 0~100만원 미만"
   ]
  },
  {
   "cell_type": "code",
   "execution_count": 14,
   "id": "b6688db1-f842-4db1-87f2-065110a35f5d",
   "metadata": {},
   "outputs": [
    {
     "data": {
      "text/plain": [
       "dtype('int8')"
      ]
     },
     "execution_count": 14,
     "metadata": {},
     "output_type": "execute_result"
    }
   ],
   "source": [
    "num1_arr = np.array(num1, dtype=\"int8\")\n",
    "num1_arr.dtype"
   ]
  },
  {
   "cell_type": "markdown",
   "id": "68542847-f73b-4a00-851d-ea3aaa2ed9cd",
   "metadata": {},
   "source": [
    "## 배열 만드는 방법"
   ]
  },
  {
   "cell_type": "code",
   "execution_count": 16,
   "id": "74f5e253-df84-4529-8dd2-b27989b748ce",
   "metadata": {},
   "outputs": [
    {
     "name": "stdout",
     "output_type": "stream",
     "text": [
      "[1. 1. 1.]\n"
     ]
    }
   ],
   "source": [
    "# 기본적으로 다른 데이터 자료형으로 numpy배열로 변환\n",
    "# 배열 생성\n",
    "\n",
    "print(np.ones(3))"
   ]
  },
  {
   "cell_type": "code",
   "execution_count": 17,
   "id": "daf7ce9a-bf5b-4e8e-b5c0-228ca04e7def",
   "metadata": {},
   "outputs": [
    {
     "name": "stdout",
     "output_type": "stream",
     "text": [
      "[0. 0. 0.]\n"
     ]
    }
   ],
   "source": [
    "print(np.zeros(3))   =>0을 출력하는 함수"
   ]
  },
  {
   "cell_type": "code",
   "execution_count": 18,
   "id": "f97983c7-27d9-4930-89e2-285f41c02bb5",
   "metadata": {},
   "outputs": [
    {
     "name": "stdout",
     "output_type": "stream",
     "text": [
      "[[0.00000000e+000 9.98679157e-312]\n",
      " [9.98679159e-312 9.98679158e-312]]\n"
     ]
    }
   ],
   "source": [
    "print(np.ndarray(shape=(2,2), dtype=float, order='F'))"
   ]
  },
  {
   "cell_type": "code",
   "execution_count": 19,
   "id": "8d353aa0-30b5-4fc9-9403-d8ac946a95f7",
   "metadata": {},
   "outputs": [
    {
     "data": {
      "text/plain": [
       "(2, 2)"
      ]
     },
     "execution_count": 19,
     "metadata": {},
     "output_type": "execute_result"
    }
   ],
   "source": [
    "arr = np.ndarray(shape=(2,2), dtype=float, order='F')\n",
    "arr.shape"
   ]
  },
  {
   "cell_type": "markdown",
   "id": "f18fe77e-21ba-43d0-840f-0669c5dc2b68",
   "metadata": {},
   "source": [
    "# 배열의 차원 변경"
   ]
  },
  {
   "cell_type": "code",
   "execution_count": 25,
   "id": "9bab5109-cd58-4567-a2f1-e79c57c26e62",
   "metadata": {},
   "outputs": [
    {
     "data": {
      "text/plain": [
       "array([[[ 0,  1,  2,  3],\n",
       "        [ 4,  5,  6,  7]],\n",
       "\n",
       "       [[ 8,  9, 10, 11],\n",
       "        [12, 13, 14, 15]]])"
      ]
     },
     "execution_count": 25,
     "metadata": {},
     "output_type": "execute_result"
    }
   ],
   "source": [
    "temp_arr = np.arange(16)\n",
    "temp_arr.reshape(2, 2, 4)"
   ]
  },
  {
   "cell_type": "code",
   "execution_count": 29,
   "id": "cf0fb62d-330f-4993-950f-f320a134f17b",
   "metadata": {},
   "outputs": [
    {
     "name": "stdout",
     "output_type": "stream",
     "text": [
      "[1.333]\n",
      "[1.333333]\n",
      "[0.4443]\n",
      "[0.44444433]\n"
     ]
    }
   ],
   "source": [
    "a16 = np.array([1.333333],dtype = np.float16)\n",
    "a32 = np.array([1.333333],dtype = np.float32)\n",
    "\n",
    "print(a16)\n",
    "print(a32)\n",
    "\n",
    "print(a16/3)\n",
    "print(a32/3)"
   ]
  },
  {
   "cell_type": "code",
   "execution_count": 30,
   "id": "f73af0ed-19c8-4c1b-80f4-d91d9d5131b0",
   "metadata": {},
   "outputs": [
    {
     "name": "stderr",
     "output_type": "stream",
     "text": [
      "C:\\Users\\campus3S020\\AppData\\Local\\Temp\\ipykernel_10944\\3465403327.py:2: RuntimeWarning: divide by zero encountered in divide\n",
      "  arr/0\n"
     ]
    },
    {
     "data": {
      "text/plain": [
       "array([-inf,  inf, -inf])"
      ]
     },
     "execution_count": 30,
     "metadata": {},
     "output_type": "execute_result"
    }
   ],
   "source": [
    "arr = np.array([-1, 2, -3])\n",
    "arr/0"
   ]
  },
  {
   "cell_type": "markdown",
   "id": "e417534a-79f6-4588-982c-85a34b156a84",
   "metadata": {},
   "source": [
    "# 결측치\n",
    "- Missing values : 잃어버린 값\n",
    "- nan : Not a Number, ==> 아직 정의되지 않은 숫자 의미"
   ]
  },
  {
   "cell_type": "code",
   "execution_count": 31,
   "id": "51082ed3-cea9-43a5-92dd-857387e7a8fb",
   "metadata": {},
   "outputs": [
    {
     "name": "stdout",
     "output_type": "stream",
     "text": [
      "nan <class 'float'>\n"
     ]
    }
   ],
   "source": [
    "print(np.nan, type(np.nan))"
   ]
  },
  {
   "cell_type": "code",
   "execution_count": 32,
   "id": "1881136d-a9a6-4862-b165-53be4b66c1e6",
   "metadata": {},
   "outputs": [
    {
     "name": "stdout",
     "output_type": "stream",
     "text": [
      "inf <class 'float'>\n"
     ]
    }
   ],
   "source": [
    "print(np.inf, type(np.inf))   #inf = 무한대"
   ]
  },
  {
   "cell_type": "code",
   "execution_count": 33,
   "id": "f918002f-c04c-49a5-b824-8f01aaf39b2d",
   "metadata": {},
   "outputs": [
    {
     "name": "stdout",
     "output_type": "stream",
     "text": [
      "-inf <class 'float'>\n"
     ]
    }
   ],
   "source": [
    "print(-np.inf, type(-np.inf))"
   ]
  },
  {
   "cell_type": "code",
   "execution_count": 34,
   "id": "7628c2cd-38ed-4bde-863a-1f97b2da6f36",
   "metadata": {},
   "outputs": [
    {
     "name": "stdout",
     "output_type": "stream",
     "text": [
      "[nan nan nan]\n",
      "[inf inf inf]\n"
     ]
    }
   ],
   "source": [
    "arr = np.array([-1, 2, -3])\n",
    "print(arr + np.nan)\n",
    "print(arr + np.inf)"
   ]
  },
  {
   "cell_type": "markdown",
   "id": "1fe53e1a-7e13-469f-8adc-e60e73d8adb5",
   "metadata": {},
   "source": [
    "## 인덱싱 & 슬라이싱"
   ]
  },
  {
   "cell_type": "code",
   "execution_count": 12,
   "id": "fbfc9557-530c-4528-899b-26a3a1a2ca76",
   "metadata": {},
   "outputs": [
    {
     "data": {
      "text/plain": [
       "array([1, 2, 3, 4])"
      ]
     },
     "execution_count": 12,
     "metadata": {},
     "output_type": "execute_result"
    }
   ],
   "source": [
    "arr = np.arange(10)\n",
    "arr[1:5]"
   ]
  },
  {
   "cell_type": "code",
   "execution_count": 13,
   "id": "49fcf202-efbd-440e-8442-f85a6bb42de9",
   "metadata": {},
   "outputs": [
    {
     "data": {
      "text/plain": [
       "array([0, 1, 2, 3, 4, 5, 6, 7, 8, 9])"
      ]
     },
     "execution_count": 13,
     "metadata": {},
     "output_type": "execute_result"
    }
   ],
   "source": [
    "arr = np.arange(10)\n",
    "arr"
   ]
  },
  {
   "cell_type": "code",
   "execution_count": 14,
   "id": "b53a68ed-ddc8-4269-b329-22325f0d4f03",
   "metadata": {},
   "outputs": [
    {
     "data": {
      "text/plain": [
       "np.int64(1)"
      ]
     },
     "execution_count": 14,
     "metadata": {},
     "output_type": "execute_result"
    }
   ],
   "source": [
    "arr = np.arange(10).reshape(2,5)\n",
    "arr[0][1]"
   ]
  },
  {
   "cell_type": "code",
   "execution_count": 10,
   "id": "10e9da11-636d-470b-baf9-b9276d0378c2",
   "metadata": {},
   "outputs": [
    {
     "data": {
      "text/plain": [
       "array([[ 0,  1,  2,  3,  4,  5,  6,  7,  8,  9, 10, 11, 12, 13, 14, 15,\n",
       "        16, 17, 18, 19, 20, 21, 22, 23, 24, 25, 26, 27, 28, 29, 30, 31,\n",
       "        32, 33, 34, 35, 36, 37, 38, 39, 40, 41, 42, 43, 44, 45, 46, 47,\n",
       "        48, 49, 50, 51, 52, 53, 54, 55, 56, 57, 58, 59, 60, 61, 62, 63,\n",
       "        64, 65, 66, 67, 68, 69, 70, 71, 72, 73, 74, 75, 76, 77, 78, 79,\n",
       "        80, 81, 82, 83, 84, 85, 86, 87, 88, 89, 90, 91, 92, 93, 94, 95,\n",
       "        96, 97, 98, 99]])"
      ]
     },
     "execution_count": 10,
     "metadata": {},
     "output_type": "execute_result"
    }
   ],
   "source": [
    "arr = np.arange(10000).reshape(100,100)\n",
    "arr[0:4][0:1]"
   ]
  },
  {
   "cell_type": "code",
   "execution_count": 16,
   "id": "2737ae12-c375-4aeb-8218-3012233981c4",
   "metadata": {},
   "outputs": [
    {
     "data": {
      "text/plain": [
       "np.int64(1)"
      ]
     },
     "execution_count": 16,
     "metadata": {},
     "output_type": "execute_result"
    }
   ],
   "source": [
    "arr = np.arange(4)\n",
    "arr[1]"
   ]
  },
  {
   "cell_type": "code",
   "execution_count": 47,
   "id": "89a118a6-7574-45d6-92ac-5928fd9c4645",
   "metadata": {},
   "outputs": [
    {
     "data": {
      "text/plain": [
       "array([[ 0,  1,  2,  3,  4],\n",
       "       [ 5,  6,  7,  8,  9],\n",
       "       [10, 11, 12, 13, 14],\n",
       "       [15, 16, 17, 18, 19]])"
      ]
     },
     "execution_count": 47,
     "metadata": {},
     "output_type": "execute_result"
    }
   ],
   "source": [
    "arr = np.arange(20).reshape(4,5)\n",
    "arr"
   ]
  },
  {
   "cell_type": "code",
   "execution_count": 52,
   "id": "10413f71-49e6-4492-a382-8345ab0b1770",
   "metadata": {},
   "outputs": [
    {
     "data": {
      "text/plain": [
       "array([[ 7,  8,  9],\n",
       "       [12, 13, 14],\n",
       "       [17, 18, 19]])"
      ]
     },
     "execution_count": 52,
     "metadata": {},
     "output_type": "execute_result"
    }
   ],
   "source": [
    "arr = np.arange(20).reshape(4,5)\n",
    "arr[1:, 2:]   # => [행, 열]"
   ]
  },
  {
   "cell_type": "markdown",
   "id": "75e14f85-43cd-49be-80d9-6672a2bbec06",
   "metadata": {},
   "source": [
    "## 브로드캐스팅 연산"
   ]
  },
  {
   "cell_type": "code",
   "execution_count": 53,
   "id": "68703b83-3a78-466d-905e-b5c2edda70ee",
   "metadata": {},
   "outputs": [
    {
     "data": {
      "text/plain": [
       "array([2, 4, 6])"
      ]
     },
     "execution_count": 53,
     "metadata": {},
     "output_type": "execute_result"
    }
   ],
   "source": [
    "a = np.array([1,2,3])\n",
    "b = np.array([1,2,3])\n",
    "a + b"
   ]
  },
  {
   "cell_type": "code",
   "execution_count": 54,
   "id": "ea675199-8ad3-4d6f-9284-a7eb414f9da7",
   "metadata": {},
   "outputs": [
    {
     "data": {
      "text/plain": [
       "array([4., 5., 6.])"
      ]
     },
     "execution_count": 54,
     "metadata": {},
     "output_type": "execute_result"
    }
   ],
   "source": [
    "a = np.array([1,2,3])\n",
    "b = 3.0\n",
    "a + b"
   ]
  },
  {
   "cell_type": "markdown",
   "id": "cbabda84-bbd3-4803-9f78-fa11bf08dad1",
   "metadata": {},
   "source": [
    "## 조건 연산\n",
    "- 원하는 결과값 : True/False"
   ]
  },
  {
   "cell_type": "code",
   "execution_count": 55,
   "id": "dfb43162-748e-40c2-b540-8a0644ede9a6",
   "metadata": {},
   "outputs": [
    {
     "data": {
      "text/plain": [
       "array([False,  True,  True])"
      ]
     },
     "execution_count": 55,
     "metadata": {},
     "output_type": "execute_result"
    }
   ],
   "source": [
    "arr = np.array([10,20,30])\n",
    "arr > 10"
   ]
  },
  {
   "cell_type": "code",
   "execution_count": 56,
   "id": "ed95a767-98be-43dd-b5ac-eb8252121b8b",
   "metadata": {},
   "outputs": [
    {
     "data": {
      "text/plain": [
       "array([20, 30])"
      ]
     },
     "execution_count": 56,
     "metadata": {},
     "output_type": "execute_result"
    }
   ],
   "source": [
    "arr = np.array([10,20,30])\n",
    "cond = [False, True, True]\n",
    "\n",
    "arr[cond]   # cond => True 값만 가져온다 (=>필터)"
   ]
  },
  {
   "cell_type": "code",
   "execution_count": 58,
   "id": "3496cfdb-6bb7-4e30-99ce-34c9f44691d1",
   "metadata": {},
   "outputs": [
    {
     "data": {
      "text/plain": [
       "array([20, 50, 30])"
      ]
     },
     "execution_count": 58,
     "metadata": {},
     "output_type": "execute_result"
    }
   ],
   "source": [
    "arr = np.array([18,20,50,30,16])\n",
    "cond = arr > 18\n",
    "\n",
    "arr[cond]"
   ]
  },
  {
   "cell_type": "code",
   "execution_count": 59,
   "id": "71db65ca-66ee-46b2-a6ae-a80385623714",
   "metadata": {},
   "outputs": [
    {
     "data": {
      "text/plain": [
       "array([20, 50, 30])"
      ]
     },
     "execution_count": 59,
     "metadata": {},
     "output_type": "execute_result"
    }
   ],
   "source": [
    "arr = np.array([18,20,50,30,16])\n",
    "arr[arr > 18]"
   ]
  },
  {
   "cell_type": "code",
   "execution_count": 60,
   "id": "32b25391-6dcd-4052-92b3-0c93df3432d5",
   "metadata": {},
   "outputs": [
    {
     "data": {
      "text/plain": [
       "array([20, 50, 30])"
      ]
     },
     "execution_count": 60,
     "metadata": {},
     "output_type": "execute_result"
    }
   ],
   "source": [
    "arr = np.array([18,20,50,30,16,65,70])\n",
    "cond0 = arr > 18\n",
    "cond1 = arr < 65\n",
    "\n",
    "arr[cond0 & cond1]"
   ]
  },
  {
   "cell_type": "code",
   "execution_count": 61,
   "id": "d2f2f9d5-eaf6-43ab-a0e3-3a119a28fc6e",
   "metadata": {},
   "outputs": [
    {
     "data": {
      "text/plain": [
       "array([18, 20, 50, 30, 16, 65, 70])"
      ]
     },
     "execution_count": 61,
     "metadata": {},
     "output_type": "execute_result"
    }
   ],
   "source": [
    "arr[cond0 | cond1]"
   ]
  },
  {
   "cell_type": "code",
   "execution_count": 62,
   "id": "f695822b-e73a-442d-b9e0-0e6a078d93bc",
   "metadata": {},
   "outputs": [
    {
     "data": {
      "text/plain": [
       "array([18, 20, 50, 30, 16, 65, 70])"
      ]
     },
     "execution_count": 62,
     "metadata": {},
     "output_type": "execute_result"
    }
   ],
   "source": [
    "# 권장사항, 이유 : pandas 다중조건 필터링할 때는 아래 방법으로만 가능]\n",
    "# () 반드시 필요 \n",
    "arr[(cond0) | (cond1)]"
   ]
  },
  {
   "cell_type": "markdown",
   "id": "1b001a60-f35f-421e-9690-7077c4e4b8ba",
   "metadata": {},
   "source": [
    "## np.where\n",
    "- "
   ]
  },
  {
   "cell_type": "code",
   "execution_count": 64,
   "id": "4c84a37a-e3e7-4005-a134-90021c62510c",
   "metadata": {},
   "outputs": [
    {
     "data": {
      "text/plain": [
       "array([0, 1, 2, 3, 4, 5, 6, 7, 8, 9])"
      ]
     },
     "execution_count": 64,
     "metadata": {},
     "output_type": "execute_result"
    }
   ],
   "source": [
    "import numpy as np\n",
    "a = np.arange(10)\n",
    "a"
   ]
  },
  {
   "cell_type": "code",
   "execution_count": 65,
   "id": "165d5a2d-924b-4a57-ba15-bb3fe2c192cb",
   "metadata": {},
   "outputs": [
    {
     "data": {
      "text/plain": [
       "array([ 0,  1,  2,  3,  4, 50, 60, 70, 80, 90])"
      ]
     },
     "execution_count": 65,
     "metadata": {},
     "output_type": "execute_result"
    }
   ],
   "source": [
    "np.where(a<5,a,10*a)"
   ]
  },
  {
   "cell_type": "markdown",
   "id": "adf3bef9-c261-47b9-87ea-7460c14f3e30",
   "metadata": {},
   "source": [
    "# 함수와 메서드"
   ]
  },
  {
   "cell_type": "code",
   "execution_count": 66,
   "id": "3a16c9eb-cf23-4df1-b164-a30eff0311d5",
   "metadata": {},
   "outputs": [
    {
     "data": {
      "text/plain": [
       "array([[0, 1],\n",
       "       [2, 3],\n",
       "       [4, 5],\n",
       "       [6, 7]])"
      ]
     },
     "execution_count": 66,
     "metadata": {},
     "output_type": "execute_result"
    }
   ],
   "source": [
    "arr = np.arange(8).reshape(4,2)\n",
    "arr"
   ]
  },
  {
   "cell_type": "code",
   "execution_count": 67,
   "id": "4a703aac-63d3-447c-b172-f590ad8fb97b",
   "metadata": {},
   "outputs": [
    {
     "data": {
      "text/plain": [
       "np.int64(28)"
      ]
     },
     "execution_count": 67,
     "metadata": {},
     "output_type": "execute_result"
    }
   ],
   "source": [
    "arr.sum()"
   ]
  },
  {
   "cell_type": "code",
   "execution_count": 68,
   "id": "35737e39-c817-4f56-8082-c60af902e4fd",
   "metadata": {},
   "outputs": [
    {
     "data": {
      "text/plain": [
       "array([12, 16])"
      ]
     },
     "execution_count": 68,
     "metadata": {},
     "output_type": "execute_result"
    }
   ],
   "source": [
    "arr.sum(axis =0) #x축 방향으로 데이터의 합을 구하라 => 행 단위 "
   ]
  },
  {
   "cell_type": "code",
   "execution_count": 70,
   "id": "5b1ac4a8-6591-4599-9c8d-db245253abcf",
   "metadata": {},
   "outputs": [
    {
     "data": {
      "text/plain": [
       "array([ 1,  5,  9, 13])"
      ]
     },
     "execution_count": 70,
     "metadata": {},
     "output_type": "execute_result"
    }
   ],
   "source": [
    "arr.sum(axis =1) #y축 방향으로 데이터의 합을 구하라 => 열 단위 "
   ]
  },
  {
   "cell_type": "code",
   "execution_count": 109,
   "id": "82dd22ec-e282-413a-a5c1-a7c029c4a09e",
   "metadata": {},
   "outputs": [
    {
     "data": {
      "text/plain": [
       "6"
      ]
     },
     "execution_count": 109,
     "metadata": {},
     "output_type": "execute_result"
    }
   ],
   "source": [
    "#무작위 랜덤 함수 만들기\n",
    "np.random.seed(42)   #머신러닝 할 때, 이 코드를 자주 이용\n",
    "np.random.randint(10)"
   ]
  },
  {
   "cell_type": "code",
   "execution_count": 108,
   "id": "6011ba26-75ed-4981-9dad-de06ab3bfd31",
   "metadata": {},
   "outputs": [
    {
     "data": {
      "text/plain": [
       "array([18, 22, 10, 10, 23, 35], dtype=int32)"
      ]
     },
     "execution_count": 108,
     "metadata": {},
     "output_type": "execute_result"
    }
   ],
   "source": [
    "np.random.randint(46, size=6)  # 46 의미하는 것은 0~45번째까지의 숫자중 무작위로 가져오겠음"
   ]
  },
  {
   "cell_type": "code",
   "execution_count": 110,
   "id": "1cd21f0e-92f4-4db9-a6b4-162c2113d718",
   "metadata": {},
   "outputs": [
    {
     "data": {
      "text/plain": [
       "array([[28, 14, 42,  7],\n",
       "       [20, 38, 18, 22],\n",
       "       [10, 10, 23, 35]], dtype=int32)"
      ]
     },
     "execution_count": 110,
     "metadata": {},
     "output_type": "execute_result"
    }
   ],
   "source": [
    "np.random.randint(46, size=(3,4))"
   ]
  },
  {
   "cell_type": "code",
   "execution_count": 113,
   "id": "c4f9f877-20e3-47f9-ae57-30befa47ce0e",
   "metadata": {},
   "outputs": [
    {
     "name": "stdout",
     "output_type": "stream",
     "text": [
      "[  0.  10.  20.  30.  40.  50.  60.  70.  80.  90. 100.]\n"
     ]
    }
   ],
   "source": [
    "x = np.linspace(0, 100, 11)\n",
    "print(x)"
   ]
  }
 ],
 "metadata": {
  "kernelspec": {
   "display_name": "Python 3 (ipykernel)",
   "language": "python",
   "name": "python3"
  },
  "language_info": {
   "codemirror_mode": {
    "name": "ipython",
    "version": 3
   },
   "file_extension": ".py",
   "mimetype": "text/x-python",
   "name": "python",
   "nbconvert_exporter": "python",
   "pygments_lexer": "ipython3",
   "version": "3.12.6"
  }
 },
 "nbformat": 4,
 "nbformat_minor": 5
}
