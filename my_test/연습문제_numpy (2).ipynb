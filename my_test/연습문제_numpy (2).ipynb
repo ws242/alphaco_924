{
 "cells": [
  {
   "cell_type": "markdown",
   "id": "4a0ac583-5dea-4bc7-8e28-c8426ae31695",
   "metadata": {},
   "source": [
    "## 문제 1. \n",
    "문제: 모든 값이 0으로 2차원 배열 (5, 5) 만드세요. "
   ]
  },
  {
   "cell_type": "code",
   "execution_count": 8,
   "id": "01021538-21fb-4f26-a490-81069ab3ad1f",
   "metadata": {},
   "outputs": [
    {
     "data": {
      "text/plain": [
       "array([[0., 0., 0., 0., 0.],\n",
       "       [0., 0., 0., 0., 0.],\n",
       "       [0., 0., 0., 0., 0.],\n",
       "       [0., 0., 0., 0., 0.],\n",
       "       [0., 0., 0., 0., 0.]])"
      ]
     },
     "execution_count": 8,
     "metadata": {},
     "output_type": "execute_result"
    }
   ],
   "source": [
    "import numpy as np\n",
    "arr = np.zeros((5,5))\n",
    "arr"
   ]
  },
  {
   "cell_type": "markdown",
   "id": "4682403f-5dc0-45dc-a93f-3e8ad86e7406",
   "metadata": {},
   "source": [
    "## 문제 2. \n",
    "임의의 3x3 크기의 배열을 생성하고 배열의 shape(모양), dtype(데이터 타입), 그리고 배열의 차원 수(ndim)를 출력하세요."
   ]
  },
  {
   "cell_type": "code",
   "execution_count": 10,
   "id": "af719fe1-67f3-4c51-8194-d79c6c521d0b",
   "metadata": {},
   "outputs": [
    {
     "data": {
      "text/plain": [
       "((3, 3), dtype('float64'), 2)"
      ]
     },
     "execution_count": 10,
     "metadata": {},
     "output_type": "execute_result"
    }
   ],
   "source": [
    "arr = np.zeros((3,3))\n",
    "arr.shape, arr.dtype, arr.ndim"
   ]
  },
  {
   "cell_type": "markdown",
   "id": "62e9e182-6e32-41aa-833c-331a36a0753c",
   "metadata": {},
   "source": [
    "## 문제 3. \n",
    "- 주어진 배열에서 아래와 같이 슬라이싱 하세요. \n",
    "```\n",
    "array([[ 5,  6],\n",
    "       [ 9, 10]])\n",
    "```"
   ]
  },
  {
   "cell_type": "code",
   "execution_count": 12,
   "id": "f0020d3e-0cca-4d90-b9a2-f4a8ca3531af",
   "metadata": {},
   "outputs": [
    {
     "data": {
      "text/plain": [
       "array([[ 5,  6],\n",
       "       [ 9, 10]])"
      ]
     },
     "execution_count": 12,
     "metadata": {},
     "output_type": "execute_result"
    }
   ],
   "source": [
    "arr = np.arange(16).reshape(4, 4)\n",
    "arr[1:3, 1:3]"
   ]
  },
  {
   "cell_type": "code",
   "execution_count": null,
   "id": "52cfdf99-9fc6-4e08-b743-b621c9606b5a",
   "metadata": {},
   "outputs": [],
   "source": []
  }
 ],
 "metadata": {
  "kernelspec": {
   "display_name": "Python 3 (ipykernel)",
   "language": "python",
   "name": "python3"
  },
  "language_info": {
   "codemirror_mode": {
    "name": "ipython",
    "version": 3
   },
   "file_extension": ".py",
   "mimetype": "text/x-python",
   "name": "python",
   "nbconvert_exporter": "python",
   "pygments_lexer": "ipython3",
   "version": "3.12.6"
  }
 },
 "nbformat": 4,
 "nbformat_minor": 5
}
