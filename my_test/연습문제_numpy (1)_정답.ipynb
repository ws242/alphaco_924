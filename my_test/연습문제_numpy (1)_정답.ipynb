{
 "cells": [
  {
   "cell_type": "markdown",
   "id": "4a0ac583-5dea-4bc7-8e28-c8426ae31695",
   "metadata": {},
   "source": [
    "## 문제 1. \n",
    "문제: 모든 값이 0으로 2차원 배열 (5, 5) 만드세요. "
   ]
  },
  {
   "cell_type": "code",
   "execution_count": 17,
   "id": "01021538-21fb-4f26-a490-81069ab3ad1f",
   "metadata": {},
   "outputs": [
    {
     "data": {
      "text/plain": [
       "array([[1., 1., 1., 1., 1.],\n",
       "       [1., 1., 1., 1., 1.],\n",
       "       [1., 1., 1., 1., 1.],\n",
       "       [1., 1., 1., 1., 1.],\n",
       "       [1., 1., 1., 1., 1.]])"
      ]
     },
     "execution_count": 17,
     "metadata": {},
     "output_type": "execute_result"
    }
   ],
   "source": [
    "import numpy as np\n",
    "np.zeros((5, 5))"
   ]
  },
  {
   "cell_type": "code",
   "execution_count": 14,
   "id": "8a25cb96-f6d2-4d95-9aba-e45a2f812acb",
   "metadata": {},
   "outputs": [
    {
     "data": {
      "text/plain": [
       "array([[0., 0., 0., 0., 0.],\n",
       "       [0., 0., 0., 0., 0.],\n",
       "       [0., 0., 0., 0., 0.],\n",
       "       [0., 0., 0., 0., 0.],\n",
       "       [0., 0., 0., 0., 0.]])"
      ]
     },
     "execution_count": 14,
     "metadata": {},
     "output_type": "execute_result"
    }
   ],
   "source": [
    "np.zeros(25).reshape(5, 5)"
   ]
  },
  {
   "cell_type": "markdown",
   "id": "4682403f-5dc0-45dc-a93f-3e8ad86e7406",
   "metadata": {},
   "source": [
    "## 문제 2. \n",
    "임의의 3x3 크기의 배열을 생성하고 배열의 shape(모양), dtype(데이터 타입), 그리고 배열의 차원 수(ndim)를 출력하세요."
   ]
  },
  {
   "cell_type": "code",
   "execution_count": 19,
   "id": "af719fe1-67f3-4c51-8194-d79c6c521d0b",
   "metadata": {},
   "outputs": [
    {
     "data": {
      "text/plain": [
       "((3, 3), dtype('float64'), 2)"
      ]
     },
     "execution_count": 19,
     "metadata": {},
     "output_type": "execute_result"
    }
   ],
   "source": [
    "arr = np.zeros((3, 3))\n",
    "arr.shape, arr.dtype, arr.ndim"
   ]
  },
  {
   "cell_type": "markdown",
   "id": "62e9e182-6e32-41aa-833c-331a36a0753c",
   "metadata": {},
   "source": [
    "## 문제 3. \n",
    "- 주어진 배열에서 아래와 같이 슬라이싱 하세요. \n",
    "```\n",
    "array([[ 5,  6],\n",
    "       [ 9, 10]])\n",
    "```"
   ]
  },
  {
   "cell_type": "code",
   "execution_count": 27,
   "id": "f0020d3e-0cca-4d90-b9a2-f4a8ca3531af",
   "metadata": {},
   "outputs": [
    {
     "data": {
      "text/plain": [
       "array([[ 5,  6],\n",
       "       [ 9, 10]])"
      ]
     },
     "execution_count": 27,
     "metadata": {},
     "output_type": "execute_result"
    }
   ],
   "source": [
    "arr = np.arange(16).reshape(4, 4)\n",
    "arr[1:3, 1:3]"
   ]
  },
  {
   "cell_type": "markdown",
   "id": "cb0455ba-e887-43a3-bc63-2462b0ffe39f",
   "metadata": {},
   "source": [
    "## 조건 연산\n",
    "- 원하는 결괏값 : True/False"
   ]
  },
  {
   "cell_type": "code",
   "execution_count": 29,
   "id": "4dc706bc-c116-498c-9192-6c03da0b21d2",
   "metadata": {},
   "outputs": [
    {
     "data": {
      "text/plain": [
       "array([False,  True,  True])"
      ]
     },
     "execution_count": 29,
     "metadata": {},
     "output_type": "execute_result"
    }
   ],
   "source": [
    "arr = np.array([10, 20, 30])\n",
    "arr > 10"
   ]
  },
  {
   "cell_type": "code",
   "execution_count": 30,
   "id": "16edbbb5-c4c7-4d6f-9cd4-ed64eb703ed9",
   "metadata": {},
   "outputs": [
    {
     "data": {
      "text/plain": [
       "array([20, 30])"
      ]
     },
     "execution_count": 30,
     "metadata": {},
     "output_type": "execute_result"
    }
   ],
   "source": [
    "arr = np.array([10, 20, 30])\n",
    "cond = [False, True, True]\n",
    "\n",
    "arr[cond]"
   ]
  },
  {
   "cell_type": "code",
   "execution_count": 31,
   "id": "059315d7-a06c-4e8b-920e-123ed304ace9",
   "metadata": {},
   "outputs": [
    {
     "data": {
      "text/plain": [
       "array([20, 50, 30])"
      ]
     },
     "execution_count": 31,
     "metadata": {},
     "output_type": "execute_result"
    }
   ],
   "source": [
    "arr = np.array([18, 20, 50, 30, 16])\n",
    "cond = arr > 18\n",
    "\n",
    "arr[cond]"
   ]
  },
  {
   "cell_type": "code",
   "execution_count": 32,
   "id": "36afa7e8-5528-402d-a10e-1e126d6b37e8",
   "metadata": {},
   "outputs": [
    {
     "data": {
      "text/plain": [
       "array([20, 50, 30])"
      ]
     },
     "execution_count": 32,
     "metadata": {},
     "output_type": "execute_result"
    }
   ],
   "source": [
    "arr = np.array([18, 20, 50, 30, 16])\n",
    "arr[arr > 18]"
   ]
  },
  {
   "cell_type": "code",
   "execution_count": 36,
   "id": "008dcaf8-404f-4fd1-85dc-6ed3cf93b76f",
   "metadata": {},
   "outputs": [
    {
     "data": {
      "text/plain": [
       "array([18, 20, 50, 30, 16])"
      ]
     },
     "execution_count": 36,
     "metadata": {},
     "output_type": "execute_result"
    }
   ],
   "source": [
    "arr = np.array([18, 20, 50, 30, 16, 65, 70])\n",
    "cond0 = arr > 18\n",
    "cond1 = arr < 65\n",
    "\n",
    "arr[cond0 & cond1]"
   ]
  },
  {
   "cell_type": "code",
   "execution_count": 37,
   "id": "afb9e300-c4a6-4817-b2d7-d24aaeb55cef",
   "metadata": {},
   "outputs": [
    {
     "data": {
      "text/plain": [
       "array([18, 20, 50, 30, 16, 65, 70])"
      ]
     },
     "execution_count": 37,
     "metadata": {},
     "output_type": "execute_result"
    }
   ],
   "source": [
    "arr[cond0 | cond1]"
   ]
  },
  {
   "cell_type": "code",
   "execution_count": 38,
   "id": "a6a404fa-e2ec-447b-90e2-c6bdd64a6a52",
   "metadata": {},
   "outputs": [
    {
     "data": {
      "text/plain": [
       "array([18, 20, 50, 30, 16, 65, 70])"
      ]
     },
     "execution_count": 38,
     "metadata": {},
     "output_type": "execute_result"
    }
   ],
   "source": [
    "# 권장사항, 이유 : pandas 다중조건 필터링할 때는 아래 방법으로만 가능\n",
    "# () 반드시 필요 \n",
    "arr[(cond0 | cond1)]"
   ]
  },
  {
   "cell_type": "markdown",
   "id": "7d5d1be3-9061-45c0-93ed-4bfac80eb40b",
   "metadata": {},
   "source": [
    "## np.where \n",
    "- "
   ]
  },
  {
   "cell_type": "code",
   "execution_count": 39,
   "id": "1fc7b6ac-fadd-40f4-8ba8-081c12b47438",
   "metadata": {},
   "outputs": [
    {
     "data": {
      "text/plain": [
       "array([0, 1, 2, 3, 4, 5, 6, 7, 8, 9])"
      ]
     },
     "execution_count": 39,
     "metadata": {},
     "output_type": "execute_result"
    }
   ],
   "source": [
    "import numpy as np\n",
    "a = np.arange(10)\n",
    "a"
   ]
  },
  {
   "cell_type": "code",
   "execution_count": 40,
   "id": "5c44afd2-07c6-43f2-8e0b-6782f1d24bab",
   "metadata": {},
   "outputs": [
    {
     "data": {
      "text/plain": [
       "array([ 0,  1,  2,  3,  4, 50, 60, 70, 80, 90])"
      ]
     },
     "execution_count": 40,
     "metadata": {},
     "output_type": "execute_result"
    }
   ],
   "source": [
    "np.where(a < 5, a, 10*a)"
   ]
  },
  {
   "cell_type": "markdown",
   "id": "3a9df043-fe35-4231-a3e3-84b9b337744d",
   "metadata": {},
   "source": [
    "# 함수와 메서드"
   ]
  },
  {
   "cell_type": "code",
   "execution_count": 51,
   "id": "6dab1177-8708-4f54-8120-66f892cb46d0",
   "metadata": {},
   "outputs": [
    {
     "data": {
      "text/plain": [
       "array([[0, 1, 2, 3],\n",
       "       [4, 5, 6, 7]])"
      ]
     },
     "execution_count": 51,
     "metadata": {},
     "output_type": "execute_result"
    }
   ],
   "source": [
    "arr = np.arange(8).reshape(2, 4)\n",
    "arr"
   ]
  },
  {
   "cell_type": "code",
   "execution_count": 52,
   "id": "71db9d39-1274-4936-99d0-e2cc5c9f71f8",
   "metadata": {},
   "outputs": [
    {
     "data": {
      "text/plain": [
       "np.int64(28)"
      ]
     },
     "execution_count": 52,
     "metadata": {},
     "output_type": "execute_result"
    }
   ],
   "source": [
    "arr.sum(axis = None)"
   ]
  },
  {
   "cell_type": "code",
   "execution_count": 53,
   "id": "5fc12154-3185-420e-8f00-ae2974ff6e03",
   "metadata": {},
   "outputs": [
    {
     "data": {
      "text/plain": [
       "array([ 4,  6,  8, 10])"
      ]
     },
     "execution_count": 53,
     "metadata": {},
     "output_type": "execute_result"
    }
   ],
   "source": [
    "arr.sum(axis = 0) # x축 방향으로 데이터의 합을 구하라, 행 단위"
   ]
  },
  {
   "cell_type": "code",
   "execution_count": 54,
   "id": "903893c6-855c-4718-a48b-5eeb0fbd292d",
   "metadata": {},
   "outputs": [
    {
     "data": {
      "text/plain": [
       "array([ 6, 22])"
      ]
     },
     "execution_count": 54,
     "metadata": {},
     "output_type": "execute_result"
    }
   ],
   "source": [
    "arr.sum(axis = 1) # y축 방향으로 열 단위로 데이터의 합을 구하라"
   ]
  },
  {
   "cell_type": "code",
   "execution_count": 150,
   "id": "08da04fc-1270-4abd-a500-77ab36e3c338",
   "metadata": {},
   "outputs": [
    {
     "data": {
      "text/plain": [
       "6"
      ]
     },
     "execution_count": 150,
     "metadata": {},
     "output_type": "execute_result"
    }
   ],
   "source": [
    "# 무작위 랜덤 함수 사용\n",
    "np.random.seed(42) # 머신러닝 할 때, 이 코드를 자주 사용\n",
    "np.random.randint(10)"
   ]
  },
  {
   "cell_type": "code",
   "execution_count": 153,
   "id": "d452b0e2-cf11-426a-a9bd-d03052dc6069",
   "metadata": {},
   "outputs": [
    {
     "data": {
      "text/plain": [
       "array([35, 39, 23,  2, 21,  1], dtype=int32)"
      ]
     },
     "execution_count": 153,
     "metadata": {},
     "output_type": "execute_result"
    }
   ],
   "source": [
    "np.random.randint(46, size=6) # 46 의미하는 것은 0~45번째까지의 숫자중 무작위로 가져오겠음 "
   ]
  },
  {
   "cell_type": "code",
   "execution_count": 175,
   "id": "7fa30e4b-18e2-4ab6-aaa3-fe94d6a3b507",
   "metadata": {},
   "outputs": [
    {
     "data": {
      "text/plain": [
       "array([[ 2, 19, 23, 32],\n",
       "       [23, 10,  7, 35],\n",
       "       [37, 39, 19, 34]], dtype=int32)"
      ]
     },
     "execution_count": 175,
     "metadata": {},
     "output_type": "execute_result"
    }
   ],
   "source": [
    "np.random.randint(46, size=(3, 4))"
   ]
  },
  {
   "cell_type": "code",
   "execution_count": 181,
   "id": "f1a00248-240e-49ae-a294-e32253307d1d",
   "metadata": {},
   "outputs": [
    {
     "name": "stdout",
     "output_type": "stream",
     "text": [
      "[  0.  10.  20.  30.  40.  50.  60.  70.  80.  90. 100.]\n"
     ]
    }
   ],
   "source": [
    "x = np.linspace(0, 100, 11)\n",
    "print(x)"
   ]
  },
  {
   "cell_type": "markdown",
   "id": "807471b0-b7b0-41ee-9f56-35b0650a2c68",
   "metadata": {},
   "source": [
    "# Pandas Series "
   ]
  },
  {
   "cell_type": "code",
   "execution_count": 183,
   "id": "79451d70-bce8-4e7e-8d0e-7e2abd64d246",
   "metadata": {},
   "outputs": [
    {
     "data": {
      "text/plain": [
       "'2.2.3'"
      ]
     },
     "execution_count": 183,
     "metadata": {},
     "output_type": "execute_result"
    }
   ],
   "source": [
    "import pandas as pd \n",
    "pd.__version__"
   ]
  },
  {
   "cell_type": "code",
   "execution_count": 184,
   "id": "29e06e1a-2826-424d-b51b-17fd500b83b1",
   "metadata": {},
   "outputs": [
    {
     "data": {
      "text/plain": [
       "0    10\n",
       "1    20\n",
       "2    30\n",
       "dtype: int64"
      ]
     },
     "execution_count": 184,
     "metadata": {},
     "output_type": "execute_result"
    }
   ],
   "source": [
    "data = [10, 20, 30]\n",
    "s = pd.Series(data)\n",
    "s"
   ]
  },
  {
   "cell_type": "code",
   "execution_count": 185,
   "id": "8229621f-0396-4fc6-a2c2-aea03dfd8cd5",
   "metadata": {},
   "outputs": [
    {
     "name": "stdout",
     "output_type": "stream",
     "text": [
      "<class 'pandas.core.series.Series'>\n"
     ]
    }
   ],
   "source": [
    "print(type(s))"
   ]
  },
  {
   "cell_type": "code",
   "execution_count": 186,
   "id": "4c5c3dfd-4f0b-4c16-b1c7-32516d75c2e9",
   "metadata": {},
   "outputs": [
    {
     "data": {
      "text/plain": [
       "0    0\n",
       "1    1\n",
       "2    2\n",
       "3    3\n",
       "4    4\n",
       "dtype: int64"
      ]
     },
     "execution_count": 186,
     "metadata": {},
     "output_type": "execute_result"
    }
   ],
   "source": [
    "import numpy as np \n",
    "\n",
    "data = np.arange(5)\n",
    "s = pd.Series(data)\n",
    "s"
   ]
  },
  {
   "cell_type": "code",
   "execution_count": 187,
   "id": "742d79cd-7420-4af8-868f-0dede132cf53",
   "metadata": {},
   "outputs": [
    {
     "data": {
      "text/html": [
       "<div>\n",
       "<style scoped>\n",
       "    .dataframe tbody tr th:only-of-type {\n",
       "        vertical-align: middle;\n",
       "    }\n",
       "\n",
       "    .dataframe tbody tr th {\n",
       "        vertical-align: top;\n",
       "    }\n",
       "\n",
       "    .dataframe thead th {\n",
       "        text-align: right;\n",
       "    }\n",
       "</style>\n",
       "<table border=\"1\" class=\"dataframe\">\n",
       "  <thead>\n",
       "    <tr style=\"text-align: right;\">\n",
       "      <th></th>\n",
       "      <th>0</th>\n",
       "    </tr>\n",
       "  </thead>\n",
       "  <tbody>\n",
       "    <tr>\n",
       "      <th>0</th>\n",
       "      <td>0</td>\n",
       "    </tr>\n",
       "    <tr>\n",
       "      <th>1</th>\n",
       "      <td>1</td>\n",
       "    </tr>\n",
       "    <tr>\n",
       "      <th>2</th>\n",
       "      <td>2</td>\n",
       "    </tr>\n",
       "    <tr>\n",
       "      <th>3</th>\n",
       "      <td>3</td>\n",
       "    </tr>\n",
       "    <tr>\n",
       "      <th>4</th>\n",
       "      <td>4</td>\n",
       "    </tr>\n",
       "  </tbody>\n",
       "</table>\n",
       "</div>"
      ],
      "text/plain": [
       "   0\n",
       "0  0\n",
       "1  1\n",
       "2  2\n",
       "3  3\n",
       "4  4"
      ]
     },
     "execution_count": 187,
     "metadata": {},
     "output_type": "execute_result"
    }
   ],
   "source": [
    "import numpy as np \n",
    "\n",
    "data = np.arange(5)\n",
    "s = pd.DataFrame(data)\n",
    "s"
   ]
  },
  {
   "cell_type": "code",
   "execution_count": 189,
   "id": "79d8eeec-70f3-4c2e-8883-9db4ec778c48",
   "metadata": {},
   "outputs": [
    {
     "data": {
      "text/plain": [
       "0    시가\n",
       "1    고가\n",
       "dtype: object"
      ]
     },
     "execution_count": 189,
     "metadata": {},
     "output_type": "execute_result"
    }
   ],
   "source": [
    "data = [\"시가\", \"고가\"]\n",
    "s = pd.Series(data)\n",
    "s"
   ]
  },
  {
   "cell_type": "code",
   "execution_count": 190,
   "id": "77816a7f-9f91-4aa8-aed3-074f26fb1d90",
   "metadata": {},
   "outputs": [
    {
     "data": {
      "text/plain": [
       "0    80000\n",
       "1    90000\n",
       "dtype: object"
      ]
     },
     "execution_count": 190,
     "metadata": {},
     "output_type": "execute_result"
    }
   ],
   "source": [
    "data = [80000, \"90000\"]\n",
    "s = pd.Series(data)\n",
    "s"
   ]
  },
  {
   "cell_type": "markdown",
   "id": "e2d53563-6771-4d0e-b89e-0b9d2a5dfdc2",
   "metadata": {},
   "source": [
    "## 시리즈 인덱스"
   ]
  },
  {
   "cell_type": "code",
   "execution_count": 194,
   "id": "bd25e22e-cf1b-4434-9a95-a47610682509",
   "metadata": {},
   "outputs": [
    {
     "name": "stdout",
     "output_type": "stream",
     "text": [
      "RangeIndex(start=0, stop=3, step=1) <class 'pandas.core.indexes.range.RangeIndex'>\n"
     ]
    }
   ],
   "source": [
    "data = [1000, 2000, 3000]\n",
    "s = pd.Series(data)\n",
    "print(s.index, type(s.index))"
   ]
  },
  {
   "cell_type": "code",
   "execution_count": 195,
   "id": "a49c637f-9edb-4106-81f5-db5a4795fab4",
   "metadata": {},
   "outputs": [
    {
     "data": {
      "text/plain": [
       "[0, 1, 2]"
      ]
     },
     "execution_count": 195,
     "metadata": {},
     "output_type": "execute_result"
    }
   ],
   "source": [
    "list(s.index)"
   ]
  },
  {
   "cell_type": "code",
   "execution_count": 196,
   "id": "68114c2a-7d89-463c-b9bc-10bdf190e834",
   "metadata": {},
   "outputs": [
    {
     "data": {
      "text/plain": [
       "[0, 1, 2]"
      ]
     },
     "execution_count": 196,
     "metadata": {},
     "output_type": "execute_result"
    }
   ],
   "source": [
    "s.index.to_list()"
   ]
  },
  {
   "cell_type": "code",
   "execution_count": 198,
   "id": "b3ac9546-15ea-43cd-a3ed-2d88fd699f89",
   "metadata": {},
   "outputs": [],
   "source": [
    "# help(s.index) # 클래스에는 항상 속성과 메서드가 존재한다. "
   ]
  },
  {
   "cell_type": "code",
   "execution_count": 229,
   "id": "db94a1c8-5532-4278-81d5-920d47a709d7",
   "metadata": {},
   "outputs": [
    {
     "data": {
      "text/plain": [
       "Index(['메로나', '월드콘', '와'], dtype='object')"
      ]
     },
     "execution_count": 229,
     "metadata": {},
     "output_type": "execute_result"
    }
   ],
   "source": [
    "# 시리즈 생성하면서 인덱스도 같이 생성\n",
    "data = [1000, 2000, 3000]\n",
    "index = [\"메로나\", \"월드콘\", \"와\"]\n",
    "\n",
    "s = pd.Series(data=data, index=index)\n",
    "s.index"
   ]
  },
  {
   "cell_type": "code",
   "execution_count": 221,
   "id": "d148569b-42ad-44a0-a412-9fdda6805e60",
   "metadata": {},
   "outputs": [
    {
     "data": {
      "text/plain": [
       "(array([1000, 2000, 3000]), numpy.ndarray)"
      ]
     },
     "execution_count": 221,
     "metadata": {},
     "output_type": "execute_result"
    }
   ],
   "source": [
    "s.values, type(s.values)"
   ]
  },
  {
   "cell_type": "code",
   "execution_count": 228,
   "id": "74c931f8-d3d8-4f44-9320-a14dda795dc4",
   "metadata": {},
   "outputs": [
    {
     "data": {
      "text/plain": [
       "메로나    1000\n",
       "월드콘    2000\n",
       "와      3000\n",
       "dtype: int64"
      ]
     },
     "execution_count": 228,
     "metadata": {},
     "output_type": "execute_result"
    }
   ],
   "source": [
    "s"
   ]
  },
  {
   "cell_type": "markdown",
   "id": "3dda8b90-392e-4474-ae56-e310e543574a",
   "metadata": {},
   "source": [
    "## 시리즈 인덱싱"
   ]
  },
  {
   "cell_type": "code",
   "execution_count": 222,
   "id": "b6232989-c070-47f4-93a3-eec53ba23a2e",
   "metadata": {},
   "outputs": [
    {
     "name": "stdout",
     "output_type": "stream",
     "text": [
      "1000\n"
     ]
    }
   ],
   "source": [
    "print(s.iloc[0])"
   ]
  },
  {
   "cell_type": "code",
   "execution_count": 226,
   "id": "a14ab65e-bc1a-43a6-b982-92f4db6f0c0d",
   "metadata": {},
   "outputs": [
    {
     "name": "stdout",
     "output_type": "stream",
     "text": [
      "1000\n"
     ]
    }
   ],
   "source": [
    "print(s.loc['메로나'])"
   ]
  },
  {
   "cell_type": "code",
   "execution_count": 231,
   "id": "0acaa883-5512-4efe-988f-0300adf5e6ea",
   "metadata": {},
   "outputs": [
    {
     "data": {
      "text/plain": [
       "[0, 1, 2]"
      ]
     },
     "execution_count": 231,
     "metadata": {},
     "output_type": "execute_result"
    }
   ],
   "source": [
    "# 시리즈 생성하면서 인덱스도 같이 생성\n",
    "data = [1000, 2000, 3000]\n",
    "# index가 없음\n",
    "\n",
    "s2 = pd.Series(data=data)\n",
    "s2.index.to_list()"
   ]
  },
  {
   "cell_type": "code",
   "execution_count": 233,
   "id": "216f6485-b265-4f24-96ce-23ce27232bbf",
   "metadata": {},
   "outputs": [
    {
     "name": "stdout",
     "output_type": "stream",
     "text": [
      "1000\n",
      "1000\n"
     ]
    }
   ],
   "source": [
    "print(s2.iloc[0]) # iloc에서의 0은 위치 0을 의미\n",
    "print(s2.loc[0]) # loc에서의 0은 라벨 0을 의미"
   ]
  },
  {
   "cell_type": "markdown",
   "id": "736e12e2-ae4f-4c44-9876-6c9652ccce6f",
   "metadata": {},
   "source": [
    "## 슬라이싱"
   ]
  },
  {
   "cell_type": "code",
   "execution_count": 237,
   "id": "4ad7f57f-4aa1-49e4-8316-3ed6cb2b2cc6",
   "metadata": {},
   "outputs": [
    {
     "data": {
      "text/plain": [
       "메로나    1000\n",
       "월드콘    2000\n",
       "dtype: int64"
      ]
     },
     "execution_count": 237,
     "metadata": {},
     "output_type": "execute_result"
    }
   ],
   "source": [
    "s.iloc[0:2]"
   ]
  },
  {
   "cell_type": "code",
   "execution_count": 239,
   "id": "1ca2c862-5ca6-4566-a6e1-8f328c67e525",
   "metadata": {},
   "outputs": [
    {
     "data": {
      "text/plain": [
       "메로나    1000\n",
       "월드콘    2000\n",
       "와      3000\n",
       "dtype: int64"
      ]
     },
     "execution_count": 239,
     "metadata": {},
     "output_type": "execute_result"
    }
   ],
   "source": [
    "s.loc[\"메로나\":\"와\"]"
   ]
  },
  {
   "cell_type": "code",
   "execution_count": 241,
   "id": "e1b684aa-9cb9-4be5-8dc1-cbd1849c4cec",
   "metadata": {},
   "outputs": [
    {
     "data": {
      "text/plain": [
       "0    1000\n",
       "1    2000\n",
       "dtype: int64"
      ]
     },
     "execution_count": 241,
     "metadata": {},
     "output_type": "execute_result"
    }
   ],
   "source": [
    "s2.iloc[0:2]"
   ]
  },
  {
   "cell_type": "code",
   "execution_count": 242,
   "id": "7abbb710-1415-4ddc-90c8-70d9199ce845",
   "metadata": {},
   "outputs": [
    {
     "data": {
      "text/plain": [
       "0    1000\n",
       "1    2000\n",
       "2    3000\n",
       "dtype: int64"
      ]
     },
     "execution_count": 242,
     "metadata": {},
     "output_type": "execute_result"
    }
   ],
   "source": [
    "s2.loc[0:2]"
   ]
  },
  {
   "cell_type": "markdown",
   "id": "aff9c926-a819-4656-8bcd-1c4651d3fb61",
   "metadata": {},
   "source": [
    "## 시리즈 수정/추가/삭제"
   ]
  },
  {
   "cell_type": "code",
   "execution_count": 248,
   "id": "1ecc5e4c-5cef-4e86-ae70-65df267a15a7",
   "metadata": {},
   "outputs": [
    {
     "data": {
      "text/plain": [
       "메로나    1000\n",
       "월드콘    2000\n",
       "와      3000\n",
       "dtype: int64"
      ]
     },
     "execution_count": 248,
     "metadata": {},
     "output_type": "execute_result"
    }
   ],
   "source": [
    "data = [1000, 2000, 3000]\n",
    "index = [\"메로나\", \"월드콘\", \"와\"]\n",
    "\n",
    "s = pd.Series(data=data, index=index)\n",
    "s"
   ]
  },
  {
   "cell_type": "code",
   "execution_count": 249,
   "id": "6c3dccd3-e525-4153-8e42-34385c9e4aa4",
   "metadata": {},
   "outputs": [
    {
     "data": {
      "text/plain": [
       "메로나     500\n",
       "월드콘    2000\n",
       "와      3000\n",
       "dtype: int64"
      ]
     },
     "execution_count": 249,
     "metadata": {},
     "output_type": "execute_result"
    }
   ],
   "source": [
    "s['메로나'] = 500\n",
    "s"
   ]
  },
  {
   "cell_type": "code",
   "execution_count": 247,
   "id": "1c889ea3-9ffc-498d-9034-a8499a1dc4df",
   "metadata": {},
   "outputs": [
    {
     "data": {
      "text/plain": [
       "메로나     500\n",
       "월드콘    2000\n",
       "와      3000\n",
       "dtype: int64"
      ]
     },
     "execution_count": 247,
     "metadata": {},
     "output_type": "execute_result"
    }
   ],
   "source": [
    "s.iloc[0] = 500\n",
    "s"
   ]
  },
  {
   "cell_type": "code",
   "execution_count": 245,
   "id": "5462cc4b-75c0-48b2-bc0b-f97b01d32851",
   "metadata": {},
   "outputs": [
    {
     "data": {
      "text/plain": [
       "메로나     500\n",
       "월드콘    2000\n",
       "와      3000\n",
       "dtype: int64"
      ]
     },
     "execution_count": 245,
     "metadata": {},
     "output_type": "execute_result"
    }
   ],
   "source": [
    "s.loc['메로나'] = 500\n",
    "s"
   ]
  },
  {
   "cell_type": "markdown",
   "id": "fa2c1929-7413-4151-b4ea-bf7794bfef63",
   "metadata": {},
   "source": [
    "# 시리즈 연산"
   ]
  },
  {
   "cell_type": "code",
   "execution_count": 256,
   "id": "8b0ce01a-fb71-444a-8e4b-b36d61033735",
   "metadata": {},
   "outputs": [
    {
     "data": {
      "text/plain": [
       "NAVER     10\n",
       "APPLE     20\n",
       "엔비디아     300\n",
       "dtype: int64"
      ]
     },
     "execution_count": 256,
     "metadata": {},
     "output_type": "execute_result"
    }
   ],
   "source": [
    "import pandas as pd \n",
    "\n",
    "evan = pd.Series([10, 20, 300], index=['NAVER', 'APPLE', '엔비디아'])\n",
    "딸1 = pd.Series([10, 30, 20], index=[\"엔비디아\", \"NAVER\", \"APPLE\"])\n",
    "\n",
    "evan"
   ]
  },
  {
   "cell_type": "code",
   "execution_count": 257,
   "id": "e4ec9acf-8bde-4600-a307-c048606536bb",
   "metadata": {},
   "outputs": [
    {
     "data": {
      "text/plain": [
       "엔비디아     10\n",
       "NAVER    30\n",
       "APPLE    20\n",
       "dtype: int64"
      ]
     },
     "execution_count": 257,
     "metadata": {},
     "output_type": "execute_result"
    }
   ],
   "source": [
    "딸1"
   ]
  },
  {
   "cell_type": "code",
   "execution_count": 258,
   "id": "8aab00ec-3194-457e-9082-1012200c365d",
   "metadata": {},
   "outputs": [
    {
     "data": {
      "text/plain": [
       "APPLE     40\n",
       "NAVER     40\n",
       "엔비디아     310\n",
       "dtype: int64"
      ]
     },
     "execution_count": 258,
     "metadata": {},
     "output_type": "execute_result"
    }
   ],
   "source": [
    "evan + 딸1"
   ]
  },
  {
   "cell_type": "code",
   "execution_count": 259,
   "id": "e1da06ee-1585-4b32-a00e-590c4f390413",
   "metadata": {},
   "outputs": [
    {
     "data": {
      "text/plain": [
       "APPLE    40.0\n",
       "NAVER    40.0\n",
       "엔비디아      NaN\n",
       "테슬라       NaN\n",
       "dtype: float64"
      ]
     },
     "execution_count": 259,
     "metadata": {},
     "output_type": "execute_result"
    }
   ],
   "source": [
    "evan = pd.Series([10, 20, 300], index=['NAVER', 'APPLE', '테슬라'])\n",
    "딸1 = pd.Series([10, 30, 20], index=[\"엔비디아\", \"NAVER\", \"APPLE\"])\n",
    "\n",
    "evan + 딸1"
   ]
  },
  {
   "cell_type": "code",
   "execution_count": 262,
   "id": "c5214f58-9ded-4329-9f6a-edba1f3295d9",
   "metadata": {},
   "outputs": [
    {
     "name": "stdout",
     "output_type": "stream",
     "text": [
      "6/1    650\n",
      "6/2    550\n",
      "6/3    750\n",
      "6/4    800\n",
      "6/5    650\n",
      "dtype: int64\n"
     ]
    }
   ],
   "source": [
    "date = [\"6/1\", \"6/2\", \"6/3\", \"6/4\", \"6/5\"]\n",
    "high = pd.Series([42800, 42700, 42050, 42950, 43000], index=date) # 매도\n",
    "low = pd.Series([42150, 42150, 41300, 42150, 42350] , index=date) # 매수\n",
    "\n",
    "diff = high - low\n",
    "print(diff)"
   ]
  },
  {
   "cell_type": "code",
   "execution_count": 267,
   "id": "3dee6f52-21ff-4087-8d9f-cdad01782ae7",
   "metadata": {},
   "outputs": [
    {
     "data": {
      "text/plain": [
       "('6/4', np.int64(800))"
      ]
     },
     "execution_count": 267,
     "metadata": {},
     "output_type": "execute_result"
    }
   ],
   "source": [
    "diff.idxmax(), diff[diff.idxmax()]"
   ]
  },
  {
   "cell_type": "code",
   "execution_count": 268,
   "id": "6926b56e-841c-4b1c-a1b2-c9645606e0d1",
   "metadata": {},
   "outputs": [
    {
     "data": {
      "text/plain": [
       "('6/2', np.int64(550))"
      ]
     },
     "execution_count": 268,
     "metadata": {},
     "output_type": "execute_result"
    }
   ],
   "source": [
    "diff.idxmin(), diff[diff.idxmin()]"
   ]
  },
  {
   "cell_type": "code",
   "execution_count": 269,
   "id": "3979c4e1-2f75-4f69-8231-dfd17796c809",
   "metadata": {},
   "outputs": [
    {
     "data": {
      "text/plain": [
       "6/1    1.015421\n",
       "6/2    1.013049\n",
       "6/3    1.018160\n",
       "6/4    1.018980\n",
       "6/5    1.015348\n",
       "dtype: float64"
      ]
     },
     "execution_count": 269,
     "metadata": {},
     "output_type": "execute_result"
    }
   ],
   "source": [
    "profit = high / low # 단순 수익률 계산\n",
    "profit"
   ]
  },
  {
   "cell_type": "code",
   "execution_count": 270,
   "id": "45ab0275-ce29-400a-8d43-abe7d4a11a3b",
   "metadata": {},
   "outputs": [
    {
     "data": {
      "text/plain": [
       "6/1    1.015421\n",
       "6/2    1.028671\n",
       "6/3    1.047351\n",
       "6/4    1.067230\n",
       "6/5    1.083610\n",
       "dtype: float64"
      ]
     },
     "execution_count": 270,
     "metadata": {},
     "output_type": "execute_result"
    }
   ],
   "source": [
    "profit.cumprod()"
   ]
  },
  {
   "cell_type": "markdown",
   "id": "5f7e8e13-b41c-4a5c-affb-41ad257ceb6d",
   "metadata": {},
   "source": [
    "# 시리즈와 Map"
   ]
  },
  {
   "cell_type": "code",
   "execution_count": 279,
   "id": "dda24ecb-e1f7-4806-9577-15410979a09c",
   "metadata": {},
   "outputs": [
    {
     "data": {
      "text/plain": [
       "(int, 1234)"
      ]
     },
     "execution_count": 279,
     "metadata": {},
     "output_type": "execute_result"
    }
   ],
   "source": [
    "text = '1,234'\n",
    "result = int(text.replace(',',''))\n",
    "type(result), result"
   ]
  },
  {
   "cell_type": "code",
   "execution_count": 280,
   "id": "dc02290c-f7b8-4146-b2df-3c277e383f85",
   "metadata": {},
   "outputs": [
    {
     "data": {
      "text/plain": [
       "[1234, 5678, 12345]"
      ]
     },
     "execution_count": 280,
     "metadata": {},
     "output_type": "execute_result"
    }
   ],
   "source": [
    "num_str = ['1,234', '5,678', '12,345']\n",
    "results = []\n",
    "for num in num_str:\n",
    "    temp = int(num.replace(',',''))\n",
    "    results.append(temp)\n",
    "\n",
    "results"
   ]
  },
  {
   "cell_type": "code",
   "execution_count": 283,
   "id": "6ad90deb-0163-433e-9d05-ea4640731e5c",
   "metadata": {},
   "outputs": [],
   "source": [
    "def rm_comma(x):\n",
    "    return int(x.replace(',',''))"
   ]
  },
  {
   "cell_type": "code",
   "execution_count": 284,
   "id": "713d4e64-19ff-479f-af89-d8334c35d544",
   "metadata": {},
   "outputs": [
    {
     "data": {
      "text/plain": [
       "0     1234\n",
       "1     5678\n",
       "2    12345\n",
       "dtype: int64"
      ]
     },
     "execution_count": 284,
     "metadata": {},
     "output_type": "execute_result"
    }
   ],
   "source": [
    "def rm_comma(x):\n",
    "    return int(x.replace(',',''))\n",
    "s = pd.Series(['1,234', '5,678', '12,345'])\n",
    "result = s.map(rm_comma)\n",
    "result"
   ]
  },
  {
   "cell_type": "code",
   "execution_count": 285,
   "id": "3a9f5695-a2b4-4b93-aff8-346fb07ce61e",
   "metadata": {},
   "outputs": [
    {
     "data": {
      "text/plain": [
       "0     1234.56\n",
       "1     5678.90\n",
       "2    12345.67\n",
       "dtype: float64"
      ]
     },
     "execution_count": 285,
     "metadata": {},
     "output_type": "execute_result"
    }
   ],
   "source": [
    "def remove_dollar_sign(x):\n",
    "    return float(x.replace('$', '').replace(',', ''))\n",
    "s = pd.Series(['$1,234.56', '$5,678.90', '$12,345.67'])\n",
    "result = s.map(remove_dollar_sign)\n",
    "result"
   ]
  },
  {
   "cell_type": "markdown",
   "id": "dfaac3ae-023e-466f-8606-08da4d5f686d",
   "metadata": {},
   "source": [
    "## 문제\n",
    "- 기준점이 13이상\n",
    "  + 크다 or 작다"
   ]
  },
  {
   "cell_type": "code",
   "execution_count": 289,
   "id": "9731d9e2-71fa-4bac-95af-d664006cbdd7",
   "metadata": {},
   "outputs": [
    {
     "data": {
      "text/plain": [
       "0    작다\n",
       "1    크다\n",
       "2    작다\n",
       "3    크다\n",
       "4    크다\n",
       "dtype: object"
      ]
     },
     "execution_count": 289,
     "metadata": {},
     "output_type": "execute_result"
    }
   ],
   "source": [
    "def is_greater_13(x): \n",
    "\n",
    "    return_text = None\n",
    "    if x >= 13:\n",
    "        return \"크다\"\n",
    "    else:\n",
    "        return \"작다\" \n",
    "\n",
    "s = pd.Series([10, 15, 7, 20, 13])\n",
    "s.map(is_greater_13)"
   ]
  },
  {
   "cell_type": "code",
   "execution_count": 291,
   "id": "494fdb8a-3bed-461d-bf11-e00a39267181",
   "metadata": {},
   "outputs": [
    {
     "name": "stdout",
     "output_type": "stream",
     "text": [
      "0    작다\n",
      "1    크다\n",
      "2    작다\n",
      "3    크다\n",
      "4    크다\n",
      "dtype: object\n"
     ]
    }
   ],
   "source": [
    "result = s.map(lambda x: '크다' if x >= 13 else '작다')\n",
    "print(result)"
   ]
  },
  {
   "cell_type": "code",
   "execution_count": 292,
   "id": "9948490c-4c22-4621-b4d2-eb49224a429c",
   "metadata": {},
   "outputs": [
    {
     "name": "stdout",
     "output_type": "stream",
     "text": [
      "0    작다\n",
      "1    크다\n",
      "2    작다\n",
      "3    크다\n",
      "4    크다\n",
      "dtype: object\n"
     ]
    }
   ],
   "source": [
    "result = s.apply(lambda x: '크다' if x >= 13 else '작다')\n",
    "print(result)"
   ]
  },
  {
   "cell_type": "markdown",
   "id": "0c9e2e84-eabf-4c99-806b-4cfd600d06f0",
   "metadata": {},
   "source": [
    "## 필터링"
   ]
  },
  {
   "cell_type": "code",
   "execution_count": 294,
   "id": "dbedf672-d111-4caf-a6b5-d0bb73501494",
   "metadata": {},
   "outputs": [
    {
     "data": {
      "text/plain": [
       "2019-05-31    42500\n",
       "2019-05-30    42550\n",
       "2019-05-29    41800\n",
       "2019-05-28    42550\n",
       "2019-05-27    42650\n",
       "dtype: int64"
      ]
     },
     "execution_count": 294,
     "metadata": {},
     "output_type": "execute_result"
    }
   ],
   "source": [
    "data = [42500, 42550, 41800, 42550, 42650]\n",
    "index = ['2019-05-31', '2019-05-30', '2019-05-29', '2019-05-28', '2019-05-27']\n",
    "s = pd.Series(data=data, index=index)\n",
    "s"
   ]
  },
  {
   "cell_type": "code",
   "execution_count": 295,
   "id": "234d86d2-e6d8-4b44-a2c3-e014ad9a8a88",
   "metadata": {},
   "outputs": [
    {
     "name": "stdout",
     "output_type": "stream",
     "text": [
      "2019-05-31     True\n",
      "2019-05-30     True\n",
      "2019-05-29    False\n",
      "2019-05-28     True\n",
      "2019-05-27     True\n",
      "dtype: bool\n"
     ]
    }
   ],
   "source": [
    "cond = s > 42000\n",
    "print(cond)"
   ]
  },
  {
   "cell_type": "code",
   "execution_count": 296,
   "id": "86747f26-6242-4b87-8bf9-1327f8b039d1",
   "metadata": {},
   "outputs": [
    {
     "data": {
      "text/plain": [
       "2019-05-31    42500\n",
       "2019-05-30    42550\n",
       "2019-05-28    42550\n",
       "2019-05-27    42650\n",
       "dtype: int64"
      ]
     },
     "execution_count": 296,
     "metadata": {},
     "output_type": "execute_result"
    }
   ],
   "source": [
    "s[cond]"
   ]
  },
  {
   "cell_type": "code",
   "execution_count": 297,
   "id": "5183a37a-0042-4a9f-8b95-cc36b82f7521",
   "metadata": {},
   "outputs": [
    {
     "data": {
      "text/plain": [
       "2019-05-31    42500\n",
       "2019-05-30    42550\n",
       "2019-05-28    42550\n",
       "2019-05-27    42650\n",
       "dtype: int64"
      ]
     },
     "execution_count": 297,
     "metadata": {},
     "output_type": "execute_result"
    }
   ],
   "source": [
    "s[s > 42000]"
   ]
  },
  {
   "cell_type": "code",
   "execution_count": 304,
   "id": "5809c197-944b-4fe3-96a5-9b56fcf2da07",
   "metadata": {},
   "outputs": [
    {
     "data": {
      "text/plain": [
       "2019-05-30    42550\n",
       "2019-05-27    42650\n",
       "dtype: int64"
      ]
     },
     "execution_count": 304,
     "metadata": {},
     "output_type": "execute_result"
    }
   ],
   "source": [
    "from pandas import Series\n",
    "# import pandas as pd\n",
    "# pd.Series()\n",
    "\n",
    "close = [42500, 42550, 41800, 42550, 42650]\n",
    "open = [42600, 42200, 41850, 42550, 42500]\n",
    "index = ['2019-05-31', '2019-05-30', '2019-05-29', '2019-05-28', '2019-05-27']\n",
    "\n",
    "open = Series(data=open, index=index)\n",
    "close = Series(data=close, index=index)\n",
    "\n",
    "# 문제: 종가가 시가보다 높은 날을 구하세요\n",
    "# close > open\n",
    "close[close > open]"
   ]
  }
 ],
 "metadata": {
  "kernelspec": {
   "display_name": "Python 3 (ipykernel)",
   "language": "python",
   "name": "python3"
  },
  "language_info": {
   "codemirror_mode": {
    "name": "ipython",
    "version": 3
   },
   "file_extension": ".py",
   "mimetype": "text/x-python",
   "name": "python",
   "nbconvert_exporter": "python",
   "pygments_lexer": "ipython3",
   "version": "3.12.6"
  }
 },
 "nbformat": 4,
 "nbformat_minor": 5
}
