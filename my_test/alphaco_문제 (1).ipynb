{
 "cells": [
  {
   "cell_type": "markdown",
   "id": "57145fb4-02e5-4662-ac38-3b90d6dae0e5",
   "metadata": {},
   "source": [
    "# 문제 1. \n",
    "- 변수 a에 정수 10을, 변수 b에 실수 5.5를 할당하고, 두 변수를 더한 결과의 데이터 타입을 출력하세요."
   ]
  },
  {
   "cell_type": "code",
   "execution_count": 1,
   "id": "b2761e73-93a5-4046-8dea-7a0a835f1a11",
   "metadata": {},
   "outputs": [
    {
     "data": {
      "text/plain": [
       "float"
      ]
     },
     "execution_count": 1,
     "metadata": {},
     "output_type": "execute_result"
    }
   ],
   "source": [
    "a = int(10)\n",
    "b = float(5.5)\n",
    "\n",
    "result = a + b\n",
    "type(result)"
   ]
  },
  {
   "cell_type": "markdown",
   "id": "e0f50968-ef17-4c64-ac01-9faf13bf9dc0",
   "metadata": {},
   "source": [
    "# 문제 2\n",
    "- 문자열 \"100\"과 정수 50을 더하려고 할 때 발생하는 오류를 설명하고, 이를 해결하는 방법을 보여주세요."
   ]
  },
  {
   "cell_type": "code",
   "execution_count": 2,
   "id": "4aa0963e-00c7-4960-ab00-22881db50af4",
   "metadata": {},
   "outputs": [
    {
     "name": "stdout",
     "output_type": "stream",
     "text": [
      "150\n"
     ]
    }
   ],
   "source": [
    "c = \"100\"\n",
    "d = int(50)\n",
    "\n",
    "# c + d => TypeError\n",
    "\n",
    "result = int(c) + d\n",
    "print(result)"
   ]
  },
  {
   "cell_type": "markdown",
   "id": "35147345-b3fb-4f2c-a54a-4c33390683f2",
   "metadata": {},
   "source": [
    "# 문제 3. \n",
    "- 리스트 [1, 2, 3]와 튜플 (4, 5, 6)을 더할 수 있는지 확인하고, 가능하다면 결과를 출력하세요."
   ]
  },
  {
   "cell_type": "code",
   "execution_count": 4,
   "id": "a9641e93-c44a-4354-92db-1390a5de9e6c",
   "metadata": {},
   "outputs": [
    {
     "name": "stdout",
     "output_type": "stream",
     "text": [
      "[1, 2, 3, 4, 5, 6]\n"
     ]
    }
   ],
   "source": [
    "list_data = [1, 2, 3]\n",
    "tuple_data = (4, 5, 6)\n",
    "\n",
    "# list_data + tuple_data => TypeError\n",
    "\n",
    "result = list_data + list(tuple_data)\n",
    "print(result)"
   ]
  },
  {
   "cell_type": "markdown",
   "id": "b32e71e7-cc86-4f53-a05b-6cc34e0e73ba",
   "metadata": {},
   "source": [
    "# 문제 4. \n",
    "- 변수 x에 None을 할당하고, 이를 다른 데이터 타입으로 변환할 수 있는지 확인하세요."
   ]
  },
  {
   "cell_type": "code",
   "execution_count": 6,
   "id": "22a659e2-39f1-4aec-a628-b55cfcf58d10",
   "metadata": {},
   "outputs": [
    {
     "data": {
      "text/plain": [
       "NoneType"
      ]
     },
     "execution_count": 6,
     "metadata": {},
     "output_type": "execute_result"
    }
   ],
   "source": [
    "x = None\n",
    "\n",
    "# result = int(x) => TypeError\n",
    "\n",
    "type(x)"
   ]
  },
  {
   "cell_type": "markdown",
   "id": "8ded1f62-75d6-4e24-a9f3-a90e092957ba",
   "metadata": {},
   "source": [
    "# 문제 5. \n",
    "- 변수 a에 정수 3을 할당하고, 이를 부동 소수점 숫자 3.0으로 자동 변환하도록 하세요."
   ]
  },
  {
   "cell_type": "code",
   "execution_count": 9,
   "id": "4db83b8a-1d46-4128-bad6-ed3bee46655f",
   "metadata": {},
   "outputs": [
    {
     "name": "stdout",
     "output_type": "stream",
     "text": [
      "3.0\n"
     ]
    }
   ],
   "source": [
    "a = int(3)\n",
    "result = float(a)\n",
    "print(result)"
   ]
  },
  {
   "cell_type": "markdown",
   "id": "6d40d1f0-063c-4bc3-bcf8-7d2bd55cf7eb",
   "metadata": {},
   "source": [
    "# 문제 6. \n",
    "- 변수 s에 문자열 \"Hello\"를 할당하고, 이를 3번 반복한 결과의 데이터 타입을 확인하세요."
   ]
  },
  {
   "cell_type": "code",
   "execution_count": 15,
   "id": "baf4eb4d-e209-4a8a-9e55-c5cdddad4e4e",
   "metadata": {},
   "outputs": [
    {
     "name": "stdout",
     "output_type": "stream",
     "text": [
      "HelloHelloHello\n",
      "<class 'str'>\n"
     ]
    }
   ],
   "source": [
    "s = \"Hello\"\n",
    "result = s * 3\n",
    "\n",
    "print(result)\n",
    "print(type(result))"
   ]
  },
  {
   "cell_type": "markdown",
   "id": "19023327-8560-4aa4-bf63-0de4391f4c17",
   "metadata": {},
   "source": [
    "# 문제 7. \n",
    "- 변수 x에 정수 7을 할당하고, 이를 문자열로 변환한 후 문자열 \"3\"과 더해보세요."
   ]
  },
  {
   "cell_type": "code",
   "execution_count": 16,
   "id": "8d8ed8ba-db6b-4235-9d2e-80b43a58d45d",
   "metadata": {},
   "outputs": [
    {
     "name": "stdout",
     "output_type": "stream",
     "text": [
      "73\n"
     ]
    }
   ],
   "source": [
    "x = int(7)\n",
    "result = str(x) + \"3\"\n",
    "print(result)"
   ]
  },
  {
   "cell_type": "markdown",
   "id": "ac1815d1-8d21-4144-8696-41a5029ab6d6",
   "metadata": {},
   "source": [
    "# 문제 8. \n",
    "- 변수 a에 True, 변수 b에 False를 할당하고, 두 값을 더한 결과와 그 데이터 타입을 확인하세요."
   ]
  },
  {
   "cell_type": "code",
   "execution_count": 18,
   "id": "e33a5894-89e9-45ed-9335-a3798e9aae5b",
   "metadata": {},
   "outputs": [
    {
     "name": "stdout",
     "output_type": "stream",
     "text": [
      "1\n",
      "<class 'int'>\n"
     ]
    }
   ],
   "source": [
    "a = True\n",
    "b = False\n",
    "result = a + b\n",
    "\n",
    "print(result)\n",
    "print(type(result))"
   ]
  },
  {
   "cell_type": "markdown",
   "id": "5a1a36ab-b6c6-4db8-a866-f0616650fc07",
   "metadata": {},
   "source": [
    "# 문제 9. \n",
    "- 변수 a에 25를 할당하고, 이 값을 0.5로 나눈 결과와 그 데이터 타입을 확인하세요."
   ]
  },
  {
   "cell_type": "code",
   "execution_count": 19,
   "id": "fc2db2a4-f15f-409a-badf-9af1ea70a685",
   "metadata": {},
   "outputs": [
    {
     "name": "stdout",
     "output_type": "stream",
     "text": [
      "50.0\n",
      "<class 'float'>\n"
     ]
    }
   ],
   "source": [
    "a = 25\n",
    "result = a / 0.5\n",
    "\n",
    "print(result)\n",
    "print(type(result))"
   ]
  },
  {
   "cell_type": "markdown",
   "id": "0d1febb9-486e-4e2b-837e-df8a6483aa29",
   "metadata": {},
   "source": [
    "# 문제 10. \n",
    "- 변수 text에 문자열 \"12345\"를 할당하고, 이를 정수형으로 변환한 후, 10을 더한 결과를 출력하세요."
   ]
  },
  {
   "cell_type": "code",
   "execution_count": 20,
   "id": "c3334411-48eb-4ac5-8c4f-e5255fe6c5dc",
   "metadata": {},
   "outputs": [
    {
     "name": "stdout",
     "output_type": "stream",
     "text": [
      "12355\n"
     ]
    }
   ],
   "source": [
    "text = \"12345\"\n",
    "result = int(text) + 10\n",
    "\n",
    "print(result)"
   ]
  },
  {
   "cell_type": "markdown",
   "id": "ceaecb19-8b71-419e-810e-0585b7e82065",
   "metadata": {},
   "source": [
    "# 문제 11. \n",
    "- 리스트 [10, 20, 30, 40, 50]에서 가장 큰 값을 찾아서 출력하세요."
   ]
  },
  {
   "cell_type": "code",
   "execution_count": 23,
   "id": "9375f488-d9a3-429d-b079-ea35699d933f",
   "metadata": {},
   "outputs": [
    {
     "name": "stdout",
     "output_type": "stream",
     "text": [
      "50\n"
     ]
    }
   ],
   "source": [
    "list_data = [10, 20, 30, 40, 50]\n",
    "result = max(list_data)\n",
    "\n",
    "print(result)"
   ]
  },
  {
   "cell_type": "markdown",
   "id": "fb5ce4e5-3851-4a94-9e79-8ac74d4b3ace",
   "metadata": {},
   "source": [
    "# 문제 12. \n",
    "- 리스트 [1, 2, 3, 4, 5]에서 모든 요소를 더한 결과를 출력하세요."
   ]
  },
  {
   "cell_type": "code",
   "execution_count": 25,
   "id": "616be0f4-e08e-49ba-bb86-6c4a0cb43956",
   "metadata": {},
   "outputs": [
    {
     "name": "stdout",
     "output_type": "stream",
     "text": [
      "15\n"
     ]
    }
   ],
   "source": [
    "numbers = [1, 2, 3, 4, 5]\n",
    "result = sum(numbers)\n",
    "\n",
    "print(result)"
   ]
  },
  {
   "cell_type": "markdown",
   "id": "63e0e25c-abee-46f6-9e3a-2fcbb787f955",
   "metadata": {},
   "source": [
    "# 문제 13. \n",
    "- 튜플 (5, 10, 15, 20)에서 두 번째 요소를 출력하세요."
   ]
  },
  {
   "cell_type": "code",
   "execution_count": 26,
   "id": "eee0731c-7a39-4005-b45d-b1b6304f7aa1",
   "metadata": {},
   "outputs": [
    {
     "data": {
      "text/plain": [
       "10"
      ]
     },
     "execution_count": 26,
     "metadata": {},
     "output_type": "execute_result"
    }
   ],
   "source": [
    "tuple_data = (5, 10, 15, 20)\n",
    "tuple_data[1]"
   ]
  },
  {
   "cell_type": "markdown",
   "id": "c3ff833f-3b33-4020-8f9f-6d24fe5c3107",
   "metadata": {},
   "source": [
    "# 문제 14. \n",
    "- 튜플 (1, 2, 3)와 (4, 5, 6)을 합쳐서 새로운 튜플을 만들고 출력하세요."
   ]
  },
  {
   "cell_type": "code",
   "execution_count": 28,
   "id": "41dde3eb-0648-44a1-bcd8-f87050475714",
   "metadata": {},
   "outputs": [
    {
     "name": "stdout",
     "output_type": "stream",
     "text": [
      "(1, 2, 3, 4, 5, 6)\n"
     ]
    }
   ],
   "source": [
    "tuple1 = (1, 2, 3)\n",
    "tuple2 = (4, 5, 6)\n",
    "result = tuple1 + tuple2\n",
    "\n",
    "print(result)"
   ]
  },
  {
   "cell_type": "markdown",
   "id": "b3ec17a7-724e-4d39-af1e-44a243dbdaa9",
   "metadata": {},
   "source": [
    "# 문제 15. \n",
    "- 딕셔너리 {'a': 1, 'b': 2, 'c': 3}에서 키 'b'의 값을 10으로 변경하고 출력하세요."
   ]
  },
  {
   "cell_type": "code",
   "execution_count": 31,
   "id": "13308736-2590-44b1-912f-99f05cf62c51",
   "metadata": {},
   "outputs": [
    {
     "name": "stdout",
     "output_type": "stream",
     "text": [
      "{'a': 1, 'b': 10, 'c': 3}\n"
     ]
    }
   ],
   "source": [
    "my_dic = {'a': 1, 'b': 2, 'c': 3}\n",
    "my_dic['b'] = 10\n",
    "\n",
    "print(my_dic)"
   ]
  },
  {
   "cell_type": "markdown",
   "id": "17490123-2062-4463-a1e2-9700dd2ac32f",
   "metadata": {},
   "source": [
    "# 문제 16.\n",
    "- 딕셔너리 {'name': 'Alice', 'age': 25, 'city': 'New York'}에서 모든 키를 출력하세요."
   ]
  },
  {
   "cell_type": "code",
   "execution_count": 1,
   "id": "7f89fb1a-362a-4b9c-9eac-99bdd0d29394",
   "metadata": {},
   "outputs": [
    {
     "name": "stdout",
     "output_type": "stream",
     "text": [
      "dict_keys(['name', 'age', 'city'])\n"
     ]
    }
   ],
   "source": [
    "my_dic = {'name': 'Alice', 'age': 25, 'city': 'New York'}\n",
    "keys = my_dic.keys()\n",
    "\n",
    "print(keys)"
   ]
  },
  {
   "cell_type": "markdown",
   "id": "4709442c-50a2-46dd-bf93-f894514f1c4c",
   "metadata": {},
   "source": [
    "# 문제 17. \n",
    "- while 루프를 사용하여 1부터 5까지의 숫자를 출력하세요."
   ]
  },
  {
   "cell_type": "code",
   "execution_count": 3,
   "id": "cb62e7f4-aec9-4617-9f3c-ba889e3b5653",
   "metadata": {},
   "outputs": [
    {
     "name": "stdout",
     "output_type": "stream",
     "text": [
      "1\n",
      "2\n",
      "3\n",
      "4\n",
      "5\n"
     ]
    }
   ],
   "source": [
    "i=1\n",
    "\n",
    "while i <= 5:\n",
    "    print(i)\n",
    "    i += 1"
   ]
  },
  {
   "cell_type": "markdown",
   "id": "56dddd10-7ac5-475e-9508-b21e4e12c0f9",
   "metadata": {},
   "source": [
    "# 문제 18. \n",
    "- while 루프를 사용하여 10부터 1까지 거꾸로 숫자를 출력하세요."
   ]
  },
  {
   "cell_type": "code",
   "execution_count": 5,
   "id": "5d6272cc-8a8b-4812-9846-2aa14dbfbe94",
   "metadata": {},
   "outputs": [
    {
     "name": "stdout",
     "output_type": "stream",
     "text": [
      "10\n",
      "9\n",
      "8\n",
      "7\n",
      "6\n",
      "5\n",
      "4\n",
      "3\n",
      "2\n",
      "1\n"
     ]
    }
   ],
   "source": [
    "i = 10\n",
    "\n",
    "while i >= 1:\n",
    "    print(i)\n",
    "    i -= 1"
   ]
  },
  {
   "cell_type": "markdown",
   "id": "3e9cbe53-91b2-45b5-a51d-0c44cc097aa5",
   "metadata": {},
   "source": [
    "# 문제 19. \n",
    "- for 루프를 사용하여 리스트 [2, 4, 6, 8, 10]의 각 요소에 2를 곱한 값을 출력하세요."
   ]
  },
  {
   "cell_type": "code",
   "execution_count": 7,
   "id": "3f5034b1-9668-4cda-aa5d-4d46a61c4291",
   "metadata": {},
   "outputs": [
    {
     "name": "stdout",
     "output_type": "stream",
     "text": [
      "4\n",
      "8\n",
      "12\n",
      "16\n",
      "20\n"
     ]
    }
   ],
   "source": [
    "my_list = [2, 4, 6, 8, 10]\n",
    "\n",
    "for i in my_list:\n",
    "    print(i*2)"
   ]
  },
  {
   "cell_type": "markdown",
   "id": "0a2c30f3-d80c-4137-ac8d-488feb20668d",
   "metadata": {},
   "source": [
    "# 문제 20. \n",
    "- for 루프를 사용하여 문자열 \"Python\"의 각 문자를 출력하세요."
   ]
  },
  {
   "cell_type": "code",
   "execution_count": 8,
   "id": "32450682-f43b-4ca0-9d6b-49e6402d60f2",
   "metadata": {},
   "outputs": [
    {
     "name": "stdout",
     "output_type": "stream",
     "text": [
      "P\n",
      "y\n",
      "t\n",
      "h\n",
      "o\n",
      "n\n"
     ]
    }
   ],
   "source": [
    "a = \"Python\"\n",
    "\n",
    "for i in a:\n",
    "    print(i)"
   ]
  }
 ],
 "metadata": {
  "kernelspec": {
   "display_name": "Python 3 (ipykernel)",
   "language": "python",
   "name": "python3"
  },
  "language_info": {
   "codemirror_mode": {
    "name": "ipython",
    "version": 3
   },
   "file_extension": ".py",
   "mimetype": "text/x-python",
   "name": "python",
   "nbconvert_exporter": "python",
   "pygments_lexer": "ipython3",
   "version": "3.12.6"
  }
 },
 "nbformat": 4,
 "nbformat_minor": 5
}
