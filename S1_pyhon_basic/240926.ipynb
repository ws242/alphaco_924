{
 "cells": [
  {
   "cell_type": "markdown",
   "id": "2bf63f0f-0e81-47f5-b6d5-ee468d1b1639",
   "metadata": {},
   "source": [
    "## 클래스 선언"
   ]
  },
  {
   "cell_type": "code",
   "execution_count": 1,
   "id": "0d20261b-239b-4bec-be4a-925c6613fefb",
   "metadata": {},
   "outputs": [],
   "source": [
    "class Bicycle():\n",
    "    pass"
   ]
  },
  {
   "cell_type": "markdown",
   "id": "ba3e3f84-03a1-49df-90a2-a2652c86ec7f",
   "metadata": {},
   "source": [
    "## 객체 생성"
   ]
  },
  {
   "cell_type": "code",
   "execution_count": 2,
   "id": "717c4ec7-e171-4e95-bf32-91ece8ae4622",
   "metadata": {},
   "outputs": [
    {
     "data": {
      "text/plain": [
       "<__main__.Bicycle at 0x1752fd6d5b0>"
      ]
     },
     "execution_count": 2,
     "metadata": {},
     "output_type": "execute_result"
    }
   ],
   "source": [
    "my_bicycle = Bicycle()\n",
    "my_bicycle"
   ]
  },
  {
   "cell_type": "code",
   "execution_count": 3,
   "id": "1810f920-4500-4fdf-a1a1-c522131d993a",
   "metadata": {},
   "outputs": [],
   "source": [
    "my_bicycle.wheel_size = 26\n",
    "my_bicycle.color = 'black'"
   ]
  },
  {
   "cell_type": "code",
   "execution_count": 4,
   "id": "78467de0-a645-4da9-a4f9-85e361478f44",
   "metadata": {},
   "outputs": [
    {
     "name": "stdout",
     "output_type": "stream",
     "text": [
      "26\n"
     ]
    }
   ],
   "source": [
    "print(my_bicycle.wheel_size)"
   ]
  },
  {
   "cell_type": "code",
   "execution_count": null,
   "id": "e1d3d763-9f1e-4bd8-833a-c0c994e79ffc",
   "metadata": {},
   "outputs": [],
   "source": [
    "- 어제 했던 책 코드는 활용도가 떨어짐\n",
    "- init 함수 활용해서 클래스 만듦"
   ]
  },
  {
   "cell_type": "code",
   "execution_count": 9,
   "id": "2f76e8ed-8fe0-40fa-ba66-dd1c4ce5a2d1",
   "metadata": {},
   "outputs": [
    {
     "name": "stdout",
     "output_type": "stream",
     "text": [
      "26 black\n",
      "자전거 : 시속60 킬로미터로 전진\n"
     ]
    }
   ],
   "source": [
    "class Bicycle():\n",
    "    def __init__(self, wheel_size, color):\n",
    "        self.wheel_size = wheel_size\n",
    "        self.color = color\n",
    "\n",
    "    # 매서드\n",
    "    def move(self, speed):\n",
    "        print(f\"자전거 : 시속{speed} 킬로미터로 전진\")\n",
    "\n",
    "my_bicycle = Bicycle(26, 'black') # 객체 생성과 동시에 속성값을 지정.\n",
    "print(my_bicycle.wheel_size, my_bicycle.color)\n",
    "\n",
    "my_bicycle.move(60)"
   ]
  },
  {
   "cell_type": "markdown",
   "id": "8b9a890e-4172-47a3-923a-a675cff61559",
   "metadata": {},
   "source": [
    "## 문제\n",
    "- Person 클래스 만들기\n",
    "    + 속성 : 이름(name), 나이(age)\n",
    "    + greet() 매서드 "
   ]
  },
  {
   "cell_type": "code",
   "execution_count": 8,
   "id": "0acdd9f5-1aed-4804-8994-e18fa67a7a26",
   "metadata": {},
   "outputs": [
    {
     "name": "stdout",
     "output_type": "stream",
     "text": [
      "안녕하세요, 저는 Wonny이고, 현재 20살입니다.\n"
     ]
    }
   ],
   "source": [
    "class Person():\n",
    "    def __init__(self, name, age):\n",
    "        self.name = name\n",
    "        self.age = age\n",
    "\n",
    "    def greet(self):\n",
    "        print(f\"안녕하세요, 저는 {self.name}이고, 현재 {self.age}살입니다.\")\n",
    "\n",
    "Wonny = Person(\"Wonny\", 20)\n",
    "Wonny.greet()"
   ]
  },
  {
   "cell_type": "code",
   "execution_count": 15,
   "id": "d2231716-73c5-4e99-96b1-12b53c017e31",
   "metadata": {},
   "outputs": [
    {
     "name": "stdout",
     "output_type": "stream",
     "text": [
      "안녕하세요 Evan님, 저는Wonny이고, 현재 20살입니다.\n"
     ]
    }
   ],
   "source": [
    "class Person():\n",
    "    def __init__(self, name, age):  #self는 객체를 설정할 떄 사용 \n",
    "        self.name = name\n",
    "        self.age = age\n",
    "\n",
    "    def greet(self, other_name):\n",
    "        print(f\"안녕하세요 {other_name}님, 저는{self.name}이고, 현재 {self.age}살입니다.\")  #\n",
    "\n",
    "Wonny = Person(\"Wonny\", 20)\n",
    "Wonny.greet(other_name = \"Evan\")"
   ]
  },
  {
   "cell_type": "code",
   "execution_count": 18,
   "id": "02c9f8f4-32de-488b-8629-901253ad92dc",
   "metadata": {},
   "outputs": [
    {
     "name": "stdout",
     "output_type": "stream",
     "text": [
      "안녕하세요 Evan님, 저는Wonny이고, 현재 20살입니다.\n",
      "안녕하세요 Elie님, 저는Wonny이고, 현재 20살입니다.\n"
     ]
    }
   ],
   "source": [
    "class Person():\n",
    "    def __init__(self, name, age):  #self는 객체를 설정할 떄 사용 \n",
    "        self.name = name\n",
    "        self.age = age\n",
    "\n",
    "    def greet(self, other_name=\"Evan\"):\n",
    "        print(f\"안녕하세요 {other_name}님, 저는{self.name}이고, 현재 {self.age}살입니다.\")  #\n",
    "\n",
    "Wonny = Person(\"Wonny\", 20)\n",
    "Wonny.greet()\n",
    "Wonny.greet(other_name = \"Elie\")"
   ]
  },
  {
   "cell_type": "markdown",
   "id": "d41b7fcb-b73f-477e-a51c-494e35020e26",
   "metadata": {},
   "source": [
    "## 다양한 매서드 추가"
   ]
  },
  {
   "cell_type": "code",
   "execution_count": 19,
   "id": "94177165-bf03-4518-93fb-15af1e3352f3",
   "metadata": {},
   "outputs": [
    {
     "name": "stdout",
     "output_type": "stream",
     "text": [
      "자전거 : 시속30 킬로미터로 전진\n",
      "26, black의 특성을 가진 자전거님 정지하세요\n"
     ]
    }
   ],
   "source": [
    "class Bicycle():\n",
    "    def __init__(self, wheel_size, color):\n",
    "        self.wheel_size = wheel_size\n",
    "        self.color = color\n",
    "\n",
    "    # 매서드\n",
    "    def move(self, speed):\n",
    "        print(f\"자전거 : 시속{speed} 킬로미터로 전진\")\n",
    "\n",
    "    def stop(self):\n",
    "        print(f\"{self.wheel_size}, {self.color}의 특성을 가진 자전거님 정지하세요\")\n",
    "\n",
    "my_bicycle = Bicycle(26, 'black')\n",
    "my_bicycle.move(30)\n",
    "my_bicycle.stop()"
   ]
  },
  {
   "cell_type": "code",
   "execution_count": null,
   "id": "f991f79d-15bf-40c4-a671-b5189f0b1832",
   "metadata": {},
   "outputs": [],
   "source": [
    "- 클래스를 만든다고 할 때, 클래스명 특성과 행동을 정의하는 것이 핵심 포인트\n",
    "- 자전거 != 자동차"
   ]
  },
  {
   "cell_type": "markdown",
   "id": "5a1fd759-9f02-4b1a-a063-d3dd0dd6a0fc",
   "metadata": {},
   "source": [
    "- 시각화를 그리려고 함\n",
    "  + 도면 클래스 : 다양한 속성과 함수들이 존재\n",
    "  + 그리기 도구 클래스 : 다양한 속성과 함수들이 존재\n",
    "  + 막대그래프 클래스\n",
    "  + 파이차트 클래스\n",
    "  + "
   ]
  },
  {
   "cell_type": "markdown",
   "id": "cb3aa5c3-1590-4d44-b9f3-2d510c9d1a75",
   "metadata": {},
   "source": [
    "## 클래스에서 사용하는 변수"
   ]
  },
  {
   "cell_type": "code",
   "execution_count": 13,
   "id": "6be517ea-a2ed-4a2b-93f4-a261c7800bd1",
   "metadata": {},
   "outputs": [],
   "source": [
    "class Car():\n",
    "\n",
    "    #클래스 변수\n",
    "    instance_count = 0 #클래스 변수 생성 및 초기화\n",
    "\n",
    "    def __init__(self, size, color):\n",
    "        self.size = size # 인스턴스 변수 생성 및 초기화\n",
    "        self.color = color # 인스턴스 변수 생성 및 초기화 \n",
    "        Car.instance_count = Car.instance_count + 1 # 클래스 변수 이용 하는 방법\n",
    "        print(f\"자동차 객채의 수: {Car.instance_count}\")\n",
    "\n",
    "    #매서드\n",
    "    def move(self):\n",
    "        print(f\"자동차 {self.size}, {self.color}가 움직입니다.\")"
   ]
  },
  {
   "cell_type": "code",
   "execution_count": 21,
   "id": "88f50c8d-fa41-4b29-91cd-722d19c13ae5",
   "metadata": {},
   "outputs": [
    {
     "name": "stdout",
     "output_type": "stream",
     "text": [
      "자동차 객채의 수: 22\n",
      "자동차 객채의 수: 23\n",
      "자동차 객채의 수: 24\n",
      "자동차 small, white가 움직입니다.\n"
     ]
    }
   ],
   "source": [
    "car1 = Car('small', 'white')\n",
    "car2 = Car('big', 'black')\n",
    "car3 = Car('medium', 'yellow')\n",
    "car1.move()"
   ]
  },
  {
   "cell_type": "markdown",
   "id": "83a80146-83fa-4a5a-a12b-070f195ad981",
   "metadata": {},
   "source": [
    "## 상속의 기본형태"
   ]
  },
  {
   "cell_type": "code",
   "execution_count": 29,
   "id": "7cd194f8-71b4-4d0c-b15e-2c9f6448d4eb",
   "metadata": {},
   "outputs": [],
   "source": [
    "class 상위클래스:\n",
    "    pass\n",
    "\n",
    "class 하위클래스(상위클래스):\n",
    "    pass\n"
   ]
  },
  {
   "cell_type": "code",
   "execution_count": 34,
   "id": "171e8e21-3bbf-4146-a2cd-09b924b4a28f",
   "metadata": {},
   "outputs": [],
   "source": [
    "class 동물:\n",
    "\n",
    "    name = \"\"\n",
    "\n",
    "    def 음식먹기(self):\n",
    "        print(\"저는 음식을 먹습니다\")"
   ]
  },
  {
   "cell_type": "code",
   "execution_count": 36,
   "id": "2ce0c674-d35c-42d6-8b47-d51371e3c50e",
   "metadata": {},
   "outputs": [],
   "source": [
    "class 강아지(동물):\n",
    "\n",
    "    def 자기소개(self):\n",
    "        print(f\"내 이름은 {self.name}\")"
   ]
  },
  {
   "cell_type": "code",
   "execution_count": 37,
   "id": "dd986b49-82ee-4abb-bebf-b005be863580",
   "metadata": {},
   "outputs": [
    {
     "name": "stdout",
     "output_type": "stream",
     "text": [
      "저는 음식을 먹습니다\n",
      "내 이름은 멍멍\n"
     ]
    }
   ],
   "source": [
    "강아지1 = 강아지()\n",
    "강아지1.name = \"멍멍\"\n",
    "강아지1.음식먹기()\n",
    "강아지1.자기소개()"
   ]
  },
  {
   "cell_type": "markdown",
   "id": "5d0e9fc6-ebff-4e90-b6e4-9a8886bb3b40",
   "metadata": {},
   "source": [
    "상속은 is-a 관계\n",
    "\n",
    "Car is a vehicle ==> 상위클래스:vehicle, 하위클래스:car\n",
    "Apple is a Fruit ==> 상위 : Fruit, 하위 : Apple\n",
    "Cat is an Animal ==> 상위 : Animal, 하위 : Cat\n",
    "\n",
    "# 코딩보다 중요한 건 관계성을 설계하는 것."
   ]
  },
  {
   "cell_type": "markdown",
   "id": "2b2a29ea-e34d-4294-aab6-df5c39ac812e",
   "metadata": {},
   "source": [
    "## 다중상속"
   ]
  },
  {
   "cell_type": "code",
   "execution_count": null,
   "id": "a979e718-31a2-4e62-801e-bb84efea315a",
   "metadata": {},
   "outputs": [],
   "source": [
    "class 상위클래스1:\n",
    "    pass\n",
    "class 상위클래스2:\n",
    "    pass\n",
    "class 하위클래스(상위클래스1, 상위클래스2):\n",
    "    pass"
   ]
  },
  {
   "cell_type": "code",
   "execution_count": 40,
   "id": "b5f5bf7f-d8f2-4c29-b211-bb88cfe07c90",
   "metadata": {},
   "outputs": [],
   "source": [
    "class 포유류:\n",
    "    def 포유류_정보(self):\n",
    "        print(\"포유류의 특징은 새끼를 낳는다\")\n",
    "\n",
    "class 날개동물:\n",
    "    def 날개동물_정보(self):\n",
    "        print(\"날개를 가진 동물은 날 수 있다\")\n",
    "\n",
    "class 박쥐(포유류, 날개동물):\n",
    "    pass"
   ]
  },
  {
   "cell_type": "code",
   "execution_count": 41,
   "id": "f8e66ef3-0b19-44db-88c6-4d426c22b51b",
   "metadata": {},
   "outputs": [
    {
     "name": "stdout",
     "output_type": "stream",
     "text": [
      "포유류의 특징은 새끼를 낳는다\n"
     ]
    }
   ],
   "source": [
    "b1 = 박쥐()\n",
    "b1.포유류_정보()"
   ]
  },
  {
   "cell_type": "code",
   "execution_count": 42,
   "id": "b5221280-c0a7-4372-8ef9-b8400749d6a7",
   "metadata": {},
   "outputs": [
    {
     "name": "stdout",
     "output_type": "stream",
     "text": [
      "날개를 가진 동물은 날 수 있다\n"
     ]
    }
   ],
   "source": [
    "b1.날개동물_정보()"
   ]
  },
  {
   "cell_type": "markdown",
   "id": "0b340e4f-0a3c-4543-8ce0-11d594ac7da0",
   "metadata": {},
   "source": [
    "# 클래스를 설계하다 보면 부딪히는 흔한 문제\n",
    "- 메서드 명이 같을 때\n",
    "- 오버라이딩, 다형성"
   ]
  },
  {
   "cell_type": "markdown",
   "id": "d35c147d-08b2-4fc2-9046-f6b0cbbcf356",
   "metadata": {},
   "source": [
    "# 연습문제"
   ]
  },
  {
   "cell_type": "code",
   "execution_count": null,
   "id": "7fd2d645-0e51-4d75-a345-b92db33d5c98",
   "metadata": {},
   "outputs": [],
   "source": [
    "\"\"\"\n",
    "- Car 클래스를 만들어보겠습니다. \n",
    "- Car 클래스는 `__init__`, `get_description`, `read_kilometer`, `update_kilometer`, `increment_kilometer`라는 메서드를 갖습니다.\n",
    "    + `__init__` 메서드는 클래스의 생성자로, 객체가 생성될 때 호출됩니다.\n",
    "- 속성 사용하기\n",
    "    + `self.make`, `self.model`, `self.year`, `self.kilometer_reading` 클래스의 속성입니다.\n",
    "    + 객체가 생성될 때 속성값이 초기화됩니다.\n",
    "\n",
    "- self의 의미\n",
    "    + self는 클래스의 인스턴스를 참조합니다. 클래스 내의 메서드가 객체의 속성에 접근하거나 다른 메서드를 호출할 때 사용합니다.\n",
    "    + self를 통해 클래스 내의 속성 및 메서드를 정의하고 접근할 수 있습니다.\n",
    "\n",
    "- 클래스의 위치 인수, 키워드 인수\n",
    "    + `__init__` 메서드의 make, model, year는 위치 인수로 전달됩니다.\n",
    "    + 메서드를 호출할 때 my_car.update_kilometer(kilometers=500)처럼 키워드 인수로 사용할 수도 있습니다.\n",
    "\"\"\""
   ]
  },
  {
   "cell_type": "code",
   "execution_count": 37,
   "id": "29354bd5-9a96-4e02-94b5-bf5f0d62c003",
   "metadata": {},
   "outputs": [
    {
     "name": "stdout",
     "output_type": "stream",
     "text": [
      "업데이트 확인 : 현재 20km\n",
      "음수가 입력되었습니다. 다시 확인해주세요.\n"
     ]
    }
   ],
   "source": [
    "class Car():  # 내 연습 \n",
    "    def __init__(self, make, model, year):\n",
    "        self.make = make\n",
    "        self.model = model\n",
    "        self.year = year\n",
    "        self.kilometer_reading = 0\n",
    "\n",
    "    def get_description(self): \n",
    "        return f\"{self.make}, {self.model}, {self.year}\"\n",
    "\n",
    "    def read_kilometer(self):\n",
    "        print(f\"현재 {self.kilometer_reading}km 운행하였습니다.\")\n",
    "\n",
    "    def update_kilometer(self, kilometers):\n",
    "        self.kilometer_reading = kilometers\n",
    "        if kilometers >= self.kilometer_reading:\n",
    "            self.kilometer_reading = kilometers\n",
    "            print(f\"업데이트 확인 : 현재 {self.kilometer_reading}km\")\n",
    "\n",
    "        else:\n",
    "            print(f\"현재 {self.self.kilometser_reading}km, 다시 확인해주세요.\")\n",
    "        \n",
    "    def increment_kilometer(self, kilometers):\n",
    "        if kilometers > 0 :\n",
    "            self.kilometer_reading += kilometers\n",
    "        else:\n",
    "            print(\"음수가 입력되었습니다. 다시 확인해주세요.\")\n",
    "\n",
    "my_car = Car(\"KIA\", \"EV9\", 2024)\n",
    "my_car.update_kilometer(20)\n",
    "my_car.increment_kilometer(-10)"
   ]
  },
  {
   "cell_type": "code",
   "execution_count": 70,
   "id": "e8c9340a-595e-463b-b511-e15d7ca24c7f",
   "metadata": {},
   "outputs": [],
   "source": [
    "class Car:    #정답 \n",
    "    # __init__ 메서드: 객체가 생성될 때 호출되며 속성을 초기화합니다.\n",
    "    def __init__(self, make, model, year):\n",
    "        self.make = make  # 자동차 제조사\n",
    "        self.model = model  # 자동차 모델\n",
    "        self.year = year  # 제조 연도\n",
    "        self.kilometer_reading = 0  # 주행 거리 (초기값 0) => 개체 생성 시 자동으로 0이라 init에 넣지 않음 \n",
    "\n",
    "    # 자동차의 전체 설명을 반환하는 메서드\n",
    "    def get_description(self):\n",
    "         return f\"{self.year} {self.make} {self.model}\"\n",
    "\n",
    "    # 현재 주행 거리 출력하는 메서드\n",
    "    def read_kilometer(self):\n",
    "        print(f\"이 자동차의 현재 주행 거리는 {self.kilometer_reading} 킬로미터입니다.\")\n",
    "    \n",
    "    # 주행거리 업데이트\n",
    "    # 새로운 값이 기존 값보다 클 경우에만 업데이트\n",
    "    def update_kilometer(self, kilometers):\n",
    "        if kilometers >= self.kilometer_reading:\n",
    "            self.kilometer_reading = kilometers\n",
    "            print(f\"업데이트 확인 : {self.kilometer_reading} 킬로미터\")\n",
    "        else:\n",
    "            print(f\"현재 : {self.self.kilometer_reading}, 다시 입력해주세요\")\n",
    "\n",
    "    # 주행거리 증가시키기\n",
    "    def increment_kilometer(self, kilometers):\n",
    "        # 주행거리가 음수가 나오면 안되니깐, if 조건문 사용 예정\n",
    "        if kilometers > 0:\n",
    "            self.kilometer_reading += kilometers\n",
    "        else:\n",
    "            print(\"음수가 입력되었습니다. 양수로 입력해주세요\")"
   ]
  },
  {
   "cell_type": "code",
   "execution_count": 67,
   "id": "f5682736-8909-4817-aafd-de883b216958",
   "metadata": {},
   "outputs": [
    {
     "name": "stdout",
     "output_type": "stream",
     "text": [
      "2024 현대 아반떼\n",
      "이 자동차의 현재 주행 거리는 0 킬로미터입니다.\n"
     ]
    }
   ],
   "source": [
    "my_car = Car(\"현대\", \"아반떼\", 2024)\n",
    "description = my_car.get_description()\n",
    "print(description)\n",
    "my_car.read_kilometer()"
   ]
  },
  {
   "cell_type": "code",
   "execution_count": 71,
   "id": "df65c5e7-54d0-413e-b65c-4a9cf0e2efb2",
   "metadata": {},
   "outputs": [
    {
     "name": "stdout",
     "output_type": "stream",
     "text": [
      "2024 현대 아반떼\n",
      "이 자동차의 현재 주행 거리는 0 킬로미터입니다.\n",
      "이 자동차의 현재 주행 거리는 100 킬로미터입니다.\n"
     ]
    }
   ],
   "source": [
    "my_car = Car(\"현대\", \"아반떼\", 2024)\n",
    "description = my_car.get_description()\n",
    "print(description)\n",
    "my_car.read_kilometer()\n",
    "my_car.increment_kilometer(100)\n",
    "my_car.read_kilometer()"
   ]
  },
  {
   "cell_type": "code",
   "execution_count": 72,
   "id": "4a5a31b4-7204-4343-94f1-ea83958ac9e6",
   "metadata": {},
   "outputs": [
    {
     "name": "stdout",
     "output_type": "stream",
     "text": [
      "2024 현대 아반떼\n",
      "이 자동차의 현재 주행 거리는 0 킬로미터입니다.\n",
      "음수가 입력되었습니다. 양수로 입력해주세요\n",
      "이 자동차의 현재 주행 거리는 0 킬로미터입니다.\n"
     ]
    }
   ],
   "source": [
    "my_car = Car(\"현대\", \"아반떼\", 2024)\n",
    "description = my_car.get_description()\n",
    "print(description)\n",
    "my_car.read_kilometer()\n",
    "my_car.increment_kilometer(-100)\n",
    "my_car.read_kilometer()"
   ]
  },
  {
   "cell_type": "code",
   "execution_count": 73,
   "id": "34970e8b-ec3a-4ce5-be26-636be8f6f644",
   "metadata": {},
   "outputs": [],
   "source": [
    "class Car:    #내가 한거\n",
    "    \"\"\"\n",
    "    Car 클래스는 자동차의 제조사, 모델, 연도 및 주행거리를 관리합니다.\n",
    "    \n",
    "    속성:\n",
    "        make (str): 자동차 제조사\n",
    "        model (str): 자동차 모델\n",
    "        year (int): 제조 연도\n",
    "        kilometer_reading (int): 주행 거리 (기본값은 0)\n",
    "    \"\"\"\n",
    "\n",
    "    def __init__(self, make: str, model: str, year: int):\n",
    "        \"\"\"\n",
    "        Car 객체의 속성을 초기화합니다.\n",
    "\n",
    "        Args:\n",
    "            make (str): 자동차 제조사\n",
    "            model (str): 자동차 모델\n",
    "            year (int): 제조 연도\n",
    "        \"\"\"\n",
    "        self.make = make  # 자동차 제조사\n",
    "        self.model = model  # 자동차 모델\n",
    "        self.year = year  # 제조 연도\n",
    "        self.kilometer_reading = 0  # 주행 거리 (기본값 0)\n",
    "\n",
    "    def get_description(self) -> str:\n",
    "        \"\"\"\n",
    "        자동차의 전체 설명을 반환합니다.\n",
    "\n",
    "        Returns:\n",
    "            str: 제조 연도, 제조사, 모델의 설명 문자열\n",
    "        \"\"\"\n",
    "        return f\"{self.year} {self.make} {self.model}\"\n",
    "\n",
    "    def read_kilometer(self) -> None:\n",
    "        \"\"\"\n",
    "        현재 주행 거리를 출력합니다.\n",
    "\n",
    "        Returns:\n",
    "            None\n",
    "        \"\"\"\n",
    "        print(f\"이 자동차의 현재 주행 거리는 {self.kilometer_reading} 킬로미터입니다.\")\n",
    "    \n",
    "    def update_kilometer(self, kilometers: int) -> None:\n",
    "        \"\"\"\n",
    "        주어진 값으로 주행 거리를 업데이트합니다. \n",
    "        새로운 값이 기존 값보다 클 경우에만 업데이트됩니다.\n",
    "\n",
    "        Args:\n",
    "            kilometers (int): 새로운 주행 거리 값\n",
    "\n",
    "        Returns:\n",
    "            None\n",
    "        \"\"\"\n",
    "        if kilometers >= self.kilometer_reading:\n",
    "            self.kilometer_reading = kilometers\n",
    "            print(f\"업데이트 확인 : {self.kilometer_reading} 킬로미터\")\n",
    "        else:\n",
    "            print(f\"현재 주행 거리 : {self.kilometer_reading} 킬로미터, 다시 입력해주세요.\")\n",
    "\n",
    "    def increment_kilometer(self, kilometers: int) -> None:\n",
    "        \"\"\"\n",
    "        주행 거리를 주어진 값만큼 증가시킵니다.\n",
    "        음수 값은 허용되지 않습니다.\n",
    "\n",
    "        Args:\n",
    "            kilometers (int): 증가시킬 주행 거리 값\n",
    "\n",
    "        Returns:\n",
    "            None\n",
    "        \"\"\"\n",
    "        if kilometers > 0:\n",
    "            self.kilometer_reading += kilometers\n",
    "            print(f\"주행 거리가 {kilometers} 킬로미터만큼 증가했습니다.\")\n",
    "        else:\n",
    "            print(\"음수가 입력되었습니다. 양수로 입력해주세요.\")\n"
   ]
  },
  {
   "cell_type": "code",
   "execution_count": 74,
   "id": "73eded5f-caca-4442-a670-b4a26b19817c",
   "metadata": {},
   "outputs": [
    {
     "name": "stdout",
     "output_type": "stream",
     "text": [
      "\n",
      "    Car 클래스는 자동차의 제조사, 모델, 연도 및 주행거리를 관리합니다.\n",
      "    \n",
      "    속성:\n",
      "        make (str): 자동차 제조사\n",
      "        model (str): 자동차 모델\n",
      "        year (int): 제조 연도\n",
      "        kilometer_reading (int): 주행 거리 (기본값은 0)\n",
      "    \n"
     ]
    }
   ],
   "source": [
    "my_car = Car(\"현대\", \"아반떼\", 2024)\n",
    "print(my_car.__doc__)"
   ]
  },
  {
   "cell_type": "code",
   "execution_count": 75,
   "id": "d1f633ee-6e50-4aa2-9258-66be2dd8c017",
   "metadata": {},
   "outputs": [],
   "source": [
    "class Car:            #강사님이 한거 \n",
    "    \"\"\"\n",
    "    자동차 객체를 나타내는 클래스. 자동차의 제조사, 모델, 연도 및 주행 거리를 추적합니다.\n",
    "    \"\"\"\n",
    "    \n",
    "    def __init__(self, make: str, model: str, year: int) -> None:\n",
    "        \"\"\"\n",
    "        객체가 생성될 때 호출되며 속성을 초기화합니다.\n",
    "\n",
    "        Args:\n",
    "            make (str): 자동차 제조사\n",
    "            model (str): 자동차 모델\n",
    "            year (int): 제조 연도\n",
    "        \"\"\"\n",
    "        self.make = make  # 자동차 제조사\n",
    "        self.model = model  # 자동차 모델\n",
    "        self.year = year  # 제조 연도\n",
    "        self.kilometer_reading = 0  # 주행 거리 (초기값 0)\n",
    "\n",
    "    def get_description(self) -> str:\n",
    "        \"\"\"\n",
    "        자동차의 전체 설명을 반환합니다.\n",
    "\n",
    "        Returns:\n",
    "            str: 제조 연도, 제조사, 모델 정보를 포함한 문자열\n",
    "        \"\"\"\n",
    "        return f\"{self.year} {self.make} {self.model}\"\n",
    "\n",
    "    def read_kilometer(self) -> None:\n",
    "        \"\"\"\n",
    "        현재 주행 거리를 출력합니다.\n",
    "        \"\"\"\n",
    "        print(f\"이 자동차의 현재 주행 거리는 {self.kilometer_reading} 킬로미터입니다.\")\n",
    "\n",
    "    def update_kilometer(self, kilometers: int) -> None:\n",
    "        \"\"\"\n",
    "        주행 거리를 새로운 값으로 업데이트합니다.\n",
    "        새로운 값이 기존 값보다 클 경우에만 업데이트됩니다.\n",
    "\n",
    "        Args:\n",
    "            kilometers (int): 업데이트하려는 주행 거리 값\n",
    "        \"\"\"\n",
    "        if kilometers >= self.kilometer_reading:\n",
    "            self.kilometer_reading = kilometers\n",
    "            print(f\"업데이트 확인 : {self.kilometer_reading} 킬로미터\")\n",
    "        else:\n",
    "            print(f\"현재 : {self.kilometer_reading}, 다시 입력해주세용\")\n",
    "\n",
    "    def increment_kilometer(self, kilometers: int) -> None:\n",
    "        \"\"\"\n",
    "        주행 거리를 일정량 증가시킵니다.\n",
    "\n",
    "        Args:\n",
    "            kilometers (int): 증가시킬 주행 거리 값. 양수여야 함.\n",
    "        \"\"\"\n",
    "        if kilometers > 0:\n",
    "            self.kilometer_reading += kilometers\n",
    "        else:\n",
    "            print(\"음수가 입력되었습니다. 양수로 입력해주세요.\")"
   ]
  },
  {
   "cell_type": "code",
   "execution_count": 76,
   "id": "06bc2a9c-bb70-4d7d-94f9-e728570bd956",
   "metadata": {},
   "outputs": [
    {
     "name": "stdout",
     "output_type": "stream",
     "text": [
      "\n",
      "    자동차 객체를 나타내는 클래스. 자동차의 제조사, 모델, 연도 및 주행 거리를 추적합니다.\n",
      "    \n"
     ]
    }
   ],
   "source": [
    "my_car = Car(\"현대\", \"아반떼\", 2024)\n",
    "print(my_car.__doc__)"
   ]
  },
  {
   "cell_type": "code",
   "execution_count": 77,
   "id": "2e4d57e7-1b69-46c7-ba64-feabd00d31a7",
   "metadata": {},
   "outputs": [
    {
     "name": "stdout",
     "output_type": "stream",
     "text": [
      "Help on Car in module __main__ object:\n",
      "\n",
      "class Car(builtins.object)\n",
      " |  Car(make: str, model: str, year: int) -> None\n",
      " |\n",
      " |  자동차 객체를 나타내는 클래스. 자동차의 제조사, 모델, 연도 및 주행 거리를 추적합니다.\n",
      " |\n",
      " |  Methods defined here:\n",
      " |\n",
      " |  __init__(self, make: str, model: str, year: int) -> None\n",
      " |      객체가 생성될 때 호출되며 속성을 초기화합니다.\n",
      " |\n",
      " |      Args:\n",
      " |          make (str): 자동차 제조사\n",
      " |          model (str): 자동차 모델\n",
      " |          year (int): 제조 연도\n",
      " |\n",
      " |  get_description(self) -> str\n",
      " |      자동차의 전체 설명을 반환합니다.\n",
      " |\n",
      " |      Returns:\n",
      " |          str: 제조 연도, 제조사, 모델 정보를 포함한 문자열\n",
      " |\n",
      " |  increment_kilometer(self, kilometers: int) -> None\n",
      " |      주행 거리를 일정량 증가시킵니다.\n",
      " |\n",
      " |      Args:\n",
      " |          kilometers (int): 증가시킬 주행 거리 값. 양수여야 함.\n",
      " |\n",
      " |  read_kilometer(self) -> None\n",
      " |      현재 주행 거리를 출력합니다.\n",
      " |\n",
      " |  update_kilometer(self, kilometers: int) -> None\n",
      " |      주행 거리를 새로운 값으로 업데이트합니다.\n",
      " |      새로운 값이 기존 값보다 클 경우에만 업데이트됩니다.\n",
      " |\n",
      " |      Args:\n",
      " |          kilometers (int): 업데이트하려는 주행 거리 값\n",
      " |\n",
      " |  ----------------------------------------------------------------------\n",
      " |  Data descriptors defined here:\n",
      " |\n",
      " |  __dict__\n",
      " |      dictionary for instance variables\n",
      " |\n",
      " |  __weakref__\n",
      " |      list of weak references to the object\n",
      "\n"
     ]
    }
   ],
   "source": [
    "help(my_car)"
   ]
  },
  {
   "cell_type": "markdown",
   "id": "2af4253b-589a-4b8c-8f67-db048642f861",
   "metadata": {},
   "source": [
    "# 다형성 (Polymorphism)\n",
    "- 동일한 문자가 서로 다른 데이터 자료형에서 서로 다른 방식으로 사용됨"
   ]
  },
  {
   "cell_type": "markdown",
   "id": "8207aa39-5ef3-430a-b961-76f59e05ecd1",
   "metadata": {},
   "source": [
    "# 오버라이딩 ( 자식클래스 메서드의 개념을 재정의 )"
   ]
  },
  {
   "cell_type": "code",
   "execution_count": 79,
   "id": "818eb9e7-1a31-46ca-bcfd-864fb209f6d3",
   "metadata": {},
   "outputs": [],
   "source": [
    "#부모 클래스\n",
    "class 동물:\n",
    "    def 울음소리(self):\n",
    "        return \"동물 울음소리\"\n",
    "\n",
    "#자식 클래스\n",
    "class 강아지(동물):\n",
    "    def 울음소리(self):\n",
    "        return \"멍멍\"\n",
    "\n",
    "class 고양이(동물):\n",
    "    def 울음소리(self):\n",
    "        return \"야옹\""
   ]
  },
  {
   "cell_type": "code",
   "execution_count": 81,
   "id": "4bfeae39-2602-4a35-958d-38ba90b3ae7d",
   "metadata": {},
   "outputs": [],
   "source": [
    "# 다형성 함수\n",
    "def make_sound(animal):\n",
    "    print(animal.울음소리())"
   ]
  },
  {
   "cell_type": "code",
   "execution_count": 80,
   "id": "79df0a4a-5aff-4bfb-96a8-3263c63c2243",
   "metadata": {},
   "outputs": [
    {
     "data": {
      "text/plain": [
       "'멍멍'"
      ]
     },
     "execution_count": 80,
     "metadata": {},
     "output_type": "execute_result"
    }
   ],
   "source": [
    "#객체생성\n",
    "dog = 강아지()\n",
    "cat = 고양이()\n",
    "dog.울음소리()"
   ]
  },
  {
   "cell_type": "code",
   "execution_count": 82,
   "id": "eafa0e38-baf2-4a52-9fcd-3ccb6165490c",
   "metadata": {},
   "outputs": [
    {
     "name": "stdout",
     "output_type": "stream",
     "text": [
      "멍멍\n"
     ]
    }
   ],
   "source": [
    "make_sound(dog)"
   ]
  },
  {
   "cell_type": "markdown",
   "id": "849807bf-1f0e-46ab-8682-518e9a44f9e2",
   "metadata": {},
   "source": [
    "# 메서드 오버라이딩"
   ]
  },
  {
   "cell_type": "code",
   "execution_count": 83,
   "id": "e95d3ba1-097c-4425-965c-4540c9765398",
   "metadata": {},
   "outputs": [],
   "source": [
    "from math import pi\n",
    "\n",
    "# 상위클래스 (모양)\n",
    "class Shape:\n",
    "    def __init__(self, name):\n",
    "        self.name = name\n",
    "\n",
    "    def area(self):     # 하위클래스에서 정의 하도록 Pass 하는 것. \n",
    "        pass\n",
    "\n",
    "    def fact(self):\n",
    "        return \"나는 2차원 도형\"\n",
    "\n",
    "# 하위클래스 사각형\n",
    "class Square(Shape):\n",
    "    def __init__(self, length):\n",
    "        super().__init__(\"Square\")\n",
    "        self.length = length\n",
    "\n",
    "    def area(self):\n",
    "        return self.length **2\n",
    "\n",
    "# 하위클래스 원\n",
    "class Circle(Shape):\n",
    "    def __init__(self, radius):\n",
    "        super().__init__(\"Circle\")\n",
    "        self.radius = radius\n",
    "\n",
    "    def area(self):\n",
    "        return pi*self.radius**2"
   ]
  },
  {
   "cell_type": "code",
   "execution_count": 84,
   "id": "c098ab3a-cc12-4020-8559-d2c444b74b66",
   "metadata": {},
   "outputs": [
    {
     "name": "stdout",
     "output_type": "stream",
     "text": [
      "16\n"
     ]
    }
   ],
   "source": [
    "a = Square(4)\n",
    "print(a.area())"
   ]
  },
  {
   "cell_type": "code",
   "execution_count": 85,
   "id": "4b3b4c31-31f0-4047-b82c-9be31685fb04",
   "metadata": {},
   "outputs": [
    {
     "name": "stdout",
     "output_type": "stream",
     "text": [
      "50.26548245743669\n"
     ]
    }
   ],
   "source": [
    "b = Circle(4)\n",
    "print(b.area())"
   ]
  },
  {
   "cell_type": "markdown",
   "id": "d40c95a2-f33d-4507-8c2b-ae090233c4ee",
   "metadata": {},
   "source": [
    "# 연산자 오버로딩\n",
    "-operator overloading"
   ]
  },
  {
   "cell_type": "code",
   "execution_count": 86,
   "id": "1dd9f9e4-570d-46b2-94f6-60f69615882a",
   "metadata": {},
   "outputs": [
    {
     "name": "stdout",
     "output_type": "stream",
     "text": [
      "5\n"
     ]
    }
   ],
   "source": [
    "a = 2\n",
    "b = 3\n",
    "\n",
    "c = a + b\n",
    "print(c)"
   ]
  },
  {
   "cell_type": "code",
   "execution_count": 87,
   "id": "5af6e661-208e-4b31-a18f-53acff6dfad5",
   "metadata": {},
   "outputs": [
    {
     "name": "stdout",
     "output_type": "stream",
     "text": [
      "<class 'int'>\n"
     ]
    }
   ],
   "source": [
    "print(type(a))"
   ]
  },
  {
   "cell_type": "code",
   "execution_count": 89,
   "id": "819de631-2411-4211-98d3-63eac9d76771",
   "metadata": {},
   "outputs": [
    {
     "name": "stdout",
     "output_type": "stream",
     "text": [
      "5\n"
     ]
    }
   ],
   "source": [
    "d = a.__add__(b)\n",
    "\n",
    "print(d)"
   ]
  },
  {
   "cell_type": "code",
   "execution_count": 91,
   "id": "6a2555ac-ab06-41a9-a6f6-517cce1e72c9",
   "metadata": {},
   "outputs": [
    {
     "ename": "TypeError",
     "evalue": "unsupported operand type(s) for +: 'A' and 'A'",
     "output_type": "error",
     "traceback": [
      "\u001b[1;31m---------------------------------------------------------------------------\u001b[0m",
      "\u001b[1;31mTypeError\u001b[0m                                 Traceback (most recent call last)",
      "Cell \u001b[1;32mIn[91], line 8\u001b[0m\n\u001b[0;32m      5\u001b[0m a1 \u001b[38;5;241m=\u001b[39m A(\u001b[38;5;241m2\u001b[39m)\n\u001b[0;32m      6\u001b[0m a2 \u001b[38;5;241m=\u001b[39m A(\u001b[38;5;241m3\u001b[39m)\n\u001b[1;32m----> 8\u001b[0m a3 \u001b[38;5;241m=\u001b[39m \u001b[43ma1\u001b[49m\u001b[43m \u001b[49m\u001b[38;5;241;43m+\u001b[39;49m\u001b[43m \u001b[49m\u001b[43ma2\u001b[49m\n\u001b[0;32m      9\u001b[0m \u001b[38;5;28mprint\u001b[39m(a3\u001b[38;5;241m.\u001b[39mvalue)\n",
      "\u001b[1;31mTypeError\u001b[0m: unsupported operand type(s) for +: 'A' and 'A'"
     ]
    }
   ],
   "source": [
    "class A:\n",
    "    def __init__(self, value):\n",
    "        self.value = value\n",
    "\n",
    "a1 = A(2)\n",
    "a2 = A(3)\n",
    "\n",
    "a3 = a1 + a2\n",
    "print(a3.value)"
   ]
  },
  {
   "cell_type": "code",
   "execution_count": 92,
   "id": "42d90092-506d-48c7-8f8d-5fa775efd2ec",
   "metadata": {},
   "outputs": [
    {
     "name": "stdout",
     "output_type": "stream",
     "text": [
      "5\n"
     ]
    }
   ],
   "source": [
    "class A:\n",
    "    def __init__(self, value):\n",
    "        self.value = value\n",
    "\n",
    "    # 연산자 오버로딩 -> 클래스들 끼리 연산할 때 \n",
    "    def __add__(self, other):\n",
    "        result = self.value + other.value\n",
    "        return A(result)\n",
    "        \n",
    "a1 = A(2)\n",
    "a2 = A(3)\n",
    "\n",
    "a3 = a1 + a2\n",
    "print(a3.value)"
   ]
  },
  {
   "cell_type": "markdown",
   "id": "d1889ff0-8dad-4b4a-92e8-f87c6f4a2b30",
   "metadata": {},
   "source": [
    "# 예제 2. 책 관리 시스템\n",
    "- 여러분은 간단한 책 관리 시스템을 만들어야 합니다. Book 클래스를 사용하여 책의 정보를 저장하고, 책을 읽고, 현재 페이지를 업데이트하는 프로그램을 작성하세요.\n",
    "- 여러 Book 객체를 생성하고, 각 책에 대해 다음 작업을 수행하세요.\n",
    "    + 책의 설명을 출력하세요.\n",
    "    + 책을 읽고, 현재 페이지를 업데이트하고, 책 읽기 진행 상황을 출력하세요.\n",
    "    + 읽을 페이지 수가 전체 페이지 수를 초과할 경우, 오류 메시지를 출력하세요."
   ]
  },
  {
   "cell_type": "code",
   "execution_count": 44,
   "id": "c1deb2d8-d7f4-432f-8685-c3fa1438eb3f",
   "metadata": {},
   "outputs": [
    {
     "name": "stdout",
     "output_type": "stream",
     "text": [
      "총 페이지수를 초과할 수 없습니다.\n"
     ]
    }
   ],
   "source": [
    "class Book:\n",
    "    def __init__(self, name, author, pages):\n",
    "        self.name = name\n",
    "        self.author = author\n",
    "        self.pages = pages\n",
    "        self.currunt_page = 0\n",
    "\n",
    "    def get_description(self):\n",
    "        return f\"'{self.name}', 저자 : {self.author}, 총 {self.pages}페이지\"\n",
    "\n",
    "    def read(self, pages):\n",
    "        if self.currunt_page + pages < self.pages:\n",
    "            self.currunt_page += pages\n",
    "            print(f\"{pages}읽었습니다. 현재 {currunt_page}에 있습니다.\")\n",
    "        \n",
    "        else:\n",
    "            print(\"총 페이지수를 초과할 수 없습니다.\")\n",
    "\n",
    "my_book = Book(\"Python\", \"wonny\", 200)\n",
    "my_book.get_description()\n",
    "my_book.read(400)"
   ]
  },
  {
   "cell_type": "code",
   "execution_count": 116,
   "id": "d829a605-30c3-4ad6-90d4-cb2d6fc1a244",
   "metadata": {},
   "outputs": [
    {
     "data": {
      "text/plain": [
       "\"'A' (저자: evan, 총 300페이지)\""
      ]
     },
     "execution_count": 116,
     "metadata": {},
     "output_type": "execute_result"
    }
   ],
   "source": [
    "class Book:\n",
    "    def __init__(self, title, author, pages):\n",
    "        self.title = title\n",
    "        self.author = author\n",
    "        self.pages = pages\n",
    "        self.current_page = 0\n",
    "\n",
    "    def get_description(self):\n",
    "        return f\"'{self.title}' (저자: {self.author}, 총 {self.pages}페이지)\"\n",
    "        \n",
    "    def read(self, pages):\n",
    "        if self.current_page + pages <= self.pages:\n",
    "            self.current_page += pages\n",
    "            print(f\"{pages}페이지를 읽었습니다. 현재 {self.current_page}페이지에 있습니다.\")\n",
    "        else:\n",
    "            print(f\"책의 총 페이지 수를 초과할 수 없습니다!\")\n",
    "\n",
    "    def book_progress(self):\n",
    "        print(f\"이 책은 총 {self.pages}페이지이며, 현재 {self.current_page}페이지를 읽었습니다.\")\n",
    "\n",
    "book1 = Book('A', 'evan', 300)\n",
    "book1.get_description()"
   ]
  },
  {
   "cell_type": "code",
   "execution_count": 117,
   "id": "51adf35f-b14f-434f-8844-d9c6a1236045",
   "metadata": {},
   "outputs": [
    {
     "name": "stdout",
     "output_type": "stream",
     "text": [
      "'오만과 편견' (저자: 제인 오스틴, 총 279페이지)\n",
      "'앵무새 죽이기' (저자: 하퍼 리, 총 281페이지)\n",
      "'위대한 개츠비' (저자: F. 스콧 피츠제럴드, 총 180페이지)\n",
      "50페이지를 읽었습니다. 현재 50페이지에 있습니다.\n",
      "이 책은 총 279페이지이며, 현재 50페이지를 읽었습니다.\n",
      "30페이지를 읽었습니다. 현재 30페이지에 있습니다.\n",
      "이 책은 총 281페이지이며, 현재 30페이지를 읽었습니다.\n",
      "100페이지를 읽었습니다. 현재 100페이지에 있습니다.\n",
      "이 책은 총 180페이지이며, 현재 100페이지를 읽었습니다.\n",
      "책의 총 페이지 수를 초과할 수 없습니다!\n",
      "이 책은 총 279페이지이며, 현재 50페이지를 읽었습니다.\n"
     ]
    }
   ],
   "source": [
    "# 여러 책 인스턴스 생성\n",
    "book1 = Book('오만과 편견', '제인 오스틴', 279)\n",
    "book2 = Book('앵무새 죽이기', '하퍼 리', 281)\n",
    "book3 = Book('위대한 개츠비', 'F. 스콧 피츠제럴드', 180)\n",
    "\n",
    "# 책 정보 출력\n",
    "print(book1.get_description())\n",
    "print(book2.get_description())\n",
    "print(book3.get_description())\n",
    "\n",
    "# 책 읽기\n",
    "book1.read(50)\n",
    "book1.book_progress()\n",
    "\n",
    "book2.read(30)\n",
    "book2.book_progress()\n",
    "\n",
    "book3.read(100)\n",
    "book3.book_progress()\n",
    "\n",
    "# 페이지 초과 시도\n",
    "book1.read(250)\n",
    "book1.book_progress()"
   ]
  },
  {
   "cell_type": "code",
   "execution_count": null,
   "id": "6e8a1bce-ef0b-4626-91b5-18ab0324c638",
   "metadata": {
    "jupyter": {
     "source_hidden": true
    }
   },
   "outputs": [],
   "source": [
    "## 요구사항\n",
    "- `Spaceship` 클래스를 정의하세요.\n",
    "- 속성\n",
    "    + `color (str):` 우주선의 색상\n",
    "    + `speed (int):` 우주선의 속도\n",
    "    + `passengers (int):` 우주선의 탑승 인원 수\n",
    "- 메서드\n",
    "    + `__init__(self, color: str, speed: int, passengers: int):` 색상, 속도, 탑승 인원 수를 초기화합니다.\n",
    "    + `get_color(self) -> str:` 색상을 반환합니다.\n",
    "    + `set_color(self, color: str):` 색상을 설정합니다.\n",
    "    + `get_speed(self) -> int:` 속도를 반환합니다.\n",
    "    + `set_speed(self, speed: int):` 속도를 설정합니다.\n",
    "    + `get_passengers(self) -> int:` 탑승 인원 수를 반환합니다.\n",
    "    + `set_passengers(self, passengers: int):` 탑승 인원 수를 설정합니다.\n",
    "    + `add_passenger(self):` 탑승 인원 수를 N명 추가합니다.\n",
    "    + `remove_passenger(self):` 탑승 인원 수를 N명 감소시킵니다. 탑승 인원 수가 0명 이하로 내려갈 수 없습니다.\n",
    "    + `increase_speed(self, amount: int):` 속도를 amount만큼 증가시킵니다.\n",
    "    + `decrease_speed(self, amount: int):` 속도를 amount만큼 감소시킵니다. 속도가 0 이하로 내려갈 수 없습니다.\n",
    "    + `get_info(self) -> str:` 현재 우주선의 상태 정보를 반환합니다.\n",
    "\n",
    "## 시뮬레이션 테스트\n",
    "- 시뮬레이션 프로그램을 작성하세요.\n",
    "    + 사용자는 다음 작업을 선택할 수 있습니다:\n",
    "    + 우주선의 색상을 설정합니다.\n",
    "    + 속도를 증가시킵니다.\n",
    "    + 속도를 감소시킵니다.\n",
    "    + 탑승 인원 수를 N명 추가합니다.\n",
    "    + 탑승 인원 수를 N명 감소합니다.\n",
    "    + 시뮬레이션을 종료합니다.\n",
    "    \n",
    "\"\"\""
   ]
  },
  {
   "cell_type": "code",
   "execution_count": 128,
   "id": "1d5b9b0c-6ff4-44b3-933a-e5e390412e8b",
   "metadata": {
    "jupyter": {
     "source_hidden": true
    }
   },
   "outputs": [],
   "source": [
    "class Spaceship:  #내 답\n",
    "    def __init__(self, color, speed, passengers):\n",
    "        self.color = color\n",
    "        self.speed = speed\n",
    "        self.passengers = passengers\n",
    "\n",
    "    def get_color(self):\n",
    "        return self.color\n",
    "\n",
    "    def set_color(self, color):\n",
    "        self.color = color\n",
    "\n",
    "    def get_speed(self):\n",
    "        return self.speed\n",
    "\n",
    "    def set_speed(self, speed):\n",
    "        self.speed = speed\n",
    "\n",
    "    def get_passengers(self):\n",
    "        return self.passengers\n",
    "\n",
    "    def set_passengers(self, passengers):\n",
    "        self.passengers = passengers\n",
    "\n",
    "    def add_passenger(self):\n",
    "        def add_passenger(self, passengers: int) -> int:\n",
    "            self.add_passenger += passengers \n",
    "            return self.add_passenger      \n",
    "\n",
    "\n",
    "    def remove_passenger(self):\n",
    "        if self.passenger > 0:\n",
    "            result(self.passenger - self.remove_passenger)\n",
    "            print(result)\n",
    "        else:\n",
    "            print(\"탑승 인원 수가 0명 이하로 내려갈 수 없습니다.\")\n",
    "            \n",
    "    def increase_speed(self, amount):\n",
    "        pass\n",
    "        \n",
    "    def decrease_speed(self, amount: int):\n",
    "        if self.speed > 0:\n",
    "            result(self.speed - self.decrease_speed)\n",
    "            print(result)\n",
    "        else:\n",
    "            print(\"속도가 0 이하로 내려갈 수 없습니다.\")\n",
    "\n",
    "    def get_info(self):\n",
    "        pass"
   ]
  }
 ],
 "metadata": {
  "kernelspec": {
   "display_name": "Python 3 (ipykernel)",
   "language": "python",
   "name": "python3"
  },
  "language_info": {
   "codemirror_mode": {
    "name": "ipython",
    "version": 3
   },
   "file_extension": ".py",
   "mimetype": "text/x-python",
   "name": "python",
   "nbconvert_exporter": "python",
   "pygments_lexer": "ipython3",
   "version": "3.12.6"
  }
 },
 "nbformat": 4,
 "nbformat_minor": 5
}
