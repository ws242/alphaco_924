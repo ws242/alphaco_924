{
 "cells": [
  {
   "cell_type": "markdown",
   "id": "57145fb4-02e5-4662-ac38-3b90d6dae0e5",
   "metadata": {},
   "source": [
    "# 문제 1. \n",
    "- 변수 a에 정수 10을, 변수 b에 실수 5.5를 할당하고, 두 변수를 더한 결과의 데이터 타입을 출력하세요."
   ]
  },
  {
   "cell_type": "code",
   "execution_count": 6,
   "id": "d87c424d-1527-4f24-a8c8-0a7e92337e39",
   "metadata": {},
   "outputs": [
    {
     "name": "stdout",
     "output_type": "stream",
     "text": [
      "<class 'float'>\n"
     ]
    }
   ],
   "source": [
    "a = int(10)\n",
    "b = float(5.5)\n",
    "result = a+b\n",
    "print(type(result))"
   ]
  },
  {
   "cell_type": "markdown",
   "id": "e0f50968-ef17-4c64-ac01-9faf13bf9dc0",
   "metadata": {},
   "source": [
    "# 문제 2\n",
    "- 문자열 \"100\"과 정수 50을 더하려고 할 때 발생하는 오류를 설명하고, 이를 해결하는 방법을 보여주세요."
   ]
  },
  {
   "cell_type": "code",
   "execution_count": 4,
   "id": "e31d1268-5144-46a4-832a-9990d0850ec1",
   "metadata": {},
   "outputs": [
    {
     "data": {
      "text/plain": [
       "150"
      ]
     },
     "execution_count": 4,
     "metadata": {},
     "output_type": "execute_result"
    }
   ],
   "source": [
    "int(\"100\") + 50"
   ]
  },
  {
   "cell_type": "markdown",
   "id": "35147345-b3fb-4f2c-a54a-4c33390683f2",
   "metadata": {},
   "source": [
    "# 문제 3. \n",
    "- 리스트 [1, 2, 3]와 튜플 (4, 5, 6)을 더할 수 있는지 확인하고, 가능하다면 결과를 출력하세요."
   ]
  },
  {
   "cell_type": "code",
   "execution_count": 1,
   "id": "be3d0340-7530-45b3-bd0e-7d550a05857b",
   "metadata": {},
   "outputs": [
    {
     "name": "stdout",
     "output_type": "stream",
     "text": [
      "[1, 2, 3, 4, 5, 6]\n"
     ]
    }
   ],
   "source": [
    "list_data = [1, 2, 3]\n",
    "tuple_data = (4, 5, 6)\n",
    "\n",
    "# result = list + tuple   => type error\n",
    "\n",
    "result = list_data + list(tuple_data)\n",
    "print(result)"
   ]
  },
  {
   "cell_type": "markdown",
   "id": "b32e71e7-cc86-4f53-a05b-6cc34e0e73ba",
   "metadata": {},
   "source": [
    "# 문제 4. \n",
    "- 변수 x에 None을 할당하고, 이를 다른 데이터 타입으로 변환할 수 있는지 확인하세요."
   ]
  },
  {
   "cell_type": "code",
   "execution_count": 24,
   "id": "10e7ed60-5bbf-4833-b1e8-294750a8155a",
   "metadata": {},
   "outputs": [
    {
     "name": "stdout",
     "output_type": "stream",
     "text": [
      "<class 'NoneType'>\n"
     ]
    }
   ],
   "source": [
    "x = None\n",
    "\n",
    "# int(x) #TypeError int() argument must be a string, a bytes-like object or a real number, not 'NoneType'\n",
    "print(type(x))"
   ]
  },
  {
   "cell_type": "markdown",
   "id": "8ded1f62-75d6-4e24-a9f3-a90e092957ba",
   "metadata": {},
   "source": [
    "# 문제 5. \n",
    "- 변수 a에 정수 3을 할당하고, 이를 부동 소수점 숫자 3.0으로 자동 변환하도록 하세요."
   ]
  },
  {
   "cell_type": "code",
   "execution_count": 5,
   "id": "857abe37-133c-4227-9159-ea70fb5e0541",
   "metadata": {},
   "outputs": [
    {
     "data": {
      "text/plain": [
       "3.0"
      ]
     },
     "execution_count": 5,
     "metadata": {},
     "output_type": "execute_result"
    }
   ],
   "source": [
    "a=int(3)\n",
    "float(a)"
   ]
  },
  {
   "cell_type": "code",
   "execution_count": 25,
   "id": "c292a574-d8a9-4ab2-8668-bfaebc4af987",
   "metadata": {},
   "outputs": [
    {
     "name": "stdout",
     "output_type": "stream",
     "text": [
      "3.0\n"
     ]
    }
   ],
   "source": [
    "a=int(3)\n",
    "result=float(a)\n",
    "\n",
    "print(result)"
   ]
  },
  {
   "cell_type": "markdown",
   "id": "6d40d1f0-063c-4bc3-bcf8-7d2bd55cf7eb",
   "metadata": {},
   "source": [
    "# 문제 6. \n",
    "- 변수 s에 문자열 \"Hello\"를 할당하고, 이를 3번 반복한 결과의 데이터 타입을 확인하세요."
   ]
  },
  {
   "cell_type": "code",
   "execution_count": 2,
   "id": "716f6a1c-c443-48fe-b7af-071843cf84ae",
   "metadata": {},
   "outputs": [
    {
     "name": "stdout",
     "output_type": "stream",
     "text": [
      "HelloHelloHello\n",
      "<class 'str'>\n"
     ]
    }
   ],
   "source": [
    "s = \"Hello\"\n",
    "result = s * 3\n",
    "print(result)\n",
    "print(type(result))"
   ]
  },
  {
   "cell_type": "markdown",
   "id": "19023327-8560-4aa4-bf63-0de4391f4c17",
   "metadata": {},
   "source": [
    "# 문제 7. \n",
    "- 변수 x에 정수 7을 할당하고, 이를 문자열로 변환한 후 문자열 \"3\"과 더해보세요."
   ]
  },
  {
   "cell_type": "code",
   "execution_count": 5,
   "id": "a3e045cc-5c83-4ed8-800b-99cddd0f04be",
   "metadata": {},
   "outputs": [
    {
     "name": "stdout",
     "output_type": "stream",
     "text": [
      "73\n"
     ]
    }
   ],
   "source": [
    "x = 7\n",
    "result = str(x) + \"3\"\n",
    "print(result)"
   ]
  },
  {
   "cell_type": "markdown",
   "id": "ac1815d1-8d21-4144-8696-41a5029ab6d6",
   "metadata": {},
   "source": [
    "# 문제 8. \n",
    "- 변수 a에 True, 변수 b에 False를 할당하고, 두 값을 더한 결과와 그 데이터 타입을 확인하세요."
   ]
  },
  {
   "cell_type": "code",
   "execution_count": 9,
   "id": "c3126ec1-ff6c-466f-8d4a-5b020ca9a9c9",
   "metadata": {},
   "outputs": [
    {
     "name": "stdout",
     "output_type": "stream",
     "text": [
      "1\n",
      "<class 'int'>\n"
     ]
    }
   ],
   "source": [
    "a = True\n",
    "b = False\n",
    "\n",
    "print(a+b)\n",
    "print(type(a+b))"
   ]
  },
  {
   "cell_type": "markdown",
   "id": "5a1a36ab-b6c6-4db8-a866-f0616650fc07",
   "metadata": {},
   "source": [
    "# 문제 9. \n",
    "- 변수 a에 25를 할당하고, 이 값을 0.5로 나눈 결과와 그 데이터 타입을 확인하세요."
   ]
  },
  {
   "cell_type": "code",
   "execution_count": 12,
   "id": "2be8542e-320c-4d45-8be1-0c08c4f57ad3",
   "metadata": {},
   "outputs": [
    {
     "name": "stdout",
     "output_type": "stream",
     "text": [
      "0.0\n",
      "<class 'float'>\n"
     ]
    }
   ],
   "source": [
    "a = 25\n",
    "\n",
    "print(a % 0.5)\n",
    "print(type(a%0.5))"
   ]
  },
  {
   "cell_type": "code",
   "execution_count": 26,
   "id": "039dd955-4d0e-4019-87cb-a6790c265fa9",
   "metadata": {},
   "outputs": [
    {
     "name": "stdout",
     "output_type": "stream",
     "text": [
      "0.0\n",
      "<class 'float'>\n"
     ]
    }
   ],
   "source": [
    "a = 25\n",
    "result = a % 0.5\n",
    "\n",
    "print(result)\n",
    "print(type(result))"
   ]
  },
  {
   "cell_type": "markdown",
   "id": "0d1febb9-486e-4e2b-837e-df8a6483aa29",
   "metadata": {},
   "source": [
    "# 문제 10. \n",
    "- 변수 text에 문자열 \"12345\"를 할당하고, 이를 정수형으로 변환한 후, 10을 더한 결과를 출력하세요."
   ]
  },
  {
   "cell_type": "code",
   "execution_count": 14,
   "id": "ca6b2c3e-d395-4264-a85c-32ba972f32a9",
   "metadata": {},
   "outputs": [
    {
     "data": {
      "text/plain": [
       "12355"
      ]
     },
     "execution_count": 14,
     "metadata": {},
     "output_type": "execute_result"
    }
   ],
   "source": [
    "text = \"12345\"\n",
    "int(text) + 10"
   ]
  },
  {
   "cell_type": "markdown",
   "id": "ceaecb19-8b71-419e-810e-0585b7e82065",
   "metadata": {},
   "source": [
    "# 문제 11. \n",
    "- 리스트 [10, 20, 30, 40, 50]에서 가장 큰 값을 찾아서 출력하세요."
   ]
  },
  {
   "cell_type": "code",
   "execution_count": 8,
   "id": "fc595dcc-d924-4cf1-aab0-1689da20fef2",
   "metadata": {},
   "outputs": [
    {
     "name": "stdout",
     "output_type": "stream",
     "text": [
      "50\n"
     ]
    }
   ],
   "source": [
    "numbers= [10, 20, 30, 40, 50]\n",
    "max_value = max(numbers)\n",
    "print(max_value)"
   ]
  },
  {
   "cell_type": "markdown",
   "id": "fb5ce4e5-3851-4a94-9e79-8ac74d4b3ace",
   "metadata": {},
   "source": [
    "# 문제 12. \n",
    "- 리스트 [1, 2, 3, 4, 5]에서 모든 요소를 더한 결과를 출력하세요."
   ]
  },
  {
   "cell_type": "code",
   "execution_count": 9,
   "id": "6f460d91-020b-4ef9-b190-0a7f672ae506",
   "metadata": {},
   "outputs": [
    {
     "name": "stdout",
     "output_type": "stream",
     "text": [
      "150\n"
     ]
    }
   ],
   "source": [
    "a = [1, 2, 3, 4, 5]\n",
    "sum_value = sum(numbers)\n",
    "print(sum_value)"
   ]
  },
  {
   "cell_type": "markdown",
   "id": "63e0e25c-abee-46f6-9e3a-2fcbb787f955",
   "metadata": {},
   "source": [
    "# 문제 13. \n",
    "- 튜플 (5, 10, 15, 20)에서 두 번째 요소를 출력하세요."
   ]
  },
  {
   "cell_type": "code",
   "execution_count": 17,
   "id": "915f771d-5f99-4217-9833-7667e5dd724a",
   "metadata": {},
   "outputs": [
    {
     "data": {
      "text/plain": [
       "10"
      ]
     },
     "execution_count": 17,
     "metadata": {},
     "output_type": "execute_result"
    }
   ],
   "source": [
    "a = (5, 10, 15, 20)\n",
    "a[1]"
   ]
  },
  {
   "cell_type": "markdown",
   "id": "c3ff833f-3b33-4020-8f9f-6d24fe5c3107",
   "metadata": {},
   "source": [
    "# 문제 14. \n",
    "- 튜플 (1, 2, 3)와 (4, 5, 6)을 합쳐서 새로운 튜플을 만들고 출력하세요."
   ]
  },
  {
   "cell_type": "code",
   "execution_count": 12,
   "id": "02fc4d25-8c86-4669-b0f4-da27351808af",
   "metadata": {},
   "outputs": [
    {
     "name": "stdout",
     "output_type": "stream",
     "text": [
      "(1, 2, 3, 4, 5, 6)\n"
     ]
    }
   ],
   "source": [
    "tuple1 = (1, 2, 3)\n",
    "tuple2 = (4, 5, 6)\n",
    "\n",
    "combined_tuple = tuple1 + tuple2\n",
    "print(combined_tuple)"
   ]
  },
  {
   "cell_type": "markdown",
   "id": "b3ec17a7-724e-4d39-af1e-44a243dbdaa9",
   "metadata": {},
   "source": [
    "# 문제 15. \n",
    "- 딕셔너리 {'a': 1, 'b': 2, 'c': 3}에서 키 'b'의 값을 10으로 변경하고 출력하세요."
   ]
  },
  {
   "cell_type": "code",
   "execution_count": 3,
   "id": "035247a6-f465-4054-ba43-306430f03cff",
   "metadata": {},
   "outputs": [
    {
     "name": "stdout",
     "output_type": "stream",
     "text": [
      "{'a': 1, 'b': 10, 'c': 3}\n"
     ]
    }
   ],
   "source": [
    "my_dic = {'a': 1, 'b': 2, 'c': 3}\n",
    "my_dic['b']=10\n",
    "\n",
    "print(my_dic)"
   ]
  },
  {
   "cell_type": "code",
   "execution_count": 15,
   "id": "811ddb5a-4a94-42d1-8ea6-519cc99e5e3d",
   "metadata": {},
   "outputs": [
    {
     "name": "stdout",
     "output_type": "stream",
     "text": [
      "{'a': 1, 'b': 10, 'c': 3}\n"
     ]
    }
   ],
   "source": [
    "my_dic={'a':1, 'b': 2, 'c':3}\n",
    "my_dic['b'] = 10\n",
    "print(my_dic)"
   ]
  },
  {
   "cell_type": "markdown",
   "id": "17490123-2062-4463-a1e2-9700dd2ac32f",
   "metadata": {},
   "source": [
    "# 문제 16.\n",
    "- 딕셔너리 {'name': 'Alice', 'age': 25, 'city': 'New York'}에서 모든 키를 출력하세요."
   ]
  },
  {
   "cell_type": "code",
   "execution_count": 5,
   "id": "ab1c3ca3-321a-4893-8a7f-9f2e09a6561b",
   "metadata": {},
   "outputs": [
    {
     "name": "stdout",
     "output_type": "stream",
     "text": [
      "dict_keys(['name', 'age', 'city'])\n"
     ]
    }
   ],
   "source": [
    "my_dic2 = {'name': 'Alice', 'age': 25, 'city': 'New York'}\n",
    "keys = my_dic2.keys()\n",
    "\n",
    "print(keys)"
   ]
  },
  {
   "cell_type": "code",
   "execution_count": 16,
   "id": "4df8df59-3e26-4eed-9e74-168b162824ed",
   "metadata": {},
   "outputs": [
    {
     "name": "stdout",
     "output_type": "stream",
     "text": [
      "dict_keys(['name', 'age', 'city'])\n"
     ]
    }
   ],
   "source": [
    "my_dic={'name': 'Alice', 'age': 25, 'city': 'New York'}\n",
    "\n",
    "keys = my_dic.keys()\n",
    "print(keys)"
   ]
  },
  {
   "cell_type": "markdown",
   "id": "4709442c-50a2-46dd-bf93-f894514f1c4c",
   "metadata": {},
   "source": [
    "# 문제 17. \n",
    "- while 루프를 사용하여 1부터 5까지의 숫자를 출력하세요."
   ]
  },
  {
   "cell_type": "code",
   "execution_count": 7,
   "id": "f20b64ac-1687-4aaf-8731-76b99c8b4d6a",
   "metadata": {},
   "outputs": [
    {
     "name": "stdout",
     "output_type": "stream",
     "text": [
      "1\n",
      "2\n",
      "3\n",
      "4\n",
      "5\n"
     ]
    }
   ],
   "source": [
    "i = 1\n",
    "\n",
    "while i <= 5:\n",
    "    print(i)\n",
    "    i += 1\n",
    "    "
   ]
  },
  {
   "cell_type": "markdown",
   "id": "56dddd10-7ac5-475e-9508-b21e4e12c0f9",
   "metadata": {},
   "source": [
    "# 문제 18. \n",
    "- while 루프를 사용하여 10부터 1까지 거꾸로 숫자를 출력하세요."
   ]
  },
  {
   "cell_type": "code",
   "execution_count": 9,
   "id": "78e099e2-bc3b-4ab5-8713-672d2207c904",
   "metadata": {},
   "outputs": [
    {
     "name": "stdout",
     "output_type": "stream",
     "text": [
      "10\n",
      "9\n",
      "8\n",
      "7\n",
      "6\n",
      "5\n",
      "4\n",
      "3\n",
      "2\n",
      "1\n"
     ]
    }
   ],
   "source": [
    "i = 10\n",
    "\n",
    "while i >= 1:\n",
    "    print(i)\n",
    "    i -= 1"
   ]
  },
  {
   "cell_type": "markdown",
   "id": "3e9cbe53-91b2-45b5-a51d-0c44cc097aa5",
   "metadata": {},
   "source": [
    "# 문제 19. \n",
    "- for 루프를 사용하여 리스트 [2, 4, 6, 8, 10]의 각 요소에 2를 곱한 값을 출력하세요."
   ]
  },
  {
   "cell_type": "code",
   "execution_count": 17,
   "id": "5bca6b6b-7dcc-42bd-9f39-72b8c7ee8ba8",
   "metadata": {},
   "outputs": [
    {
     "name": "stdout",
     "output_type": "stream",
     "text": [
      "[4, 8, 12, 16, 20]\n"
     ]
    }
   ],
   "source": [
    "my_list = [2, 4, 6, 8, 10]\n",
    "result = [ i * 2 for i in my_list ] \n",
    "\n",
    "print(result)"
   ]
  },
  {
   "cell_type": "code",
   "execution_count": 29,
   "id": "5ef3d0fb-145f-4998-a5c8-1e069aed6b2f",
   "metadata": {},
   "outputs": [
    {
     "name": "stdout",
     "output_type": "stream",
     "text": [
      "[4, 8, 12, 16, 20]\n"
     ]
    }
   ],
   "source": [
    "my_list = [2, 4, 6, 8, 10]\n",
    "result = []\n",
    "\n",
    "for a in my_list:\n",
    "    result.append(a*2)\n",
    "\n",
    "print(result)"
   ]
  },
  {
   "cell_type": "code",
   "execution_count": 17,
   "id": "9e80efde-c8dc-4d00-90ac-3569931d618b",
   "metadata": {},
   "outputs": [
    {
     "name": "stdout",
     "output_type": "stream",
     "text": [
      "4\n",
      "8\n",
      "12\n",
      "16\n",
      "20\n"
     ]
    }
   ],
   "source": [
    "numbers = [2, 4, 6, 8, 10]\n",
    "for a in numbers:\n",
    "    print(a*2)"
   ]
  },
  {
   "cell_type": "markdown",
   "id": "0a2c30f3-d80c-4137-ac8d-488feb20668d",
   "metadata": {},
   "source": [
    "# 문제 20. \n",
    "- for 루프를 사용하여 문자열 \"Python\"의 각 문자를 출력하세요."
   ]
  },
  {
   "cell_type": "code",
   "execution_count": 20,
   "id": "6b07b0cf-09e5-471d-a5d7-3aeab30d3cbe",
   "metadata": {},
   "outputs": [
    {
     "name": "stdout",
     "output_type": "stream",
     "text": [
      "P\n",
      "y\n",
      "t\n",
      "h\n",
      "o\n",
      "n\n"
     ]
    }
   ],
   "source": [
    "str_word = \"Python\"\n",
    "\n",
    "for k in str_word:\n",
    "    print(k)"
   ]
  },
  {
   "cell_type": "code",
   "execution_count": 26,
   "id": "8b923ef6-d570-4c39-a9a0-957bf8ea7590",
   "metadata": {},
   "outputs": [
    {
     "name": "stdout",
     "output_type": "stream",
     "text": [
      "P\n",
      "y\n",
      "t\n",
      "h\n",
      "o\n",
      "n\n"
     ]
    }
   ],
   "source": [
    "a=\"Python\"\n",
    "\n",
    "for x in a:\n",
    "    print(x)"
   ]
  }
 ],
 "metadata": {
  "kernelspec": {
   "display_name": "Python 3 (ipykernel)",
   "language": "python",
   "name": "python3"
  },
  "language_info": {
   "codemirror_mode": {
    "name": "ipython",
    "version": 3
   },
   "file_extension": ".py",
   "mimetype": "text/x-python",
   "name": "python",
   "nbconvert_exporter": "python",
   "pygments_lexer": "ipython3",
   "version": "3.12.6"
  }
 },
 "nbformat": 4,
 "nbformat_minor": 5
}
